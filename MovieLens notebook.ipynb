{
 "cells": [
  {
   "cell_type": "markdown",
   "metadata": {},
   "source": [
    "# MovieLens Recommendation System"
   ]
  },
  {
   "cell_type": "markdown",
   "metadata": {},
   "source": [
    "# Contents\n",
    "\n",
    "### 1. [Overview](#overview)\n",
    "### 2. [Business and Data Understanding](#bidness)\n",
    "### 3. [Data Preparation](#dataprep)\n",
    "### 4. [Modeling](#modeling)\n",
    "####     4.1 [Using Surprise](#surprise)\n",
    "####     4.2 [Baseline Models](#baseline)\n",
    "####     4.3 [Initial SVD Models](#svd)\n",
    "####     4.4 [SVD Gridsearch](#grid)\n",
    "#####      4.41 [The algorithm ultimately used for final model](#svdgs3)\n",
    "####     4.5 [Non-negative Matrix Function](#nnmf)\n",
    "####     4.6 [SVD++](#svd++)\n",
    "### 5. [Final Model Evaluation](#final)\n",
    "####     5.1 [Recommendation Function](#rec)\n",
    "####     5.2 [Content-based Filtering](#content)\n",
    "### 6. [Summary](#summary)"
   ]
  },
  {
   "cell_type": "markdown",
   "metadata": {},
   "source": [
    "![covers](images/movie_covers.jpg)"
   ]
  },
  {
   "cell_type": "markdown",
   "metadata": {},
   "source": [
    "<a id='overview'></a>"
   ]
  },
  {
   "cell_type": "markdown",
   "metadata": {},
   "source": [
    "# Overview"
   ]
  },
  {
   "cell_type": "markdown",
   "metadata": {},
   "source": [
    "Using the __[\"small\" dataset](https://grouplens.org/datasets/movielens/latest/)__ from __[MovieLens](https://movielens.org/)__, which contains explicit user ratings, movie titles, genres, etc., we were able to produce a model-based collaborative filtering recommendation system that allows for user input and will return the top 5 recommendations of movies from the dataset that the user has not yet rated.  Our process involved using the Surprise Python scikit library to process data and iterate through multiple recommender algorithms (including SVD and SVD++), using GridSearch, cross-validation and RMSE to decide on our best-performing model.  Our final model used a tuned SVD algorithm with an RMSE of 0.8457.  We also created a content-based filtering model, using TF-IDF Vectorizer and cosine similarity, to address the \"cold start\" problem inherent in collaborative filtering models.  With this model, a user who is not already in the dataset can input a known movie from the dataset and be returned 5 movie recommendations to choose from."
   ]
  },
  {
   "cell_type": "markdown",
   "metadata": {},
   "source": [
    "<a id='bidness'></a>"
   ]
  },
  {
   "cell_type": "markdown",
   "metadata": {},
   "source": [
    "# Business and Data Understanding"
   ]
  },
  {
   "cell_type": "markdown",
   "metadata": {},
   "source": [
    "![just_watch](images/just_watch_logo_resize.png)"
   ]
  },
  {
   "cell_type": "markdown",
   "metadata": {},
   "source": [
    "We will present to the __[JustWatch](https://www.justwatch.com/)__ streaming guide app, with the premise that they can provide movie recommendations to customers who already use their service to search across streaming platforms for a specific movie and create watchlists.  \n",
    "\n",
    "The MovieLens small dataset contains 100,836 user ratings from 610 different users, each of whom contributed at least 20 ratings.  A total of 9,742 movie titles are included in this dataset.  There are two additional .csv files contained within the package download that we did not end up using.  One file contained 3,683 tags (\"a single word or short phrase\") that users applied with their numerical rating, which represented less than 4% of the total ratings in the dataset.  The other file contained links of each movie in the dataset to its listing on __[The Movie Database](https://www.themoviedb.org/)__ or on the __[Internet Movie Database](https://www.imdb.com/)__\n",
    "\n",
    "The MovieLens dataset was specifically developed with recommendation system building in mind.  The data contains explicit user ratings, movie titles, and genres with consistent user ID and movie ID indices across files.  The business problem we were tasked with was to \"build a model that provides top 5 movie recommendations to a user, based on their ratings of other movies\".  Though movie recommendation systems are now common-place in the streaming apps we have available, understanding the architecture of these everyday models may allow us to expand their use into other realms, or at least refine what a model can currently provide, with the goal of delivering the most customized experience to an individual user.  \n",
    "\n",
    "Citation included in the README.txt:  \n",
    "F. Maxwell Harper and Joseph A. Konstan. 2015. The MovieLens Datasets: History and Context. ACM Transactions on Interactive Intelligent Systems (TiiS) 5, 4: 19:1–19:19. <https://doi.org/10.1145/2827872>\n",
    "\n",
    "Additional citations at end of notebook."
   ]
  },
  {
   "cell_type": "markdown",
   "metadata": {},
   "source": [
    "<a id='dataprep'></a>"
   ]
  },
  {
   "cell_type": "markdown",
   "metadata": {},
   "source": [
    "# Data Preparation "
   ]
  },
  {
   "cell_type": "markdown",
   "metadata": {},
   "source": [
    "Below we will start with the necessary imports for this Jupyter Notebook, load in the data (with brief explanations for each file), and create a combined dataframe for later modeling.  "
   ]
  },
  {
   "cell_type": "markdown",
   "metadata": {},
   "source": [
    "## Imports"
   ]
  },
  {
   "cell_type": "code",
   "execution_count": 1,
   "metadata": {},
   "outputs": [],
   "source": [
    "import pandas as pd\n",
    "import numpy as np\n",
    "import matplotlib.pyplot as plt\n",
    "%matplotlib inline\n",
    "import random\n",
    "\n",
    "from surprise import Dataset, Reader, accuracy\n",
    "from surprise.model_selection import cross_validate, train_test_split, GridSearchCV\n",
    "from surprise.prediction_algorithms import SVD, SVDpp, NMF, BaselineOnly, NormalPredictor \n",
    "\n",
    "from sklearn.feature_extraction.text import TfidfVectorizer\n",
    "from sklearn.metrics.pairwise import cosine_similarity"
   ]
  },
  {
   "cell_type": "markdown",
   "metadata": {},
   "source": [
    "## Loading in data files"
   ]
  },
  {
   "cell_type": "markdown",
   "metadata": {},
   "source": [
    "Again, data was downloaded from the __[\"small\" dataset](https://grouplens.org/datasets/movielens/latest/)__ from __[MovieLens](https://movielens.org/)__"
   ]
  },
  {
   "cell_type": "markdown",
   "metadata": {},
   "source": [
    "### User IDs and Explicit Ratings\n",
    "\n",
    "- minimum of 20 ratings per user ID\n",
    "- total of 610 users included, selected for inclusion at random per MovieLens\n",
    "- user id is the same with the tags.csv below as well\n",
    "- ratings are made on a 5 star scale, with half-star increments (0.5 - 5.0)"
   ]
  },
  {
   "cell_type": "code",
   "execution_count": 2,
   "metadata": {},
   "outputs": [
    {
     "data": {
      "text/html": [
       "<div>\n",
       "<style scoped>\n",
       "    .dataframe tbody tr th:only-of-type {\n",
       "        vertical-align: middle;\n",
       "    }\n",
       "\n",
       "    .dataframe tbody tr th {\n",
       "        vertical-align: top;\n",
       "    }\n",
       "\n",
       "    .dataframe thead th {\n",
       "        text-align: right;\n",
       "    }\n",
       "</style>\n",
       "<table border=\"1\" class=\"dataframe\">\n",
       "  <thead>\n",
       "    <tr style=\"text-align: right;\">\n",
       "      <th></th>\n",
       "      <th>userId</th>\n",
       "      <th>movieId</th>\n",
       "      <th>rating</th>\n",
       "      <th>timestamp</th>\n",
       "    </tr>\n",
       "  </thead>\n",
       "  <tbody>\n",
       "    <tr>\n",
       "      <th>0</th>\n",
       "      <td>1</td>\n",
       "      <td>1</td>\n",
       "      <td>4.0</td>\n",
       "      <td>964982703</td>\n",
       "    </tr>\n",
       "    <tr>\n",
       "      <th>1</th>\n",
       "      <td>1</td>\n",
       "      <td>3</td>\n",
       "      <td>4.0</td>\n",
       "      <td>964981247</td>\n",
       "    </tr>\n",
       "    <tr>\n",
       "      <th>2</th>\n",
       "      <td>1</td>\n",
       "      <td>6</td>\n",
       "      <td>4.0</td>\n",
       "      <td>964982224</td>\n",
       "    </tr>\n",
       "    <tr>\n",
       "      <th>3</th>\n",
       "      <td>1</td>\n",
       "      <td>47</td>\n",
       "      <td>5.0</td>\n",
       "      <td>964983815</td>\n",
       "    </tr>\n",
       "    <tr>\n",
       "      <th>4</th>\n",
       "      <td>1</td>\n",
       "      <td>50</td>\n",
       "      <td>5.0</td>\n",
       "      <td>964982931</td>\n",
       "    </tr>\n",
       "  </tbody>\n",
       "</table>\n",
       "</div>"
      ],
      "text/plain": [
       "   userId  movieId  rating  timestamp\n",
       "0       1        1     4.0  964982703\n",
       "1       1        3     4.0  964981247\n",
       "2       1        6     4.0  964982224\n",
       "3       1       47     5.0  964983815\n",
       "4       1       50     5.0  964982931"
      ]
     },
     "execution_count": 2,
     "metadata": {},
     "output_type": "execute_result"
    }
   ],
   "source": [
    "ratings = pd.read_csv('data/ratings.csv')\n",
    "ratings.head()"
   ]
  },
  {
   "cell_type": "code",
   "execution_count": 3,
   "metadata": {
    "scrolled": true
   },
   "outputs": [
    {
     "name": "stdout",
     "output_type": "stream",
     "text": [
      "<class 'pandas.core.frame.DataFrame'>\n",
      "RangeIndex: 100836 entries, 0 to 100835\n",
      "Data columns (total 4 columns):\n",
      " #   Column     Non-Null Count   Dtype  \n",
      "---  ------     --------------   -----  \n",
      " 0   userId     100836 non-null  int64  \n",
      " 1   movieId    100836 non-null  int64  \n",
      " 2   rating     100836 non-null  float64\n",
      " 3   timestamp  100836 non-null  int64  \n",
      "dtypes: float64(1), int64(3)\n",
      "memory usage: 3.1 MB\n"
     ]
    }
   ],
   "source": [
    "ratings.info()"
   ]
  },
  {
   "cell_type": "code",
   "execution_count": 4,
   "metadata": {},
   "outputs": [
    {
     "data": {
      "text/plain": [
       "userId       0\n",
       "movieId      0\n",
       "rating       0\n",
       "timestamp    0\n",
       "dtype: int64"
      ]
     },
     "execution_count": 4,
     "metadata": {},
     "output_type": "execute_result"
    }
   ],
   "source": [
    "# no nulls\n",
    "\n",
    "ratings.isna().sum()"
   ]
  },
  {
   "cell_type": "code",
   "execution_count": 5,
   "metadata": {},
   "outputs": [
    {
     "data": {
      "text/plain": [
       "610"
      ]
     },
     "execution_count": 5,
     "metadata": {},
     "output_type": "execute_result"
    }
   ],
   "source": [
    "ratings['userId'].nunique()"
   ]
  },
  {
   "cell_type": "markdown",
   "metadata": {},
   "source": [
    "### Movie IDs (including Title and Genres)\n",
    "\n",
    "- Only movies with at least one rating or tag are included, per MovieLens\n",
    "- There are 9,742 different movies included in this \"small\" dataset\n",
    "- Movie IDs are consistent across all four data files, and correspond with the __[MovieLens.org/movies/](https://movielens.org/movies/)__ URL\n",
    "- Genres are a pipe-separated list selected from the following:\n",
    "    - Action\n",
    "    - Adventure\n",
    "    - Animation\n",
    "    - Children's\n",
    "    - Comedy\n",
    "    - Crime\n",
    "    - Documentary\n",
    "    - Drama\n",
    "    - Fantasy\n",
    "    - Film-Noir\n",
    "    - Horror\n",
    "    - Musical\n",
    "    - Mystery\n",
    "    - Romance\n",
    "    - Sci-Fi\n",
    "    - Thriller\n",
    "    - War\n",
    "    - Western\n",
    "    - (no genres listed)"
   ]
  },
  {
   "cell_type": "code",
   "execution_count": 6,
   "metadata": {},
   "outputs": [
    {
     "data": {
      "text/html": [
       "<div>\n",
       "<style scoped>\n",
       "    .dataframe tbody tr th:only-of-type {\n",
       "        vertical-align: middle;\n",
       "    }\n",
       "\n",
       "    .dataframe tbody tr th {\n",
       "        vertical-align: top;\n",
       "    }\n",
       "\n",
       "    .dataframe thead th {\n",
       "        text-align: right;\n",
       "    }\n",
       "</style>\n",
       "<table border=\"1\" class=\"dataframe\">\n",
       "  <thead>\n",
       "    <tr style=\"text-align: right;\">\n",
       "      <th></th>\n",
       "      <th>movieId</th>\n",
       "      <th>title</th>\n",
       "      <th>genres</th>\n",
       "    </tr>\n",
       "  </thead>\n",
       "  <tbody>\n",
       "    <tr>\n",
       "      <th>0</th>\n",
       "      <td>1</td>\n",
       "      <td>Toy Story (1995)</td>\n",
       "      <td>Adventure|Animation|Children|Comedy|Fantasy</td>\n",
       "    </tr>\n",
       "    <tr>\n",
       "      <th>1</th>\n",
       "      <td>2</td>\n",
       "      <td>Jumanji (1995)</td>\n",
       "      <td>Adventure|Children|Fantasy</td>\n",
       "    </tr>\n",
       "    <tr>\n",
       "      <th>2</th>\n",
       "      <td>3</td>\n",
       "      <td>Grumpier Old Men (1995)</td>\n",
       "      <td>Comedy|Romance</td>\n",
       "    </tr>\n",
       "    <tr>\n",
       "      <th>3</th>\n",
       "      <td>4</td>\n",
       "      <td>Waiting to Exhale (1995)</td>\n",
       "      <td>Comedy|Drama|Romance</td>\n",
       "    </tr>\n",
       "    <tr>\n",
       "      <th>4</th>\n",
       "      <td>5</td>\n",
       "      <td>Father of the Bride Part II (1995)</td>\n",
       "      <td>Comedy</td>\n",
       "    </tr>\n",
       "  </tbody>\n",
       "</table>\n",
       "</div>"
      ],
      "text/plain": [
       "   movieId                               title  \\\n",
       "0        1                    Toy Story (1995)   \n",
       "1        2                      Jumanji (1995)   \n",
       "2        3             Grumpier Old Men (1995)   \n",
       "3        4            Waiting to Exhale (1995)   \n",
       "4        5  Father of the Bride Part II (1995)   \n",
       "\n",
       "                                        genres  \n",
       "0  Adventure|Animation|Children|Comedy|Fantasy  \n",
       "1                   Adventure|Children|Fantasy  \n",
       "2                               Comedy|Romance  \n",
       "3                         Comedy|Drama|Romance  \n",
       "4                                       Comedy  "
      ]
     },
     "execution_count": 6,
     "metadata": {},
     "output_type": "execute_result"
    }
   ],
   "source": [
    "movies = pd.read_csv('data/movies.csv')\n",
    "movies.head()"
   ]
  },
  {
   "cell_type": "code",
   "execution_count": 7,
   "metadata": {
    "scrolled": true
   },
   "outputs": [
    {
     "name": "stdout",
     "output_type": "stream",
     "text": [
      "<class 'pandas.core.frame.DataFrame'>\n",
      "RangeIndex: 9742 entries, 0 to 9741\n",
      "Data columns (total 3 columns):\n",
      " #   Column   Non-Null Count  Dtype \n",
      "---  ------   --------------  ----- \n",
      " 0   movieId  9742 non-null   int64 \n",
      " 1   title    9742 non-null   object\n",
      " 2   genres   9742 non-null   object\n",
      "dtypes: int64(1), object(2)\n",
      "memory usage: 228.5+ KB\n"
     ]
    }
   ],
   "source": [
    "movies.info()"
   ]
  },
  {
   "cell_type": "code",
   "execution_count": 8,
   "metadata": {},
   "outputs": [
    {
     "data": {
      "text/plain": [
       "movieId    0\n",
       "title      0\n",
       "genres     0\n",
       "dtype: int64"
      ]
     },
     "execution_count": 8,
     "metadata": {},
     "output_type": "execute_result"
    }
   ],
   "source": [
    "# no nulls\n",
    "\n",
    "movies.isna().sum()"
   ]
  },
  {
   "cell_type": "code",
   "execution_count": 9,
   "metadata": {},
   "outputs": [
    {
     "data": {
      "text/plain": [
       "9742"
      ]
     },
     "execution_count": 9,
     "metadata": {},
     "output_type": "execute_result"
    }
   ],
   "source": [
    "movies['movieId'].nunique()"
   ]
  },
  {
   "cell_type": "markdown",
   "metadata": {},
   "source": [
    "### Links from MovieLens to IMDB and TMDB\n",
    "\n",
    "- for IMDB complete URL: https://www.imdb.com/tt then 'movieId'\n",
    "- for TMDB complete URL: https://www.themoviedb.org/movie/ then 'movieId'\n",
    "- we did not utilize these links in our modeling"
   ]
  },
  {
   "cell_type": "code",
   "execution_count": 10,
   "metadata": {},
   "outputs": [
    {
     "data": {
      "text/html": [
       "<div>\n",
       "<style scoped>\n",
       "    .dataframe tbody tr th:only-of-type {\n",
       "        vertical-align: middle;\n",
       "    }\n",
       "\n",
       "    .dataframe tbody tr th {\n",
       "        vertical-align: top;\n",
       "    }\n",
       "\n",
       "    .dataframe thead th {\n",
       "        text-align: right;\n",
       "    }\n",
       "</style>\n",
       "<table border=\"1\" class=\"dataframe\">\n",
       "  <thead>\n",
       "    <tr style=\"text-align: right;\">\n",
       "      <th></th>\n",
       "      <th>movieId</th>\n",
       "      <th>imdbId</th>\n",
       "      <th>tmdbId</th>\n",
       "    </tr>\n",
       "  </thead>\n",
       "  <tbody>\n",
       "    <tr>\n",
       "      <th>0</th>\n",
       "      <td>1</td>\n",
       "      <td>114709</td>\n",
       "      <td>862.0</td>\n",
       "    </tr>\n",
       "    <tr>\n",
       "      <th>1</th>\n",
       "      <td>2</td>\n",
       "      <td>113497</td>\n",
       "      <td>8844.0</td>\n",
       "    </tr>\n",
       "    <tr>\n",
       "      <th>2</th>\n",
       "      <td>3</td>\n",
       "      <td>113228</td>\n",
       "      <td>15602.0</td>\n",
       "    </tr>\n",
       "    <tr>\n",
       "      <th>3</th>\n",
       "      <td>4</td>\n",
       "      <td>114885</td>\n",
       "      <td>31357.0</td>\n",
       "    </tr>\n",
       "    <tr>\n",
       "      <th>4</th>\n",
       "      <td>5</td>\n",
       "      <td>113041</td>\n",
       "      <td>11862.0</td>\n",
       "    </tr>\n",
       "  </tbody>\n",
       "</table>\n",
       "</div>"
      ],
      "text/plain": [
       "   movieId  imdbId   tmdbId\n",
       "0        1  114709    862.0\n",
       "1        2  113497   8844.0\n",
       "2        3  113228  15602.0\n",
       "3        4  114885  31357.0\n",
       "4        5  113041  11862.0"
      ]
     },
     "execution_count": 10,
     "metadata": {},
     "output_type": "execute_result"
    }
   ],
   "source": [
    "links = pd.read_csv('data/links.csv')\n",
    "links.head()"
   ]
  },
  {
   "cell_type": "code",
   "execution_count": 11,
   "metadata": {},
   "outputs": [
    {
     "name": "stdout",
     "output_type": "stream",
     "text": [
      "<class 'pandas.core.frame.DataFrame'>\n",
      "RangeIndex: 9742 entries, 0 to 9741\n",
      "Data columns (total 3 columns):\n",
      " #   Column   Non-Null Count  Dtype  \n",
      "---  ------   --------------  -----  \n",
      " 0   movieId  9742 non-null   int64  \n",
      " 1   imdbId   9742 non-null   int64  \n",
      " 2   tmdbId   9734 non-null   float64\n",
      "dtypes: float64(1), int64(2)\n",
      "memory usage: 228.5 KB\n"
     ]
    }
   ],
   "source": [
    "links.info()"
   ]
  },
  {
   "cell_type": "code",
   "execution_count": 12,
   "metadata": {},
   "outputs": [
    {
     "data": {
      "text/plain": [
       "movieId    0\n",
       "imdbId     0\n",
       "tmdbId     8\n",
       "dtype: int64"
      ]
     },
     "execution_count": 12,
     "metadata": {},
     "output_type": "execute_result"
    }
   ],
   "source": [
    "# 8 nulls for TMDB\n",
    "\n",
    "links.isna().sum()"
   ]
  },
  {
   "cell_type": "markdown",
   "metadata": {},
   "source": [
    "### Tags provided by user\n",
    "\n",
    "- Tags are \"user-generated metadata about movies...typically a single word or short phrase\"\n",
    "- Timestamp represents seconds since midnight Coordinated Universal Time (UTC) of January 1, 1970\n",
    "- Only 3,683 tags (< 4% of total user ratings) were contained in this file, and we did not include this file in our modeling"
   ]
  },
  {
   "cell_type": "code",
   "execution_count": 13,
   "metadata": {},
   "outputs": [
    {
     "data": {
      "text/html": [
       "<div>\n",
       "<style scoped>\n",
       "    .dataframe tbody tr th:only-of-type {\n",
       "        vertical-align: middle;\n",
       "    }\n",
       "\n",
       "    .dataframe tbody tr th {\n",
       "        vertical-align: top;\n",
       "    }\n",
       "\n",
       "    .dataframe thead th {\n",
       "        text-align: right;\n",
       "    }\n",
       "</style>\n",
       "<table border=\"1\" class=\"dataframe\">\n",
       "  <thead>\n",
       "    <tr style=\"text-align: right;\">\n",
       "      <th></th>\n",
       "      <th>userId</th>\n",
       "      <th>movieId</th>\n",
       "      <th>tag</th>\n",
       "      <th>timestamp</th>\n",
       "    </tr>\n",
       "  </thead>\n",
       "  <tbody>\n",
       "    <tr>\n",
       "      <th>0</th>\n",
       "      <td>2</td>\n",
       "      <td>60756</td>\n",
       "      <td>funny</td>\n",
       "      <td>1445714994</td>\n",
       "    </tr>\n",
       "    <tr>\n",
       "      <th>1</th>\n",
       "      <td>2</td>\n",
       "      <td>60756</td>\n",
       "      <td>Highly quotable</td>\n",
       "      <td>1445714996</td>\n",
       "    </tr>\n",
       "    <tr>\n",
       "      <th>2</th>\n",
       "      <td>2</td>\n",
       "      <td>60756</td>\n",
       "      <td>will ferrell</td>\n",
       "      <td>1445714992</td>\n",
       "    </tr>\n",
       "    <tr>\n",
       "      <th>3</th>\n",
       "      <td>2</td>\n",
       "      <td>89774</td>\n",
       "      <td>Boxing story</td>\n",
       "      <td>1445715207</td>\n",
       "    </tr>\n",
       "    <tr>\n",
       "      <th>4</th>\n",
       "      <td>2</td>\n",
       "      <td>89774</td>\n",
       "      <td>MMA</td>\n",
       "      <td>1445715200</td>\n",
       "    </tr>\n",
       "  </tbody>\n",
       "</table>\n",
       "</div>"
      ],
      "text/plain": [
       "   userId  movieId              tag   timestamp\n",
       "0       2    60756            funny  1445714994\n",
       "1       2    60756  Highly quotable  1445714996\n",
       "2       2    60756     will ferrell  1445714992\n",
       "3       2    89774     Boxing story  1445715207\n",
       "4       2    89774              MMA  1445715200"
      ]
     },
     "execution_count": 13,
     "metadata": {},
     "output_type": "execute_result"
    }
   ],
   "source": [
    "tags = pd.read_csv('data/tags.csv')\n",
    "tags.head()"
   ]
  },
  {
   "cell_type": "code",
   "execution_count": 14,
   "metadata": {},
   "outputs": [
    {
     "name": "stdout",
     "output_type": "stream",
     "text": [
      "<class 'pandas.core.frame.DataFrame'>\n",
      "RangeIndex: 3683 entries, 0 to 3682\n",
      "Data columns (total 4 columns):\n",
      " #   Column     Non-Null Count  Dtype \n",
      "---  ------     --------------  ----- \n",
      " 0   userId     3683 non-null   int64 \n",
      " 1   movieId    3683 non-null   int64 \n",
      " 2   tag        3683 non-null   object\n",
      " 3   timestamp  3683 non-null   int64 \n",
      "dtypes: int64(3), object(1)\n",
      "memory usage: 115.2+ KB\n"
     ]
    }
   ],
   "source": [
    "tags.info()"
   ]
  },
  {
   "cell_type": "code",
   "execution_count": 15,
   "metadata": {},
   "outputs": [
    {
     "data": {
      "text/plain": [
       "userId       0\n",
       "movieId      0\n",
       "tag          0\n",
       "timestamp    0\n",
       "dtype: int64"
      ]
     },
     "execution_count": 15,
     "metadata": {},
     "output_type": "execute_result"
    }
   ],
   "source": [
    "# no nulls\n",
    "\n",
    "tags.isna().sum()"
   ]
  },
  {
   "cell_type": "markdown",
   "metadata": {},
   "source": [
    "## Combined dataframe with movies and user ratings"
   ]
  },
  {
   "cell_type": "code",
   "execution_count": 16,
   "metadata": {},
   "outputs": [
    {
     "data": {
      "text/html": [
       "<div>\n",
       "<style scoped>\n",
       "    .dataframe tbody tr th:only-of-type {\n",
       "        vertical-align: middle;\n",
       "    }\n",
       "\n",
       "    .dataframe tbody tr th {\n",
       "        vertical-align: top;\n",
       "    }\n",
       "\n",
       "    .dataframe thead th {\n",
       "        text-align: right;\n",
       "    }\n",
       "</style>\n",
       "<table border=\"1\" class=\"dataframe\">\n",
       "  <thead>\n",
       "    <tr style=\"text-align: right;\">\n",
       "      <th></th>\n",
       "      <th>movieId</th>\n",
       "      <th>title</th>\n",
       "      <th>genres</th>\n",
       "      <th>userId</th>\n",
       "      <th>rating</th>\n",
       "      <th>timestamp</th>\n",
       "    </tr>\n",
       "  </thead>\n",
       "  <tbody>\n",
       "    <tr>\n",
       "      <th>0</th>\n",
       "      <td>1</td>\n",
       "      <td>Toy Story (1995)</td>\n",
       "      <td>Adventure|Animation|Children|Comedy|Fantasy</td>\n",
       "      <td>1</td>\n",
       "      <td>4.0</td>\n",
       "      <td>964982703</td>\n",
       "    </tr>\n",
       "    <tr>\n",
       "      <th>1</th>\n",
       "      <td>1</td>\n",
       "      <td>Toy Story (1995)</td>\n",
       "      <td>Adventure|Animation|Children|Comedy|Fantasy</td>\n",
       "      <td>5</td>\n",
       "      <td>4.0</td>\n",
       "      <td>847434962</td>\n",
       "    </tr>\n",
       "    <tr>\n",
       "      <th>2</th>\n",
       "      <td>1</td>\n",
       "      <td>Toy Story (1995)</td>\n",
       "      <td>Adventure|Animation|Children|Comedy|Fantasy</td>\n",
       "      <td>7</td>\n",
       "      <td>4.5</td>\n",
       "      <td>1106635946</td>\n",
       "    </tr>\n",
       "    <tr>\n",
       "      <th>3</th>\n",
       "      <td>1</td>\n",
       "      <td>Toy Story (1995)</td>\n",
       "      <td>Adventure|Animation|Children|Comedy|Fantasy</td>\n",
       "      <td>15</td>\n",
       "      <td>2.5</td>\n",
       "      <td>1510577970</td>\n",
       "    </tr>\n",
       "    <tr>\n",
       "      <th>4</th>\n",
       "      <td>1</td>\n",
       "      <td>Toy Story (1995)</td>\n",
       "      <td>Adventure|Animation|Children|Comedy|Fantasy</td>\n",
       "      <td>17</td>\n",
       "      <td>4.5</td>\n",
       "      <td>1305696483</td>\n",
       "    </tr>\n",
       "  </tbody>\n",
       "</table>\n",
       "</div>"
      ],
      "text/plain": [
       "   movieId             title                                       genres  \\\n",
       "0        1  Toy Story (1995)  Adventure|Animation|Children|Comedy|Fantasy   \n",
       "1        1  Toy Story (1995)  Adventure|Animation|Children|Comedy|Fantasy   \n",
       "2        1  Toy Story (1995)  Adventure|Animation|Children|Comedy|Fantasy   \n",
       "3        1  Toy Story (1995)  Adventure|Animation|Children|Comedy|Fantasy   \n",
       "4        1  Toy Story (1995)  Adventure|Animation|Children|Comedy|Fantasy   \n",
       "\n",
       "   userId  rating   timestamp  \n",
       "0       1     4.0   964982703  \n",
       "1       5     4.0   847434962  \n",
       "2       7     4.5  1106635946  \n",
       "3      15     2.5  1510577970  \n",
       "4      17     4.5  1305696483  "
      ]
     },
     "execution_count": 16,
     "metadata": {},
     "output_type": "execute_result"
    }
   ],
   "source": [
    "# combined on 'movieId'\n",
    "\n",
    "df = pd.merge(movies, ratings, on='movieId')\n",
    "df.head()"
   ]
  },
  {
   "cell_type": "code",
   "execution_count": 17,
   "metadata": {},
   "outputs": [
    {
     "data": {
      "text/plain": [
       "(100836, 6)"
      ]
     },
     "execution_count": 17,
     "metadata": {},
     "output_type": "execute_result"
    }
   ],
   "source": [
    "df.shape"
   ]
  },
  {
   "cell_type": "code",
   "execution_count": 18,
   "metadata": {},
   "outputs": [
    {
     "name": "stdout",
     "output_type": "stream",
     "text": [
      "<class 'pandas.core.frame.DataFrame'>\n",
      "Int64Index: 100836 entries, 0 to 100835\n",
      "Data columns (total 6 columns):\n",
      " #   Column     Non-Null Count   Dtype  \n",
      "---  ------     --------------   -----  \n",
      " 0   movieId    100836 non-null  int64  \n",
      " 1   title      100836 non-null  object \n",
      " 2   genres     100836 non-null  object \n",
      " 3   userId     100836 non-null  int64  \n",
      " 4   rating     100836 non-null  float64\n",
      " 5   timestamp  100836 non-null  int64  \n",
      "dtypes: float64(1), int64(3), object(2)\n",
      "memory usage: 5.4+ MB\n"
     ]
    }
   ],
   "source": [
    "df.info()"
   ]
  },
  {
   "cell_type": "code",
   "execution_count": 19,
   "metadata": {},
   "outputs": [
    {
     "data": {
      "text/plain": [
       "movieId      0\n",
       "title        0\n",
       "genres       0\n",
       "userId       0\n",
       "rating       0\n",
       "timestamp    0\n",
       "dtype: int64"
      ]
     },
     "execution_count": 19,
     "metadata": {},
     "output_type": "execute_result"
    }
   ],
   "source": [
    "# verifying no nulls\n",
    "\n",
    "df.isna().sum()"
   ]
  },
  {
   "cell_type": "code",
   "execution_count": 20,
   "metadata": {},
   "outputs": [
    {
     "data": {
      "text/html": [
       "<div>\n",
       "<style scoped>\n",
       "    .dataframe tbody tr th:only-of-type {\n",
       "        vertical-align: middle;\n",
       "    }\n",
       "\n",
       "    .dataframe tbody tr th {\n",
       "        vertical-align: top;\n",
       "    }\n",
       "\n",
       "    .dataframe thead th {\n",
       "        text-align: right;\n",
       "    }\n",
       "</style>\n",
       "<table border=\"1\" class=\"dataframe\">\n",
       "  <thead>\n",
       "    <tr style=\"text-align: right;\">\n",
       "      <th></th>\n",
       "      <th>movieId</th>\n",
       "      <th>userId</th>\n",
       "      <th>rating</th>\n",
       "      <th>timestamp</th>\n",
       "    </tr>\n",
       "  </thead>\n",
       "  <tbody>\n",
       "    <tr>\n",
       "      <th>count</th>\n",
       "      <td>100836.000000</td>\n",
       "      <td>100836.000000</td>\n",
       "      <td>100836.000000</td>\n",
       "      <td>1.008360e+05</td>\n",
       "    </tr>\n",
       "    <tr>\n",
       "      <th>mean</th>\n",
       "      <td>19435.295718</td>\n",
       "      <td>326.127564</td>\n",
       "      <td>3.501557</td>\n",
       "      <td>1.205946e+09</td>\n",
       "    </tr>\n",
       "    <tr>\n",
       "      <th>std</th>\n",
       "      <td>35530.987199</td>\n",
       "      <td>182.618491</td>\n",
       "      <td>1.042529</td>\n",
       "      <td>2.162610e+08</td>\n",
       "    </tr>\n",
       "    <tr>\n",
       "      <th>min</th>\n",
       "      <td>1.000000</td>\n",
       "      <td>1.000000</td>\n",
       "      <td>0.500000</td>\n",
       "      <td>8.281246e+08</td>\n",
       "    </tr>\n",
       "    <tr>\n",
       "      <th>25%</th>\n",
       "      <td>1199.000000</td>\n",
       "      <td>177.000000</td>\n",
       "      <td>3.000000</td>\n",
       "      <td>1.019124e+09</td>\n",
       "    </tr>\n",
       "    <tr>\n",
       "      <th>50%</th>\n",
       "      <td>2991.000000</td>\n",
       "      <td>325.000000</td>\n",
       "      <td>3.500000</td>\n",
       "      <td>1.186087e+09</td>\n",
       "    </tr>\n",
       "    <tr>\n",
       "      <th>75%</th>\n",
       "      <td>8122.000000</td>\n",
       "      <td>477.000000</td>\n",
       "      <td>4.000000</td>\n",
       "      <td>1.435994e+09</td>\n",
       "    </tr>\n",
       "    <tr>\n",
       "      <th>max</th>\n",
       "      <td>193609.000000</td>\n",
       "      <td>610.000000</td>\n",
       "      <td>5.000000</td>\n",
       "      <td>1.537799e+09</td>\n",
       "    </tr>\n",
       "  </tbody>\n",
       "</table>\n",
       "</div>"
      ],
      "text/plain": [
       "             movieId         userId         rating     timestamp\n",
       "count  100836.000000  100836.000000  100836.000000  1.008360e+05\n",
       "mean    19435.295718     326.127564       3.501557  1.205946e+09\n",
       "std     35530.987199     182.618491       1.042529  2.162610e+08\n",
       "min         1.000000       1.000000       0.500000  8.281246e+08\n",
       "25%      1199.000000     177.000000       3.000000  1.019124e+09\n",
       "50%      2991.000000     325.000000       3.500000  1.186087e+09\n",
       "75%      8122.000000     477.000000       4.000000  1.435994e+09\n",
       "max    193609.000000     610.000000       5.000000  1.537799e+09"
      ]
     },
     "execution_count": 20,
     "metadata": {},
     "output_type": "execute_result"
    }
   ],
   "source": [
    "df.describe()\n",
    "\n",
    "# of note, the mean for rating is 3.50.  Otherwise, numerical summaries are not relevant"
   ]
  },
  {
   "cell_type": "markdown",
   "metadata": {},
   "source": [
    "<a id='modeling'></a>"
   ]
  },
  {
   "cell_type": "markdown",
   "metadata": {},
   "source": [
    "# Modeling"
   ]
  },
  {
   "cell_type": "markdown",
   "metadata": {},
   "source": [
    "We will start by using the Suprise Python scikit library for processing and preparing our data for the eventual recommendation system.  We will create a baseline random model, and progress from there to using Alternating Least Squares, Singular Value Decomposition (with GridSearch cross-validation), non-negative Matrix Factorization, and SVD++ (also with GridSearch cross-validation).  The GridSearch cells will be commented out due to the length of time they take to run.  \n",
    "\n",
    "We evaluated each algorithm iteration using root mean squared error (RMSE) from the accuracy library in Surprise.  The lowest RMSE we were able to obtain was 0.8457.  \n",
    "\n",
    "We will discuss limitations of our model and recommendations for future development in the section where we create and utilize our recommendation system.  "
   ]
  },
  {
   "cell_type": "markdown",
   "metadata": {},
   "source": [
    "<a id='surprise'></a>"
   ]
  },
  {
   "cell_type": "markdown",
   "metadata": {},
   "source": [
    "## Using Surprise to perform a train/test split"
   ]
  },
  {
   "cell_type": "code",
   "execution_count": 22,
   "metadata": {},
   "outputs": [],
   "source": [
    "# instantiating Reader (with 0.5 to 5 rating scale) and Dataset (from combined dataframe above)\n",
    "\n",
    "reader = Reader(rating_scale=(0.5, 5))\n",
    "data = Dataset.load_from_df(df[['userId', 'movieId', 'rating']], reader)"
   ]
  },
  {
   "cell_type": "code",
   "execution_count": 23,
   "metadata": {},
   "outputs": [],
   "source": [
    "# train/test split at 80/20\n",
    "\n",
    "trainset, testset = train_test_split(data, test_size=0.2, random_state=24)"
   ]
  },
  {
   "cell_type": "code",
   "execution_count": 24,
   "metadata": {
    "scrolled": true
   },
   "outputs": [
    {
     "name": "stdout",
     "output_type": "stream",
     "text": [
      "Number of users:  610 \n",
      "\n",
      "Number of items:  9010 \n",
      "\n",
      "Number of ratings:  80668 \n",
      "\n"
     ]
    }
   ],
   "source": [
    "print('Number of users: ', trainset.n_users, '\\n')\n",
    "print('Number of items: ', trainset.n_items, '\\n')\n",
    "print('Number of ratings: ', trainset.n_ratings, '\\n')"
   ]
  },
  {
   "cell_type": "code",
   "execution_count": 25,
   "metadata": {},
   "outputs": [
    {
     "data": {
      "text/plain": [
       "0.7999920663255187"
      ]
     },
     "execution_count": 25,
     "metadata": {},
     "output_type": "execute_result"
    }
   ],
   "source": [
    "# confirming 80% trainset\n",
    "\n",
    "(trainset.n_ratings) / len(df)"
   ]
  },
  {
   "cell_type": "markdown",
   "metadata": {},
   "source": [
    "<a id='baseline'></a>"
   ]
  },
  {
   "cell_type": "markdown",
   "metadata": {},
   "source": [
    "## Baseline Simple Model - Random Rating"
   ]
  },
  {
   "cell_type": "markdown",
   "metadata": {},
   "source": [
    "The NormalPredictor algorithm predicts a random rating based on the distribution of the training set, which is assumed to be normal.  Unsurprisingly, this model yielded the highest RMSE."
   ]
  },
  {
   "cell_type": "code",
   "execution_count": 47,
   "metadata": {},
   "outputs": [
    {
     "name": "stdout",
     "output_type": "stream",
     "text": [
      "RMSE: 1.4327\n"
     ]
    }
   ],
   "source": [
    "# Instantiate and fit model\n",
    "baseline = NormalPredictor()\n",
    "baseline.fit(trainset)\n",
    "\n",
    "# Return test predictions for model fit on trainset\n",
    "predictions = baseline.test(testset)\n",
    "\n",
    "# Save RMSE score to variable\n",
    "baseline_normal = accuracy.rmse(predictions)"
   ]
  },
  {
   "cell_type": "code",
   "execution_count": 48,
   "metadata": {
    "scrolled": true
   },
   "outputs": [
    {
     "name": "stdout",
     "output_type": "stream",
     "text": [
      "Evaluating RMSE of algorithm NormalPredictor on 3 split(s).\n",
      "\n",
      "                  Fold 1  Fold 2  Fold 3  Mean    Std     \n",
      "RMSE (testset)    1.4233  1.4249  1.4269  1.4250  0.0015  \n",
      "Fit time          0.06    0.05    0.04    0.05    0.00    \n",
      "Test time         0.09    0.09    0.09    0.09    0.00    \n"
     ]
    },
    {
     "data": {
      "text/plain": [
       "{'test_rmse': array([1.42327395, 1.42490455, 1.42686455]),\n",
       " 'fit_time': (0.055826663970947266, 0.05301332473754883, 0.04456925392150879),\n",
       " 'test_time': (0.09028220176696777, 0.09244060516357422, 0.0921182632446289)}"
      ]
     },
     "execution_count": 48,
     "metadata": {},
     "output_type": "execute_result"
    }
   ],
   "source": [
    "cross_validate(baseline, data, measures=['RMSE'], cv=3, n_jobs=-2, verbose=True)"
   ]
  },
  {
   "cell_type": "markdown",
   "metadata": {},
   "source": [
    "## Baseline Simple Model - Baseline Estimate"
   ]
  },
  {
   "cell_type": "markdown",
   "metadata": {},
   "source": [
    "Using Alternating Least Squares.  This already drops the RMSE significantly from the random model, down to 0.8683"
   ]
  },
  {
   "cell_type": "code",
   "execution_count": 49,
   "metadata": {},
   "outputs": [
    {
     "name": "stdout",
     "output_type": "stream",
     "text": [
      "Estimating biases using als...\n",
      "RMSE: 0.8683\n"
     ]
    }
   ],
   "source": [
    "# Instantiate and fit model\n",
    "baseline2 = BaselineOnly()\n",
    "baseline2.fit(trainset)\n",
    "\n",
    "# Return test predictions for model fit on trainset\n",
    "predictions = baseline2.test(testset)\n",
    "\n",
    "# Save RMSE score to variable\n",
    "baseline_only = accuracy.rmse(predictions)"
   ]
  },
  {
   "cell_type": "code",
   "execution_count": 29,
   "metadata": {
    "scrolled": true
   },
   "outputs": [
    {
     "name": "stdout",
     "output_type": "stream",
     "text": [
      "Evaluating RMSE of algorithm BaselineOnly on 3 split(s).\n",
      "\n",
      "                  Fold 1  Fold 2  Fold 3  Mean    Std     \n",
      "RMSE (testset)    0.8709  0.8811  0.8798  0.8773  0.0045  \n",
      "Fit time          0.04    0.05    0.04    0.04    0.00    \n",
      "Test time         0.12    0.09    0.09    0.10    0.01    \n"
     ]
    },
    {
     "data": {
      "text/plain": [
       "{'test_rmse': array([0.87093821, 0.88108248, 0.87984931]),\n",
       " 'fit_time': (0.0382227897644043, 0.04540848731994629, 0.04196786880493164),\n",
       " 'test_time': (0.1170053482055664, 0.09234762191772461, 0.08936476707458496)}"
      ]
     },
     "execution_count": 29,
     "metadata": {},
     "output_type": "execute_result"
    }
   ],
   "source": [
    "cross_validate(baseline2, data, measures=['RMSE'], cv=3, n_jobs=-2, verbose=True)"
   ]
  },
  {
   "cell_type": "markdown",
   "metadata": {},
   "source": [
    "<a id='svd'></a>"
   ]
  },
  {
   "cell_type": "markdown",
   "metadata": {},
   "source": [
    "## Singular Value Decomposition (SVD) and Cross-validating a Simple Model "
   ]
  },
  {
   "cell_type": "markdown",
   "metadata": {},
   "source": [
    "Our first matrix factorization-based algorithm and model.  We used random_state for all algorithms from this point on, for reproducibility.  With an RMSE of 0.8698, this did not perform as well as Least Alternating Squares above (0.8683), but we will pursue tuning this algorithm. "
   ]
  },
  {
   "cell_type": "code",
   "execution_count": 51,
   "metadata": {},
   "outputs": [
    {
     "name": "stdout",
     "output_type": "stream",
     "text": [
      "RMSE: 0.8698\n"
     ]
    }
   ],
   "source": [
    "# default (Funk's) SVD, no hyperparametertuning\n",
    "svd_basic = SVD(random_state=24)\n",
    "\n",
    "# Fit to trainset and predict on the testset for evaluation\n",
    "svd_basic.fit(trainset)\n",
    "predictions = svd_basic.test(testset)\n",
    "\n",
    "# Save RMSE score to variable\n",
    "svd_simple = accuracy.rmse(predictions)"
   ]
  },
  {
   "cell_type": "code",
   "execution_count": 53,
   "metadata": {},
   "outputs": [
    {
     "name": "stdout",
     "output_type": "stream",
     "text": [
      "Evaluating RMSE of algorithm SVD on 3 split(s).\n",
      "\n",
      "                  Fold 1  Fold 2  Fold 3  Mean    Std     \n",
      "RMSE (testset)    0.8830  0.8810  0.8774  0.8805  0.0023  \n",
      "Fit time          2.64    2.57    2.62    2.61    0.03    \n",
      "Test time         0.15    0.14    0.12    0.14    0.01    \n"
     ]
    },
    {
     "data": {
      "text/plain": [
       "{'test_rmse': array([0.88303416, 0.88095961, 0.87740483]),\n",
       " 'fit_time': (2.643671989440918, 2.566042184829712, 2.6193103790283203),\n",
       " 'test_time': (0.14917516708374023, 0.1415698528289795, 0.11627626419067383)}"
      ]
     },
     "execution_count": 53,
     "metadata": {},
     "output_type": "execute_result"
    }
   ],
   "source": [
    "cross_validate(svd_basic, data, measures=['RMSE'], cv=3, n_jobs=-2, verbose=True)"
   ]
  },
  {
   "cell_type": "markdown",
   "metadata": {},
   "source": [
    "<a id='grid'></a>"
   ]
  },
  {
   "cell_type": "markdown",
   "metadata": {},
   "source": [
    "## GridSearchCV"
   ]
  },
  {
   "cell_type": "markdown",
   "metadata": {},
   "source": [
    "We will now begin a GridSearch with cross-validation to try to optimize hyperparameters and find a lower RMSE, yielding the best algorithm for our recommendation system. \n",
    "\n",
    "The default SVD hyperparameters include: n_factors=100, n_epochs=20, lr_all=0.005, reg_all=0.02 and biased=True.  Here are some brief explanations of each:\n",
    "- n_factors: the number of factors considered (choosing from the user and item factors)\n",
    "- n_epochs: the number of iteration of the stochastic gradient descent procedure\n",
    "- lr_all: the learning rate for all parameters\n",
    "- reg_all: the regularization term for all parameters\n",
    "- biased: whether to use baselines (or biases)"
   ]
  },
  {
   "cell_type": "markdown",
   "metadata": {},
   "source": [
    "### GridSearchCV 1"
   ]
  },
  {
   "cell_type": "code",
   "execution_count": 65,
   "metadata": {},
   "outputs": [
    {
     "name": "stderr",
     "output_type": "stream",
     "text": [
      "[Parallel(n_jobs=-2)]: Using backend LokyBackend with 11 concurrent workers.\n",
      "[Parallel(n_jobs=-2)]: Done  51 tasks      | elapsed:    7.2s\n",
      "[Parallel(n_jobs=-2)]: Done 141 tasks      | elapsed:   18.0s\n",
      "[Parallel(n_jobs=-2)]: Done 267 tasks      | elapsed:   39.0s\n",
      "[Parallel(n_jobs=-2)]: Done 429 tasks      | elapsed:  1.4min\n",
      "[Parallel(n_jobs=-2)]: Done 540 out of 540 | elapsed:  2.2min finished\n"
     ]
    },
    {
     "data": {
      "text/plain": [
       "{'n_factors': 100,\n",
       " 'n_epochs': 10,\n",
       " 'lr_all': 0.05,\n",
       " 'reg_all': 0.1,\n",
       " 'biased': True}"
      ]
     },
     "execution_count": 65,
     "metadata": {},
     "output_type": "execute_result"
    }
   ],
   "source": [
    "# dictionary of hyperparameters\n",
    "\n",
    "\"\"\"\"\"\"\"\"\"\n",
    "including default n_factors, but choosing lower n_epochs\n",
    "also included default lr_all, but went above and below default reg_all\n",
    "default bias is True, but included possibility of False on this GridSearch only\n",
    "\"\"\"\"\"\"\"\"\"\n",
    "svd_param_grid = {'n_factors':[20, 50, 100],\n",
    "                  'n_epochs': [5, 10], \n",
    "                  'lr_all': [0.002, 0.005, 0.05],\n",
    "                  'reg_all': [0.01, 0.1, 0.5],\n",
    "                 'biased': [True, False]}\n",
    "\n",
    "# instantiate GridSearch\n",
    "# svd_gs_model = GridSearchCV(SVD,param_grid=svd_param_grid,measures=['rmse'],n_jobs = -2,joblib_verbose=5)\n",
    "\n",
    "# model is fit and best_params scored by RMSE\n",
    "svd_gs_model.fit(data)\n",
    "svd_gs_model.best_params['rmse']"
   ]
  },
  {
   "cell_type": "code",
   "execution_count": 66,
   "metadata": {},
   "outputs": [
    {
     "name": "stdout",
     "output_type": "stream",
     "text": [
      "RMSE: 0.8543\n"
     ]
    }
   ],
   "source": [
    "# using best params from above:\n",
    "svd = SVD(n_factors=100, n_epochs=10, lr_all=0.05, reg_all=0.1, biased=True, random_state=24)\n",
    "\n",
    "# Fit to trainset and predict on the testset for evaluation\n",
    "svd.fit(trainset)\n",
    "predictions = svd.test(testset)\n",
    "\n",
    "# Save RMSE score to variable \n",
    "svd_gs1 = accuracy.rmse(predictions)"
   ]
  },
  {
   "cell_type": "markdown",
   "metadata": {},
   "source": [
    "The RMSE for this tuned model (0.8543) is lower than the RMSE for the default SVD (0.8698) and the baseline ALS (0.8683).  We will cross-validate and continue grid searching"
   ]
  },
  {
   "cell_type": "code",
   "execution_count": 33,
   "metadata": {},
   "outputs": [
    {
     "name": "stdout",
     "output_type": "stream",
     "text": [
      "Evaluating RMSE of algorithm SVD on 3 split(s).\n",
      "\n",
      "                  Fold 1  Fold 2  Fold 3  Mean    Std     \n",
      "RMSE (testset)    0.8657  0.8692  0.8619  0.8656  0.0030  \n",
      "Fit time          1.77    1.75    1.80    1.78    0.02    \n",
      "Test time         0.29    0.30    0.29    0.29    0.00    \n"
     ]
    },
    {
     "data": {
      "text/plain": [
       "{'test_rmse': array([0.86566399, 0.86918133, 0.86187192]),\n",
       " 'fit_time': (1.772707462310791, 1.750173807144165, 1.8028326034545898),\n",
       " 'test_time': (0.2925539016723633, 0.29720425605773926, 0.29221606254577637)}"
      ]
     },
     "execution_count": 33,
     "metadata": {},
     "output_type": "execute_result"
    }
   ],
   "source": [
    "cross_validate(svd, data, measures=['RMSE'], cv=3, n_jobs=-2, verbose=True)"
   ]
  },
  {
   "cell_type": "markdown",
   "metadata": {},
   "source": [
    "### GridSearchCV 2"
   ]
  },
  {
   "cell_type": "code",
   "execution_count": 54,
   "metadata": {},
   "outputs": [
    {
     "name": "stderr",
     "output_type": "stream",
     "text": [
      "[Parallel(n_jobs=-2)]: Using backend LokyBackend with 11 concurrent workers.\n",
      "[Parallel(n_jobs=-2)]: Done  50 tasks      | elapsed:   10.0s\n",
      "[Parallel(n_jobs=-2)]: Done 140 tasks      | elapsed:   42.1s\n",
      "[Parallel(n_jobs=-2)]: Done 266 tasks      | elapsed:  1.6min\n",
      "[Parallel(n_jobs=-2)]: Done 405 out of 405 | elapsed:  2.9min finished\n"
     ]
    },
    {
     "data": {
      "text/plain": [
       "{'n_factors': 50, 'n_epochs': 30, 'lr_all': 0.05, 'reg_all': 0.1}"
      ]
     },
     "execution_count": 54,
     "metadata": {},
     "output_type": "execute_result"
    }
   ],
   "source": [
    "# dictionary of hyperparameters\n",
    "\n",
    "\"\"\"\"\"\"\"\"\"\n",
    "including default n_epochs, but choosing lower n_factors\n",
    "also included default lr_all, but went above and below default reg_all\n",
    "\n",
    "\"\"\"\"\"\"\"\"\"\n",
    "\n",
    "svd_param_grid = {'n_factors':[20, 30, 50],\n",
    "                  'n_epochs': [10, 20, 30], \n",
    "                  'lr_all': [0.002, 0.005, 0.05],\n",
    "                  'reg_all': [0.01, 0.02, 0.1]}\n",
    "\n",
    "# instantiate GridSearch\n",
    "# svd_gs2_model = GridSearchCV(SVD,param_grid=svd_param_grid,measures=['rmse'],n_jobs = -2,joblib_verbose=5)\n",
    "\n",
    "# model is fit and best_params scored by RMSE\n",
    "svd_gs2_model.fit(data)\n",
    "svd_gs2_model.best_params['rmse']"
   ]
  },
  {
   "cell_type": "code",
   "execution_count": 60,
   "metadata": {},
   "outputs": [
    {
     "name": "stdout",
     "output_type": "stream",
     "text": [
      "RMSE: 0.8587\n"
     ]
    }
   ],
   "source": [
    "# Using best params from above\n",
    "svd_2 = SVD(n_factors=50, n_epochs=30, lr_all=0.05, reg_all=0.1, random_state=24)\n",
    "\n",
    "svd_2.fit(trainset)\n",
    "predictions = svd_2.test(testset)\n",
    "\n",
    "svd_gs2 = accuracy.rmse(predictions)"
   ]
  },
  {
   "cell_type": "markdown",
   "metadata": {},
   "source": [
    "The RMSE for this tuned model (0.8587) is not lower than the RMSE for the previous tuned SVD (0.8543).  We will cross-validate and continue grid searching with a different range of hyperparameters. "
   ]
  },
  {
   "cell_type": "code",
   "execution_count": 58,
   "metadata": {},
   "outputs": [
    {
     "name": "stdout",
     "output_type": "stream",
     "text": [
      "Evaluating RMSE of algorithm SVD on 3 split(s).\n",
      "\n",
      "                  Fold 1  Fold 2  Fold 3  Mean    Std     \n",
      "RMSE (testset)    0.8695  0.8627  0.8752  0.8691  0.0051  \n",
      "Fit time          2.42    2.40    2.43    2.42    0.01    \n",
      "Test time         0.17    0.13    0.13    0.14    0.02    \n"
     ]
    },
    {
     "data": {
      "text/plain": [
       "{'test_rmse': array([0.86951114, 0.86266798, 0.87521954]),\n",
       " 'fit_time': (2.4202473163604736, 2.4009857177734375, 2.4348549842834473),\n",
       " 'test_time': (0.1683800220489502, 0.1250011920928955, 0.12979936599731445)}"
      ]
     },
     "execution_count": 58,
     "metadata": {},
     "output_type": "execute_result"
    }
   ],
   "source": [
    "cross_validate(svd_2, data, measures=['RMSE'], cv=3, n_jobs=-2, verbose=True)"
   ]
  },
  {
   "cell_type": "markdown",
   "metadata": {},
   "source": [
    "### GridSearch CV3"
   ]
  },
  {
   "cell_type": "code",
   "execution_count": 59,
   "metadata": {},
   "outputs": [
    {
     "name": "stderr",
     "output_type": "stream",
     "text": [
      "[Parallel(n_jobs=-2)]: Using backend LokyBackend with 11 concurrent workers.\n",
      "[Parallel(n_jobs=-2)]: Done  50 tasks      | elapsed:   21.7s\n",
      "[Parallel(n_jobs=-2)]: Done 140 tasks      | elapsed:  2.4min\n",
      "[Parallel(n_jobs=-2)]: Done 266 tasks      | elapsed:  6.5min\n",
      "[Parallel(n_jobs=-2)]: Done 405 out of 405 | elapsed: 12.9min finished\n"
     ]
    },
    {
     "data": {
      "text/plain": [
       "{'n_factors': 100, 'n_epochs': 100, 'lr_all': 0.01, 'reg_all': 0.1}"
      ]
     },
     "execution_count": 59,
     "metadata": {},
     "output_type": "execute_result"
    }
   ],
   "source": [
    "# dictionary of hyperparameters\n",
    "\n",
    "\"\"\"\"\"\"\"\"\"\n",
    "including all defaults, but considering trends from prior GridSearches \n",
    "we will continue to change the ranges of our chosen hyperparameters to improve the RMSE\n",
    "\n",
    "\"\"\"\"\"\"\"\"\"\n",
    "\n",
    "svd_param_grid = {'n_factors':[30, 60, 100],\n",
    "                  'n_epochs': [20, 50, 100], \n",
    "                  'lr_all': [0.005, 0.01, 0.05],\n",
    "                  'reg_all': [0.02, 0.1, 0.05]}\n",
    "\n",
    "# instantiate GridSearch\n",
    "# svd_gs3_model = GridSearchCV(SVD,param_grid=svd_param_grid,measures=['rmse'],n_jobs = -2,joblib_verbose=5)\n",
    "\n",
    "# model is fit and best_params scored by RMSE\n",
    "svd_gs3_model.fit(data)\n",
    "svd_gs3_model.best_params['rmse']"
   ]
  },
  {
   "cell_type": "markdown",
   "metadata": {},
   "source": [
    "<a id='svdgs3'></a>"
   ]
  },
  {
   "cell_type": "markdown",
   "metadata": {},
   "source": [
    "(**This ended up being the final algorithm / model, if you just want to run this**)"
   ]
  },
  {
   "cell_type": "code",
   "execution_count": 26,
   "metadata": {},
   "outputs": [
    {
     "name": "stdout",
     "output_type": "stream",
     "text": [
      "RMSE: 0.8457\n"
     ]
    }
   ],
   "source": [
    "# Using best params from above\n",
    "svd_3 = SVD(n_factors=100, n_epochs=100, lr_all=.01, reg_all=0.1, random_state=24)\n",
    "\n",
    "svd_3.fit(trainset)\n",
    "predictions = svd_3.test(testset)\n",
    "\n",
    "svd_gs3 = accuracy.rmse(predictions)"
   ]
  },
  {
   "cell_type": "code",
   "execution_count": 63,
   "metadata": {},
   "outputs": [
    {
     "name": "stdout",
     "output_type": "stream",
     "text": [
      "Evaluating RMSE of algorithm SVD on 3 split(s).\n",
      "\n",
      "                  Fold 1  Fold 2  Fold 3  Mean    Std     \n",
      "RMSE (testset)    0.8616  0.8572  0.8538  0.8575  0.0032  \n",
      "Fit time          13.34   13.40   13.22   13.32   0.08    \n",
      "Test time         0.15    0.14    0.14    0.14    0.01    \n"
     ]
    },
    {
     "data": {
      "text/plain": [
       "{'test_rmse': array([0.861634  , 0.85719458, 0.85379651]),\n",
       " 'fit_time': (13.339827299118042, 13.398635149002075, 13.216630697250366),\n",
       " 'test_time': (0.15296053886413574, 0.1384420394897461, 0.13997387886047363)}"
      ]
     },
     "execution_count": 63,
     "metadata": {},
     "output_type": "execute_result"
    }
   ],
   "source": [
    "cross_validate(svd_3, data, measures=['RMSE'], cv=3, n_jobs=-2, verbose=True)"
   ]
  },
  {
   "cell_type": "markdown",
   "metadata": {},
   "source": [
    "This RMSE (0.8457) demonstrates a 0.01 improvement from the prior model, which is a good improvement.  We could keep grid searching and modeling only with the SVD algorithm, but knowing there are other algorithms available in Surprise, why don't we explore what they may be able to offer too.  In addition, we will add a little explanation of how they differ from the SVD algorithm we've already been using.  "
   ]
  },
  {
   "cell_type": "markdown",
   "metadata": {},
   "source": [
    "<a id='nnmf'></a>"
   ]
  },
  {
   "cell_type": "markdown",
   "metadata": {},
   "source": [
    "## Non-negative Matrix Factorization\n",
    "\n",
    "This is a collaborative filtering algorithm based on Non-negative Matrix Factorization. It's very similar to SVD, but the user and item factors are kept positive.\n",
    "\n",
    "The optimization procedure is a (regularized) stochastic gradient descent with a specific choice of step size that ensures non-negativity of factors, provided that their initial values are also positive.\n",
    "\n",
    "Default hyperparameters include:\n",
    "- n_factors: 15\n",
    "- n_epochs: 50\n",
    "- biased: False\n",
    "\n",
    "There are no lr_all or reg_all hyperparameters"
   ]
  },
  {
   "cell_type": "code",
   "execution_count": 68,
   "metadata": {},
   "outputs": [
    {
     "name": "stderr",
     "output_type": "stream",
     "text": [
      "[Parallel(n_jobs=-2)]: Using backend LokyBackend with 11 concurrent workers.\n",
      "[Parallel(n_jobs=-2)]: Done   3 tasks      | elapsed:    2.4s\n",
      "[Parallel(n_jobs=-2)]: Done  10 tasks      | elapsed:    7.0s\n",
      "[Parallel(n_jobs=-2)]: Done  19 tasks      | elapsed:   12.0s\n",
      "[Parallel(n_jobs=-2)]: Done  28 tasks      | elapsed:   18.8s\n",
      "[Parallel(n_jobs=-2)]: Done  39 tasks      | elapsed:   29.4s\n",
      "[Parallel(n_jobs=-2)]: Done  50 tasks      | elapsed:   38.5s\n",
      "[Parallel(n_jobs=-2)]: Done  63 tasks      | elapsed:   47.3s\n",
      "[Parallel(n_jobs=-2)]: Done  79 out of  90 | elapsed:  1.0min remaining:    8.6s\n",
      "[Parallel(n_jobs=-2)]: Done  90 out of  90 | elapsed:  1.3min finished\n"
     ]
    },
    {
     "data": {
      "text/plain": [
       "{'biased': True, 'n_factors': 1, 'n_epochs': 100}"
      ]
     },
     "execution_count": 68,
     "metadata": {},
     "output_type": "execute_result"
    }
   ],
   "source": [
    "# New hyperparameter dictionary\n",
    "\n",
    "\"\"\"\"\"\"\"\"\"\n",
    "We will include the default hyperparameters, as well as values above and below \n",
    "and the option for biased=True\n",
    "\n",
    "\"\"\"\"\"\"\"\"\"\n",
    "nmf_param_grid = {'biased':[True, False],\n",
    "                  'n_factors':[1, 5, 10, 15, 30],\n",
    "                  'n_epochs': [25, 50, 100]}\n",
    "\n",
    "# nmf_gs_model = GridSearchCV(NMF, param_grid=nmf_param_grid, measures=['rmse'], cv=3, joblib_verbose=10, n_jobs=-2, return_train_measures=True)\n",
    "\n",
    "# Fit and return the best hyperparameters\n",
    "nmf_gs_model.fit(data)\n",
    "nmf_gs_model.best_params['rmse']"
   ]
  },
  {
   "cell_type": "code",
   "execution_count": 69,
   "metadata": {},
   "outputs": [
    {
     "name": "stdout",
     "output_type": "stream",
     "text": [
      "RMSE: 0.8668\n"
     ]
    }
   ],
   "source": [
    "# Instantiate\n",
    "nmf_model = NMF(n_factors=1, n_epochs=100, random_state=24, biased=True)\n",
    "\n",
    "# Fit on trainset - score the model on testset\n",
    "nmf_model.fit(trainset)\n",
    "predictions = nmf_model.test(testset)\n",
    "\n",
    "# Save RMSE as variable\n",
    "nmf_gs = accuracy.rmse(predictions)"
   ]
  },
  {
   "cell_type": "code",
   "execution_count": 70,
   "metadata": {
    "scrolled": true
   },
   "outputs": [
    {
     "name": "stdout",
     "output_type": "stream",
     "text": [
      "Evaluating RMSE of algorithm NMF on 3 split(s).\n",
      "\n",
      "                  Fold 1  Fold 2  Fold 3  Mean    Std     \n",
      "RMSE (testset)    0.8766  0.8756  0.8741  0.8754  0.0010  \n",
      "Fit time          3.67    3.73    3.58    3.66    0.06    \n",
      "Test time         0.15    0.14    0.16    0.15    0.01    \n"
     ]
    },
    {
     "data": {
      "text/plain": [
       "{'test_rmse': array([0.87660063, 0.87564072, 0.87408395]),\n",
       " 'fit_time': (3.6738297939300537, 3.7261178493499756, 3.5767314434051514),\n",
       " 'test_time': (0.14797401428222656, 0.13568353652954102, 0.1556401252746582)}"
      ]
     },
     "execution_count": 70,
     "metadata": {},
     "output_type": "execute_result"
    }
   ],
   "source": [
    "cross_validate(nmf_model, data, measures=['RMSE'], cv=3, n_jobs=-2, verbose=True)"
   ]
  },
  {
   "cell_type": "markdown",
   "metadata": {},
   "source": [
    "This RMSE (0.8668) is worse than the default SVD and subsequent searches.  We will not continue gridsearching for improved results"
   ]
  },
  {
   "cell_type": "markdown",
   "metadata": {},
   "source": [
    "<a id='svd++'></a>"
   ]
  },
  {
   "cell_type": "markdown",
   "metadata": {},
   "source": [
    "## SVD++ Model"
   ]
  },
  {
   "cell_type": "markdown",
   "metadata": {},
   "source": [
    "The SVD++ algorithm is an extension of SVD taking into account implicit ratings\n",
    "\n",
    "Default hyperparameters include:\n",
    "- n_factors: 20\n",
    "- n_epochs: 20\n",
    "- lr_all: 0.007\n",
    "- reg_all: 0.02\n",
    "- biased: True"
   ]
  },
  {
   "cell_type": "code",
   "execution_count": 73,
   "metadata": {},
   "outputs": [
    {
     "name": "stdout",
     "output_type": "stream",
     "text": [
      "RMSE: 0.8574\n"
     ]
    }
   ],
   "source": [
    "# instantiating default SVDpp\n",
    "svdpp_default_model = SVDpp(random_state=24)\n",
    "\n",
    "# Fit on trainset and predict on testset\n",
    "svdpp_default_model.fit(trainset)\n",
    "predictions = svdpp_default_model.test(testset)\n",
    "\n",
    "# Save RMSE as a variable\n",
    "svdpp_default = accuracy.rmse(predictions)"
   ]
  },
  {
   "cell_type": "code",
   "execution_count": 38,
   "metadata": {
    "scrolled": true
   },
   "outputs": [
    {
     "name": "stdout",
     "output_type": "stream",
     "text": [
      "Evaluating RMSE of algorithm SVDpp on 3 split(s).\n",
      "\n",
      "                  Fold 1  Fold 2  Fold 3  Mean    Std     \n",
      "RMSE (testset)    0.8655  0.8703  0.8762  0.8707  0.0044  \n",
      "Fit time          439.02  436.58  432.72  436.11  2.59    \n",
      "Test time         12.62   12.70   12.61   12.64   0.04    \n"
     ]
    },
    {
     "data": {
      "text/plain": [
       "{'test_rmse': array([0.8655341 , 0.87034932, 0.8762258 ]),\n",
       " 'fit_time': (439.0216438770294, 436.57994651794434, 432.7243502140045),\n",
       " 'test_time': (12.624337196350098, 12.703818082809448, 12.60663628578186)}"
      ]
     },
     "execution_count": 38,
     "metadata": {},
     "output_type": "execute_result"
    }
   ],
   "source": [
    "cross_validate(svdpp_default_model, data, measures=['RMSE'], cv=3, n_jobs=-2, verbose=True)"
   ]
  },
  {
   "cell_type": "markdown",
   "metadata": {},
   "source": [
    "The RMSE of the default SVD++ algorithm (0.8574) approaches the score of our best SVD algorithm so far (0.8457), though it is more computationally expensive and time-consuming.  We will perform a GridSearch to see if we can improve this RMSE using SVD++.  "
   ]
  },
  {
   "cell_type": "markdown",
   "metadata": {},
   "source": [
    "### SVD++ GridSearchCV"
   ]
  },
  {
   "cell_type": "code",
   "execution_count": 79,
   "metadata": {
    "scrolled": true
   },
   "outputs": [
    {
     "name": "stderr",
     "output_type": "stream",
     "text": [
      "[Parallel(n_jobs=-2)]: Using backend LokyBackend with 11 concurrent workers.\n",
      "[Parallel(n_jobs=-2)]: Done   3 tasks      | elapsed: 11.7min\n",
      "[Parallel(n_jobs=-2)]: Done   6 out of  24 | elapsed: 11.8min remaining: 35.3min\n",
      "[Parallel(n_jobs=-2)]: Done   9 out of  24 | elapsed: 24.9min remaining: 41.4min\n",
      "[Parallel(n_jobs=-2)]: Done  12 out of  24 | elapsed: 32.4min remaining: 32.4min\n",
      "[Parallel(n_jobs=-2)]: Done  15 out of  24 | elapsed: 32.7min remaining: 19.6min\n",
      "[Parallel(n_jobs=-2)]: Done  18 out of  24 | elapsed: 43.6min remaining: 14.5min\n",
      "[Parallel(n_jobs=-2)]: Done  21 out of  24 | elapsed: 56.0min remaining:  8.0min\n",
      "[Parallel(n_jobs=-2)]: Done  24 out of  24 | elapsed: 57.8min remaining:    0.0s\n",
      "[Parallel(n_jobs=-2)]: Done  24 out of  24 | elapsed: 57.8min finished\n"
     ]
    },
    {
     "data": {
      "text/plain": [
       "{'n_factors': 5, 'n_epochs': 25, 'reg_all': 0.05}"
      ]
     },
     "execution_count": 79,
     "metadata": {},
     "output_type": "execute_result"
    }
   ],
   "source": [
    "# New dictionary for SVD++\n",
    "svdpp_param_grid = {'n_factors':[5, 10],\n",
    "                    'n_epochs':[25, 50],\n",
    "                    'reg_all':[0.02, 0.05]}\n",
    "# svdpp_gs_model = GridSearchCV(SVDpp, param_grid=svdpp_param_grid, cv=3, joblib_verbose=10, n_jobs=-2, return_train_measures=True)\n",
    "\n",
    "# Fit and return the best_params based on cross validation.  \n",
    "svdpp_gs_model.fit(data)\n",
    "svdpp_gs_model.best_params['rmse']\n",
    "\n",
    "# ⏰ Grid search took ~1 hr on my computer.  Did not repeat for final notebook"
   ]
  },
  {
   "cell_type": "code",
   "execution_count": 71,
   "metadata": {},
   "outputs": [
    {
     "name": "stdout",
     "output_type": "stream",
     "text": [
      "RMSE: 0.8545\n"
     ]
    }
   ],
   "source": [
    "# Instantiate\n",
    "svdpp_model = SVDpp(n_factors=5, n_epochs=25, random_state=24, reg_all=0.05)\n",
    "\n",
    "# Fit on trainset and predict on testset\n",
    "svdpp_model.fit(trainset)\n",
    "predictions = svdpp_model.test(testset)\n",
    "\n",
    "# Save RMSE as variable\n",
    "svdpp_gs = accuracy.rmse(predictions)"
   ]
  },
  {
   "cell_type": "code",
   "execution_count": 41,
   "metadata": {
    "scrolled": true
   },
   "outputs": [
    {
     "name": "stdout",
     "output_type": "stream",
     "text": [
      "Evaluating RMSE of algorithm SVDpp on 3 split(s).\n",
      "\n",
      "                  Fold 1  Fold 2  Fold 3  Mean    Std     \n",
      "RMSE (testset)    0.8671  0.8655  0.8616  0.8647  0.0023  \n",
      "Fit time          226.95  229.40  227.68  228.01  1.03    \n",
      "Test time         9.33    8.53    8.92    8.93    0.33    \n"
     ]
    },
    {
     "data": {
      "text/plain": [
       "{'test_rmse': array([0.86705714, 0.86551326, 0.86164987]),\n",
       " 'fit_time': (226.95001912117004, 229.40389609336853, 227.67597913742065),\n",
       " 'test_time': (9.333841562271118, 8.53317141532898, 8.923373222351074)}"
      ]
     },
     "execution_count": 41,
     "metadata": {},
     "output_type": "execute_result"
    }
   ],
   "source": [
    "cross_validate(svdpp_model, data, measures=['RMSE'], cv=3, n_jobs=-2, verbose=True)"
   ]
  },
  {
   "cell_type": "markdown",
   "metadata": {},
   "source": [
    "This RMSE (0.8545) is slightly better than default SVD++ (0.8574) but not as good as our tuned SVD model (0.8457).  It is also very time-consuming and computationally expensive compared to our tuned SVD model"
   ]
  },
  {
   "cell_type": "markdown",
   "metadata": {},
   "source": [
    "<a id='final'></a>"
   ]
  },
  {
   "cell_type": "markdown",
   "metadata": {},
   "source": [
    "# Final Model Evaluation"
   ]
  },
  {
   "cell_type": "markdown",
   "metadata": {},
   "source": [
    "## Visual of RMSE scores for each algorithm"
   ]
  },
  {
   "cell_type": "code",
   "execution_count": 78,
   "metadata": {},
   "outputs": [],
   "source": [
    "X = ['Random', 'SVD Simple', 'Baseline Only', 'NMF GS', 'SVD GS2', 'SVDpp default', 'SVDpp GS', 'SVD GS1', 'Best SVD GS3']\n",
    "y = [baseline_normal, baseline_only, svd_simple, svd_gs2, svd_gs1, nmf_gs, svdpp_default, svdpp_gs, svd_gs3]"
   ]
  },
  {
   "cell_type": "code",
   "execution_count": 79,
   "metadata": {},
   "outputs": [
    {
     "data": {
      "text/plain": [
       "(['Random',\n",
       "  'SVD Simple',\n",
       "  'Baseline Only',\n",
       "  'NMF GS',\n",
       "  'SVD GS2',\n",
       "  'SVDpp default',\n",
       "  'SVDpp GS',\n",
       "  'SVD GS1',\n",
       "  'Best SVD GS3'],\n",
       " [1.432690382162622,\n",
       "  0.8682632466736847,\n",
       "  0.8698355278044364,\n",
       "  0.8586896433468274,\n",
       "  0.8543242157542599,\n",
       "  0.8667827339934218,\n",
       "  0.8574257005996032,\n",
       "  0.8545336031383114,\n",
       "  0.845706591035932])"
      ]
     },
     "execution_count": 79,
     "metadata": {},
     "output_type": "execute_result"
    }
   ],
   "source": [
    "X, y"
   ]
  },
  {
   "cell_type": "code",
   "execution_count": 80,
   "metadata": {},
   "outputs": [],
   "source": [
    "y_sort = sorted(y, reverse=True)"
   ]
  },
  {
   "cell_type": "code",
   "execution_count": 81,
   "metadata": {},
   "outputs": [
    {
     "data": {
      "text/plain": [
       "[1.432690382162622,\n",
       " 0.8698355278044364,\n",
       " 0.8682632466736847,\n",
       " 0.8667827339934218,\n",
       " 0.8586896433468274,\n",
       " 0.8574257005996032,\n",
       " 0.8545336031383114,\n",
       " 0.8543242157542599,\n",
       " 0.845706591035932]"
      ]
     },
     "execution_count": 81,
     "metadata": {},
     "output_type": "execute_result"
    }
   ],
   "source": [
    "y_sort"
   ]
  },
  {
   "cell_type": "code",
   "execution_count": 24,
   "metadata": {},
   "outputs": [
    {
     "data": {
      "image/png": "[encoded data removed]",
      "text/plain": [
       "<Figure size 432x288 with 1 Axes>"
      ]
     },
     "metadata": {
      "needs_background": "light"
     },
     "output_type": "display_data"
    }
   ],
   "source": [
    "fig, ax = plt.subplots()\n",
    "plt.bar(X, y_sort, color=['black', 'blue', 'blue', 'blue', 'blue', 'blue', 'blue', 'blue', 'green'])\n",
    "plt.xticks(rotation=25)\n",
    "plt.ylim(0.8, 0.95)\n",
    "plt.grid(False)\n",
    "ax.set_title(\"Surprise Models\")\n",
    "plt.ylabel('Root Mean Squared Error (RMSE)')\n",
    "plt.savefig('images/suprise_models_bar.png', dpi=300, bbox_inches='tight');"
   ]
  },
  {
   "cell_type": "markdown",
   "metadata": {},
   "source": [
    "<a id='rec'></a>"
   ]
  },
  {
   "cell_type": "markdown",
   "metadata": {},
   "source": [
    "## Recommendation Function"
   ]
  },
  {
   "cell_type": "markdown",
   "metadata": {},
   "source": [
    "With our best model ready (which uses a tuned SVD algorithm), we can incorporate it into our recommendation system.  To build this system, we will go through a few steps which are outlined below:\n",
    "- build our full trainset and fit our best model on it\n",
    "- we will create a subset dataframe with only unique movie IDs.  This will allow us to return 5 recommended movies, rather than the highest-recommended movie 5 times. \n",
    "- It will also play a role in letting us remove movies that the user has *already* reviewed"
   ]
  },
  {
   "cell_type": "code",
   "execution_count": 27,
   "metadata": {},
   "outputs": [],
   "source": [
    "# Building our full trainset\n",
    "final_model_train = data.build_full_trainset()"
   ]
  },
  {
   "cell_type": "code",
   "execution_count": 28,
   "metadata": {},
   "outputs": [
    {
     "data": {
      "text/plain": [
       "<surprise.prediction_algorithms.matrix_factorization.SVD at 0x26c76119970>"
      ]
     },
     "execution_count": 28,
     "metadata": {},
     "output_type": "execute_result"
    }
   ],
   "source": [
    "# Fitting our best model on our full trainset\n",
    "svd_3.fit(final_model_train)"
   ]
  },
  {
   "cell_type": "markdown",
   "metadata": {},
   "source": [
    "### Removing already reviewed movies"
   ]
  },
  {
   "cell_type": "code",
   "execution_count": 29,
   "metadata": {
    "scrolled": true
   },
   "outputs": [
    {
     "data": {
      "text/html": [
       "<div>\n",
       "<style scoped>\n",
       "    .dataframe tbody tr th:only-of-type {\n",
       "        vertical-align: middle;\n",
       "    }\n",
       "\n",
       "    .dataframe tbody tr th {\n",
       "        vertical-align: top;\n",
       "    }\n",
       "\n",
       "    .dataframe thead th {\n",
       "        text-align: right;\n",
       "    }\n",
       "</style>\n",
       "<table border=\"1\" class=\"dataframe\">\n",
       "  <thead>\n",
       "    <tr style=\"text-align: right;\">\n",
       "      <th></th>\n",
       "      <th>movieId</th>\n",
       "      <th>title</th>\n",
       "      <th>genres</th>\n",
       "      <th>userId</th>\n",
       "      <th>rating</th>\n",
       "      <th>timestamp</th>\n",
       "    </tr>\n",
       "  </thead>\n",
       "  <tbody>\n",
       "    <tr>\n",
       "      <th>0</th>\n",
       "      <td>1</td>\n",
       "      <td>Toy Story (1995)</td>\n",
       "      <td>Adventure|Animation|Children|Comedy|Fantasy</td>\n",
       "      <td>1</td>\n",
       "      <td>4.0</td>\n",
       "      <td>964982703</td>\n",
       "    </tr>\n",
       "    <tr>\n",
       "      <th>1</th>\n",
       "      <td>1</td>\n",
       "      <td>Toy Story (1995)</td>\n",
       "      <td>Adventure|Animation|Children|Comedy|Fantasy</td>\n",
       "      <td>5</td>\n",
       "      <td>4.0</td>\n",
       "      <td>847434962</td>\n",
       "    </tr>\n",
       "    <tr>\n",
       "      <th>2</th>\n",
       "      <td>1</td>\n",
       "      <td>Toy Story (1995)</td>\n",
       "      <td>Adventure|Animation|Children|Comedy|Fantasy</td>\n",
       "      <td>7</td>\n",
       "      <td>4.5</td>\n",
       "      <td>1106635946</td>\n",
       "    </tr>\n",
       "    <tr>\n",
       "      <th>3</th>\n",
       "      <td>1</td>\n",
       "      <td>Toy Story (1995)</td>\n",
       "      <td>Adventure|Animation|Children|Comedy|Fantasy</td>\n",
       "      <td>15</td>\n",
       "      <td>2.5</td>\n",
       "      <td>1510577970</td>\n",
       "    </tr>\n",
       "    <tr>\n",
       "      <th>4</th>\n",
       "      <td>1</td>\n",
       "      <td>Toy Story (1995)</td>\n",
       "      <td>Adventure|Animation|Children|Comedy|Fantasy</td>\n",
       "      <td>17</td>\n",
       "      <td>4.5</td>\n",
       "      <td>1305696483</td>\n",
       "    </tr>\n",
       "  </tbody>\n",
       "</table>\n",
       "</div>"
      ],
      "text/plain": [
       "   movieId             title                                       genres  \\\n",
       "0        1  Toy Story (1995)  Adventure|Animation|Children|Comedy|Fantasy   \n",
       "1        1  Toy Story (1995)  Adventure|Animation|Children|Comedy|Fantasy   \n",
       "2        1  Toy Story (1995)  Adventure|Animation|Children|Comedy|Fantasy   \n",
       "3        1  Toy Story (1995)  Adventure|Animation|Children|Comedy|Fantasy   \n",
       "4        1  Toy Story (1995)  Adventure|Animation|Children|Comedy|Fantasy   \n",
       "\n",
       "   userId  rating   timestamp  \n",
       "0       1     4.0   964982703  \n",
       "1       5     4.0   847434962  \n",
       "2       7     4.5  1106635946  \n",
       "3      15     2.5  1510577970  \n",
       "4      17     4.5  1305696483  "
      ]
     },
     "execution_count": 29,
     "metadata": {},
     "output_type": "execute_result"
    }
   ],
   "source": [
    "# review of combined dataframe\n",
    "df.head()"
   ]
  },
  {
   "cell_type": "code",
   "execution_count": 30,
   "metadata": {},
   "outputs": [
    {
     "data": {
      "text/plain": [
       "(100836, 6)"
      ]
     },
     "execution_count": 30,
     "metadata": {},
     "output_type": "execute_result"
    }
   ],
   "source": [
    "df.shape"
   ]
  },
  {
   "cell_type": "code",
   "execution_count": 31,
   "metadata": {},
   "outputs": [
    {
     "name": "stdout",
     "output_type": "stream",
     "text": [
      "<class 'pandas.core.frame.DataFrame'>\n",
      "Int64Index: 9724 entries, 0 to 100835\n",
      "Data columns (total 6 columns):\n",
      " #   Column     Non-Null Count  Dtype  \n",
      "---  ------     --------------  -----  \n",
      " 0   movieId    9724 non-null   int64  \n",
      " 1   title      9724 non-null   object \n",
      " 2   genres     9724 non-null   object \n",
      " 3   userId     9724 non-null   int64  \n",
      " 4   rating     9724 non-null   float64\n",
      " 5   timestamp  9724 non-null   int64  \n",
      "dtypes: float64(1), int64(3), object(2)\n",
      "memory usage: 531.8+ KB\n"
     ]
    }
   ],
   "source": [
    "# dropping duplicate movie IDs - new dataframe is df_drop\n",
    "df_drop = df.drop_duplicates('movieId')\n",
    "df_drop.info()"
   ]
  },
  {
   "cell_type": "code",
   "execution_count": 32,
   "metadata": {},
   "outputs": [
    {
     "name": "stdout",
     "output_type": "stream",
     "text": [
      "<class 'pandas.core.frame.DataFrame'>\n",
      "Int64Index: 9724 entries, 1 to 193609\n",
      "Data columns (total 5 columns):\n",
      " #   Column     Non-Null Count  Dtype  \n",
      "---  ------     --------------  -----  \n",
      " 0   title      9724 non-null   object \n",
      " 1   genres     9724 non-null   object \n",
      " 2   userId     9724 non-null   int64  \n",
      " 3   rating     9724 non-null   float64\n",
      " 4   timestamp  9724 non-null   int64  \n",
      "dtypes: float64(1), int64(2), object(2)\n",
      "memory usage: 455.8+ KB\n"
     ]
    }
   ],
   "source": [
    "# setting index of new dataframe to 'movieId'\n",
    "df_reset = df_drop.set_index('movieId')\n",
    "df_reset.info()"
   ]
  },
  {
   "cell_type": "code",
   "execution_count": 33,
   "metadata": {},
   "outputs": [
    {
     "data": {
      "text/plain": [
       "(9724, 5)"
      ]
     },
     "execution_count": 33,
     "metadata": {},
     "output_type": "execute_result"
    }
   ],
   "source": [
    "df_reset.shape"
   ]
  },
  {
   "cell_type": "code",
   "execution_count": 34,
   "metadata": {},
   "outputs": [
    {
     "data": {
      "text/html": [
       "<div>\n",
       "<style scoped>\n",
       "    .dataframe tbody tr th:only-of-type {\n",
       "        vertical-align: middle;\n",
       "    }\n",
       "\n",
       "    .dataframe tbody tr th {\n",
       "        vertical-align: top;\n",
       "    }\n",
       "\n",
       "    .dataframe thead th {\n",
       "        text-align: right;\n",
       "    }\n",
       "</style>\n",
       "<table border=\"1\" class=\"dataframe\">\n",
       "  <thead>\n",
       "    <tr style=\"text-align: right;\">\n",
       "      <th></th>\n",
       "      <th>movieId</th>\n",
       "    </tr>\n",
       "    <tr>\n",
       "      <th>userId</th>\n",
       "      <th></th>\n",
       "    </tr>\n",
       "  </thead>\n",
       "  <tbody>\n",
       "    <tr>\n",
       "      <th>1</th>\n",
       "      <td>1</td>\n",
       "    </tr>\n",
       "    <tr>\n",
       "      <th>5</th>\n",
       "      <td>1</td>\n",
       "    </tr>\n",
       "    <tr>\n",
       "      <th>7</th>\n",
       "      <td>1</td>\n",
       "    </tr>\n",
       "    <tr>\n",
       "      <th>15</th>\n",
       "      <td>1</td>\n",
       "    </tr>\n",
       "    <tr>\n",
       "      <th>17</th>\n",
       "      <td>1</td>\n",
       "    </tr>\n",
       "  </tbody>\n",
       "</table>\n",
       "</div>"
      ],
      "text/plain": [
       "        movieId\n",
       "userId         \n",
       "1             1\n",
       "5             1\n",
       "7             1\n",
       "15            1\n",
       "17            1"
      ]
     },
     "execution_count": 34,
     "metadata": {},
     "output_type": "execute_result"
    }
   ],
   "source": [
    "# create a dataframe of only user IDs and movie IDs, with index set to 'userId'\n",
    "df_user = df.set_index('userId')\n",
    "df_user.drop(columns=['title', 'genres', 'rating', 'timestamp'], inplace=True)\n",
    "df_user.head()"
   ]
  },
  {
   "cell_type": "code",
   "execution_count": 35,
   "metadata": {},
   "outputs": [
    {
     "data": {
      "text/plain": [
       "(100836, 1)"
      ]
     },
     "execution_count": 35,
     "metadata": {},
     "output_type": "execute_result"
    }
   ],
   "source": [
    "df_user.shape"
   ]
  },
  {
   "cell_type": "code",
   "execution_count": 36,
   "metadata": {},
   "outputs": [
    {
     "name": "stdout",
     "output_type": "stream",
     "text": [
      "UserId: 24\n",
      "How many recommendations? 5\n"
     ]
    }
   ],
   "source": [
    "# testing user input function.  n_recs won't be necessary as we were tasked with the top 5 only\n",
    "user = int(input('UserId: '))\n",
    "n_recs = int(input('How many recommendations? '))"
   ]
  },
  {
   "cell_type": "markdown",
   "metadata": {},
   "source": [
    "### Creating a list of already-reviewed movies"
   ]
  },
  {
   "cell_type": "code",
   "execution_count": 37,
   "metadata": {},
   "outputs": [],
   "source": [
    "# creating a 'have_reviewed' list for function, based on 'userId' entered\n",
    "have_reviewed = list(df_user.loc[user, 'movieId'])"
   ]
  },
  {
   "cell_type": "code",
   "execution_count": 38,
   "metadata": {},
   "outputs": [
    {
     "data": {
      "text/html": [
       "<div>\n",
       "<style scoped>\n",
       "    .dataframe tbody tr th:only-of-type {\n",
       "        vertical-align: middle;\n",
       "    }\n",
       "\n",
       "    .dataframe tbody tr th {\n",
       "        vertical-align: top;\n",
       "    }\n",
       "\n",
       "    .dataframe thead th {\n",
       "        text-align: right;\n",
       "    }\n",
       "</style>\n",
       "<table border=\"1\" class=\"dataframe\">\n",
       "  <thead>\n",
       "    <tr style=\"text-align: right;\">\n",
       "      <th></th>\n",
       "      <th>movieId</th>\n",
       "      <th>title</th>\n",
       "      <th>genres</th>\n",
       "      <th>userId</th>\n",
       "      <th>rating</th>\n",
       "      <th>timestamp</th>\n",
       "    </tr>\n",
       "  </thead>\n",
       "  <tbody>\n",
       "    <tr>\n",
       "      <th>0</th>\n",
       "      <td>1</td>\n",
       "      <td>Toy Story (1995)</td>\n",
       "      <td>Adventure|Animation|Children|Comedy|Fantasy</td>\n",
       "      <td>1</td>\n",
       "      <td>4.0</td>\n",
       "      <td>964982703</td>\n",
       "    </tr>\n",
       "    <tr>\n",
       "      <th>1</th>\n",
       "      <td>2</td>\n",
       "      <td>Jumanji (1995)</td>\n",
       "      <td>Adventure|Children|Fantasy</td>\n",
       "      <td>6</td>\n",
       "      <td>4.0</td>\n",
       "      <td>845553522</td>\n",
       "    </tr>\n",
       "    <tr>\n",
       "      <th>2</th>\n",
       "      <td>3</td>\n",
       "      <td>Grumpier Old Men (1995)</td>\n",
       "      <td>Comedy|Romance</td>\n",
       "      <td>1</td>\n",
       "      <td>4.0</td>\n",
       "      <td>964981247</td>\n",
       "    </tr>\n",
       "    <tr>\n",
       "      <th>3</th>\n",
       "      <td>4</td>\n",
       "      <td>Waiting to Exhale (1995)</td>\n",
       "      <td>Comedy|Drama|Romance</td>\n",
       "      <td>6</td>\n",
       "      <td>3.0</td>\n",
       "      <td>845554349</td>\n",
       "    </tr>\n",
       "    <tr>\n",
       "      <th>4</th>\n",
       "      <td>5</td>\n",
       "      <td>Father of the Bride Part II (1995)</td>\n",
       "      <td>Comedy</td>\n",
       "      <td>6</td>\n",
       "      <td>5.0</td>\n",
       "      <td>845553938</td>\n",
       "    </tr>\n",
       "  </tbody>\n",
       "</table>\n",
       "</div>"
      ],
      "text/plain": [
       "   movieId                               title  \\\n",
       "0        1                    Toy Story (1995)   \n",
       "1        2                      Jumanji (1995)   \n",
       "2        3             Grumpier Old Men (1995)   \n",
       "3        4            Waiting to Exhale (1995)   \n",
       "4        5  Father of the Bride Part II (1995)   \n",
       "\n",
       "                                        genres  userId  rating  timestamp  \n",
       "0  Adventure|Animation|Children|Comedy|Fantasy       1     4.0  964982703  \n",
       "1                   Adventure|Children|Fantasy       6     4.0  845553522  \n",
       "2                               Comedy|Romance       1     4.0  964981247  \n",
       "3                         Comedy|Drama|Romance       6     3.0  845554349  \n",
       "4                                       Comedy       6     5.0  845553938  "
      ]
     },
     "execution_count": 38,
     "metadata": {},
     "output_type": "execute_result"
    }
   ],
   "source": [
    "# creating a 'not_reviewed' dataframe that has removed movies that 'user' has already seen\n",
    "not_reviewed = df_reset.copy()\n",
    "not_reviewed.drop(have_reviewed, inplace=True)\n",
    "not_reviewed.reset_index(inplace=True)\n",
    "not_reviewed.head()"
   ]
  },
  {
   "cell_type": "code",
   "execution_count": 39,
   "metadata": {},
   "outputs": [
    {
     "data": {
      "text/plain": [
       "(9614, 6)"
      ]
     },
     "execution_count": 39,
     "metadata": {},
     "output_type": "execute_result"
    }
   ],
   "source": [
    "# confirming the shape of not_reviewed is less than the unique movie dataframe (9,742)\n",
    "not_reviewed.shape"
   ]
  },
  {
   "cell_type": "markdown",
   "metadata": {},
   "source": [
    "### Initial test for model"
   ]
  },
  {
   "cell_type": "code",
   "execution_count": 40,
   "metadata": {},
   "outputs": [
    {
     "data": {
      "text/html": [
       "<div>\n",
       "<style scoped>\n",
       "    .dataframe tbody tr th:only-of-type {\n",
       "        vertical-align: middle;\n",
       "    }\n",
       "\n",
       "    .dataframe tbody tr th {\n",
       "        vertical-align: top;\n",
       "    }\n",
       "\n",
       "    .dataframe thead th {\n",
       "        text-align: right;\n",
       "    }\n",
       "</style>\n",
       "<table border=\"1\" class=\"dataframe\">\n",
       "  <thead>\n",
       "    <tr style=\"text-align: right;\">\n",
       "      <th></th>\n",
       "      <th>movieId</th>\n",
       "      <th>title</th>\n",
       "      <th>genres</th>\n",
       "      <th>userId</th>\n",
       "      <th>rating</th>\n",
       "      <th>timestamp</th>\n",
       "      <th>predicted_rating</th>\n",
       "    </tr>\n",
       "  </thead>\n",
       "  <tbody>\n",
       "    <tr>\n",
       "      <th>4322</th>\n",
       "      <td>6442</td>\n",
       "      <td>Belle époque (1992)</td>\n",
       "      <td>Comedy|Romance</td>\n",
       "      <td>414</td>\n",
       "      <td>5.0</td>\n",
       "      <td>1055265907</td>\n",
       "      <td>4.593466</td>\n",
       "    </tr>\n",
       "    <tr>\n",
       "      <th>4521</th>\n",
       "      <td>6818</td>\n",
       "      <td>Come and See (Idi i smotri) (1985)</td>\n",
       "      <td>Drama|War</td>\n",
       "      <td>305</td>\n",
       "      <td>5.0</td>\n",
       "      <td>1516132019</td>\n",
       "      <td>4.510438</td>\n",
       "    </tr>\n",
       "    <tr>\n",
       "      <th>5128</th>\n",
       "      <td>8477</td>\n",
       "      <td>Jetée, La (1962)</td>\n",
       "      <td>Romance|Sci-Fi</td>\n",
       "      <td>567</td>\n",
       "      <td>5.0</td>\n",
       "      <td>1525282230</td>\n",
       "      <td>4.505823</td>\n",
       "    </tr>\n",
       "    <tr>\n",
       "      <th>9386</th>\n",
       "      <td>171495</td>\n",
       "      <td>Cosmos</td>\n",
       "      <td>(no genres listed)</td>\n",
       "      <td>318</td>\n",
       "      <td>5.0</td>\n",
       "      <td>1516826406</td>\n",
       "      <td>4.493466</td>\n",
       "    </tr>\n",
       "    <tr>\n",
       "      <th>7253</th>\n",
       "      <td>78836</td>\n",
       "      <td>Enter the Void (2009)</td>\n",
       "      <td>Drama</td>\n",
       "      <td>318</td>\n",
       "      <td>5.0</td>\n",
       "      <td>1447159301</td>\n",
       "      <td>4.476562</td>\n",
       "    </tr>\n",
       "  </tbody>\n",
       "</table>\n",
       "</div>"
      ],
      "text/plain": [
       "      movieId                               title              genres  userId  \\\n",
       "4322     6442                 Belle époque (1992)      Comedy|Romance     414   \n",
       "4521     6818  Come and See (Idi i smotri) (1985)           Drama|War     305   \n",
       "5128     8477                    Jetée, La (1962)      Romance|Sci-Fi     567   \n",
       "9386   171495                              Cosmos  (no genres listed)     318   \n",
       "7253    78836               Enter the Void (2009)               Drama     318   \n",
       "\n",
       "      rating   timestamp  predicted_rating  \n",
       "4322     5.0  1055265907          4.593466  \n",
       "4521     5.0  1516132019          4.510438  \n",
       "5128     5.0  1525282230          4.505823  \n",
       "9386     5.0  1516826406          4.493466  \n",
       "7253     5.0  1447159301          4.476562  "
      ]
     },
     "execution_count": 40,
     "metadata": {},
     "output_type": "execute_result"
    }
   ],
   "source": [
    "# using our best model to make predictions based on 'userId' provided above\n",
    "# (creates a 'predicted_rating' column)  and returning top 5 (n_recs)\n",
    "\n",
    "not_reviewed['predicted_rating'] = not_reviewed['movieId'].apply(lambda x: svd_3.predict(user, x).est)\n",
    "not_reviewed.sort_values(by='predicted_rating', ascending=False, inplace=True)\n",
    "not_reviewed.head(n_recs)"
   ]
  },
  {
   "cell_type": "code",
   "execution_count": 41,
   "metadata": {},
   "outputs": [
    {
     "data": {
      "text/plain": [
       "610"
      ]
     },
     "execution_count": 41,
     "metadata": {},
     "output_type": "execute_result"
    }
   ],
   "source": [
    "# How many unique users are there?\n",
    "df['userId'].nunique()"
   ]
  },
  {
   "cell_type": "code",
   "execution_count": 42,
   "metadata": {
    "scrolled": true
   },
   "outputs": [
    {
     "data": {
      "text/plain": [
       "610"
      ]
     },
     "execution_count": 42,
     "metadata": {},
     "output_type": "execute_result"
    }
   ],
   "source": [
    "# What's the highest userId?\n",
    "df['userId'].max()\n",
    "\n",
    "# so no skipped numbers from 1 to 610, but function below won't work above 610"
   ]
  },
  {
   "cell_type": "markdown",
   "metadata": {},
   "source": [
    "### Complete function for movie recommendation system"
   ]
  },
  {
   "cell_type": "markdown",
   "metadata": {},
   "source": [
    "Now let's put all the above steps into a unified function:"
   ]
  },
  {
   "cell_type": "code",
   "execution_count": 43,
   "metadata": {},
   "outputs": [],
   "source": [
    "# thanks to Daniel for the guidance on this one\n",
    "\n",
    "def user_recommended_movies():\n",
    "    \n",
    "    # input a userId\n",
    "    user = int(input('Please enter a User Id (from 1 to 610): '))\n",
    "    # define number of recommendations as 'Top 5'\n",
    "    n_recs = 5  # could use this for user-specified recs: int(input('How many recommendations? '))\n",
    "    \n",
    "    # creating our have_reviewed list from the dataframe with only userId and movieId, and .loc\n",
    "    have_reviewed = list(df_user.loc[user, 'movieId'])\n",
    "    \n",
    "    # then creating not_reviewed dataframe, removing have_reviewed from above\n",
    "    not_reviewed = df_reset.copy()\n",
    "    not_reviewed.drop(have_reviewed, inplace=True)\n",
    "    # reset index\n",
    "    not_reviewed.reset_index(inplace=True)\n",
    "    # create a new column with results of lambda function with best model\n",
    "    not_reviewed['predicted_rating'] = not_reviewed['movieId'].apply(lambda x: svd_3.predict(user, x).est)\n",
    "    # sorting values, and will only return top 5 at the bottom\n",
    "    not_reviewed.sort_values(by='predicted_rating', ascending=False, inplace=True)\n",
    "    # cleaning up column names\n",
    "    not_reviewed.rename(columns={'movieId':'Movie ID', 'title':'Movie Title',\n",
    "                               'genres':'Genres', 'predicted_rating':'Predicted Rating'}, inplace=True)\n",
    "    # dropping unnecessary columns\n",
    "    not_reviewed.drop(columns=['userId', 'rating', 'timestamp'], inplace=True)\n",
    "    \n",
    "    print('\\n' + f'Here are the top 5 recommendations for user #{user}' + '\\n')\n",
    "    return not_reviewed.head(n_recs)"
   ]
  },
  {
   "cell_type": "code",
   "execution_count": 44,
   "metadata": {},
   "outputs": [
    {
     "name": "stdout",
     "output_type": "stream",
     "text": [
      "Please enter a User Id (from 1 to 610): 610\n",
      "\n",
      "Here are the top 5 recommendations for user #610\n",
      "\n"
     ]
    },
    {
     "data": {
      "text/html": [
       "<div>\n",
       "<style scoped>\n",
       "    .dataframe tbody tr th:only-of-type {\n",
       "        vertical-align: middle;\n",
       "    }\n",
       "\n",
       "    .dataframe tbody tr th {\n",
       "        vertical-align: top;\n",
       "    }\n",
       "\n",
       "    .dataframe thead th {\n",
       "        text-align: right;\n",
       "    }\n",
       "</style>\n",
       "<table border=\"1\" class=\"dataframe\">\n",
       "  <thead>\n",
       "    <tr style=\"text-align: right;\">\n",
       "      <th></th>\n",
       "      <th>Movie ID</th>\n",
       "      <th>Movie Title</th>\n",
       "      <th>Genres</th>\n",
       "      <th>Predicted Rating</th>\n",
       "    </tr>\n",
       "  </thead>\n",
       "  <tbody>\n",
       "    <tr>\n",
       "      <th>4129</th>\n",
       "      <td>6818</td>\n",
       "      <td>Come and See (Idi i smotri) (1985)</td>\n",
       "      <td>Drama|War</td>\n",
       "      <td>4.944254</td>\n",
       "    </tr>\n",
       "    <tr>\n",
       "      <th>7599</th>\n",
       "      <td>132333</td>\n",
       "      <td>Seve (2014)</td>\n",
       "      <td>Documentary|Drama</td>\n",
       "      <td>4.942065</td>\n",
       "    </tr>\n",
       "    <tr>\n",
       "      <th>4679</th>\n",
       "      <td>8477</td>\n",
       "      <td>Jetée, La (1962)</td>\n",
       "      <td>Romance|Sci-Fi</td>\n",
       "      <td>4.932173</td>\n",
       "    </tr>\n",
       "    <tr>\n",
       "      <th>3953</th>\n",
       "      <td>6442</td>\n",
       "      <td>Belle époque (1992)</td>\n",
       "      <td>Comedy|Romance</td>\n",
       "      <td>4.893592</td>\n",
       "    </tr>\n",
       "    <tr>\n",
       "      <th>5052</th>\n",
       "      <td>27156</td>\n",
       "      <td>Neon Genesis Evangelion: The End of Evangelion...</td>\n",
       "      <td>Action|Animation|Drama|Fantasy|Sci-Fi</td>\n",
       "      <td>4.807154</td>\n",
       "    </tr>\n",
       "  </tbody>\n",
       "</table>\n",
       "</div>"
      ],
      "text/plain": [
       "      Movie ID                                        Movie Title  \\\n",
       "4129      6818                 Come and See (Idi i smotri) (1985)   \n",
       "7599    132333                                        Seve (2014)   \n",
       "4679      8477                                   Jetée, La (1962)   \n",
       "3953      6442                                Belle époque (1992)   \n",
       "5052     27156  Neon Genesis Evangelion: The End of Evangelion...   \n",
       "\n",
       "                                     Genres  Predicted Rating  \n",
       "4129                              Drama|War          4.944254  \n",
       "7599                      Documentary|Drama          4.942065  \n",
       "4679                         Romance|Sci-Fi          4.932173  \n",
       "3953                         Comedy|Romance          4.893592  \n",
       "5052  Action|Animation|Drama|Fantasy|Sci-Fi          4.807154  "
      ]
     },
     "execution_count": 44,
     "metadata": {},
     "output_type": "execute_result"
    }
   ],
   "source": [
    "# Test number 1\n",
    "# user_recommended_movies()"
   ]
  },
  {
   "cell_type": "code",
   "execution_count": 45,
   "metadata": {},
   "outputs": [
    {
     "data": {
      "text/html": [
       "<div>\n",
       "<style scoped>\n",
       "    .dataframe tbody tr th:only-of-type {\n",
       "        vertical-align: middle;\n",
       "    }\n",
       "\n",
       "    .dataframe tbody tr th {\n",
       "        vertical-align: top;\n",
       "    }\n",
       "\n",
       "    .dataframe thead th {\n",
       "        text-align: right;\n",
       "    }\n",
       "</style>\n",
       "<table border=\"1\" class=\"dataframe\">\n",
       "  <thead>\n",
       "    <tr style=\"text-align: right;\">\n",
       "      <th></th>\n",
       "      <th>movieId</th>\n",
       "      <th>title</th>\n",
       "      <th>genres</th>\n",
       "      <th>userId</th>\n",
       "      <th>rating</th>\n",
       "      <th>timestamp</th>\n",
       "    </tr>\n",
       "  </thead>\n",
       "  <tbody>\n",
       "    <tr>\n",
       "      <th>214</th>\n",
       "      <td>1</td>\n",
       "      <td>Toy Story (1995)</td>\n",
       "      <td>Adventure|Animation|Children|Comedy|Fantasy</td>\n",
       "      <td>610</td>\n",
       "      <td>5.0</td>\n",
       "      <td>1479542900</td>\n",
       "    </tr>\n",
       "    <tr>\n",
       "      <th>534</th>\n",
       "      <td>6</td>\n",
       "      <td>Heat (1995)</td>\n",
       "      <td>Action|Crime|Thriller</td>\n",
       "      <td>610</td>\n",
       "      <td>5.0</td>\n",
       "      <td>1493850345</td>\n",
       "    </tr>\n",
       "    <tr>\n",
       "      <th>954</th>\n",
       "      <td>16</td>\n",
       "      <td>Casino (1995)</td>\n",
       "      <td>Crime|Drama</td>\n",
       "      <td>610</td>\n",
       "      <td>4.5</td>\n",
       "      <td>1479542171</td>\n",
       "    </tr>\n",
       "    <tr>\n",
       "      <th>1678</th>\n",
       "      <td>32</td>\n",
       "      <td>Twelve Monkeys (a.k.a. 12 Monkeys) (1995)</td>\n",
       "      <td>Mystery|Sci-Fi|Thriller</td>\n",
       "      <td>610</td>\n",
       "      <td>4.5</td>\n",
       "      <td>1479543331</td>\n",
       "    </tr>\n",
       "    <tr>\n",
       "      <th>2309</th>\n",
       "      <td>47</td>\n",
       "      <td>Seven (a.k.a. Se7en) (1995)</td>\n",
       "      <td>Mystery|Thriller</td>\n",
       "      <td>610</td>\n",
       "      <td>5.0</td>\n",
       "      <td>1479545853</td>\n",
       "    </tr>\n",
       "    <tr>\n",
       "      <th>...</th>\n",
       "      <td>...</td>\n",
       "      <td>...</td>\n",
       "      <td>...</td>\n",
       "      <td>...</td>\n",
       "      <td>...</td>\n",
       "      <td>...</td>\n",
       "    </tr>\n",
       "    <tr>\n",
       "      <th>100232</th>\n",
       "      <td>166534</td>\n",
       "      <td>Split (2017)</td>\n",
       "      <td>Drama|Horror|Thriller</td>\n",
       "      <td>610</td>\n",
       "      <td>4.0</td>\n",
       "      <td>1493848402</td>\n",
       "    </tr>\n",
       "    <tr>\n",
       "      <th>100294</th>\n",
       "      <td>168248</td>\n",
       "      <td>John Wick: Chapter Two (2017)</td>\n",
       "      <td>Action|Crime|Thriller</td>\n",
       "      <td>610</td>\n",
       "      <td>5.0</td>\n",
       "      <td>1493850091</td>\n",
       "    </tr>\n",
       "    <tr>\n",
       "      <th>100309</th>\n",
       "      <td>168250</td>\n",
       "      <td>Get Out (2017)</td>\n",
       "      <td>Horror</td>\n",
       "      <td>610</td>\n",
       "      <td>5.0</td>\n",
       "      <td>1494273047</td>\n",
       "    </tr>\n",
       "    <tr>\n",
       "      <th>100334</th>\n",
       "      <td>168252</td>\n",
       "      <td>Logan (2017)</td>\n",
       "      <td>Action|Sci-Fi</td>\n",
       "      <td>610</td>\n",
       "      <td>5.0</td>\n",
       "      <td>1493846352</td>\n",
       "    </tr>\n",
       "    <tr>\n",
       "      <th>100411</th>\n",
       "      <td>170875</td>\n",
       "      <td>The Fate of the Furious (2017)</td>\n",
       "      <td>Action|Crime|Drama|Thriller</td>\n",
       "      <td>610</td>\n",
       "      <td>3.0</td>\n",
       "      <td>1493846415</td>\n",
       "    </tr>\n",
       "  </tbody>\n",
       "</table>\n",
       "<p>1302 rows × 6 columns</p>\n",
       "</div>"
      ],
      "text/plain": [
       "        movieId                                      title  \\\n",
       "214           1                           Toy Story (1995)   \n",
       "534           6                                Heat (1995)   \n",
       "954          16                              Casino (1995)   \n",
       "1678         32  Twelve Monkeys (a.k.a. 12 Monkeys) (1995)   \n",
       "2309         47                Seven (a.k.a. Se7en) (1995)   \n",
       "...         ...                                        ...   \n",
       "100232   166534                               Split (2017)   \n",
       "100294   168248              John Wick: Chapter Two (2017)   \n",
       "100309   168250                             Get Out (2017)   \n",
       "100334   168252                               Logan (2017)   \n",
       "100411   170875             The Fate of the Furious (2017)   \n",
       "\n",
       "                                             genres  userId  rating  \\\n",
       "214     Adventure|Animation|Children|Comedy|Fantasy     610     5.0   \n",
       "534                           Action|Crime|Thriller     610     5.0   \n",
       "954                                     Crime|Drama     610     4.5   \n",
       "1678                        Mystery|Sci-Fi|Thriller     610     4.5   \n",
       "2309                               Mystery|Thriller     610     5.0   \n",
       "...                                             ...     ...     ...   \n",
       "100232                        Drama|Horror|Thriller     610     4.0   \n",
       "100294                        Action|Crime|Thriller     610     5.0   \n",
       "100309                                       Horror     610     5.0   \n",
       "100334                                Action|Sci-Fi     610     5.0   \n",
       "100411                  Action|Crime|Drama|Thriller     610     3.0   \n",
       "\n",
       "         timestamp  \n",
       "214     1479542900  \n",
       "534     1493850345  \n",
       "954     1479542171  \n",
       "1678    1479543331  \n",
       "2309    1479545853  \n",
       "...            ...  \n",
       "100232  1493848402  \n",
       "100294  1493850091  \n",
       "100309  1494273047  \n",
       "100334  1493846352  \n",
       "100411  1493846415  \n",
       "\n",
       "[1302 rows x 6 columns]"
      ]
     },
     "execution_count": 45,
     "metadata": {},
     "output_type": "execute_result"
    }
   ],
   "source": [
    "# compare to user #610's ACTUAL ratings...\n",
    "df.loc[df['userId'] == 610]"
   ]
  },
  {
   "cell_type": "code",
   "execution_count": 46,
   "metadata": {},
   "outputs": [
    {
     "data": {
      "text/plain": [
       "3.6885560675883258"
      ]
     },
     "execution_count": 46,
     "metadata": {},
     "output_type": "execute_result"
    }
   ],
   "source": [
    "# what is the user's average rating?\n",
    "df_610 = df.loc[df['userId'] == 610]\n",
    "df_610['rating'].mean()"
   ]
  },
  {
   "cell_type": "code",
   "execution_count": 47,
   "metadata": {},
   "outputs": [
    {
     "data": {
      "text/plain": [
       "1302"
      ]
     },
     "execution_count": 47,
     "metadata": {},
     "output_type": "execute_result"
    }
   ],
   "source": [
    "len(df_610)"
   ]
  },
  {
   "cell_type": "code",
   "execution_count": 48,
   "metadata": {},
   "outputs": [
    {
     "data": {
      "text/plain": [
       "3.501556983616962"
      ]
     },
     "execution_count": 48,
     "metadata": {},
     "output_type": "execute_result"
    }
   ],
   "source": [
    "# review of average user rating for the whole dataset\n",
    "df['rating'].mean()"
   ]
  },
  {
   "cell_type": "markdown",
   "metadata": {},
   "source": [
    "This user has rated 1302 movies across many genres.  They also have an average rating (3.69) close to the average rating for the whole dataset (3.50).  Our recommendation system returned 5 recommendations well above that user's average, indicating these 5 recommendations should be well-rated by the user.  "
   ]
  },
  {
   "cell_type": "code",
   "execution_count": 49,
   "metadata": {},
   "outputs": [
    {
     "name": "stdout",
     "output_type": "stream",
     "text": [
      "Please enter a User Id (from 1 to 610): 8\n",
      "\n",
      "Here are the top 5 recommendations for user #8\n",
      "\n"
     ]
    },
    {
     "data": {
      "text/html": [
       "<div>\n",
       "<style scoped>\n",
       "    .dataframe tbody tr th:only-of-type {\n",
       "        vertical-align: middle;\n",
       "    }\n",
       "\n",
       "    .dataframe tbody tr th {\n",
       "        vertical-align: top;\n",
       "    }\n",
       "\n",
       "    .dataframe thead th {\n",
       "        text-align: right;\n",
       "    }\n",
       "</style>\n",
       "<table border=\"1\" class=\"dataframe\">\n",
       "  <thead>\n",
       "    <tr style=\"text-align: right;\">\n",
       "      <th></th>\n",
       "      <th>Movie ID</th>\n",
       "      <th>Movie Title</th>\n",
       "      <th>Genres</th>\n",
       "      <th>Predicted Rating</th>\n",
       "    </tr>\n",
       "  </thead>\n",
       "  <tbody>\n",
       "    <tr>\n",
       "      <th>3268</th>\n",
       "      <td>4495</td>\n",
       "      <td>Crossing Delancey (1988)</td>\n",
       "      <td>Comedy|Romance</td>\n",
       "      <td>4.779984</td>\n",
       "    </tr>\n",
       "    <tr>\n",
       "      <th>4337</th>\n",
       "      <td>6442</td>\n",
       "      <td>Belle époque (1992)</td>\n",
       "      <td>Comedy|Romance</td>\n",
       "      <td>4.725032</td>\n",
       "    </tr>\n",
       "    <tr>\n",
       "      <th>2546</th>\n",
       "      <td>3473</td>\n",
       "      <td>Jonah Who Will Be 25 in the Year 2000 (Jonas q...</td>\n",
       "      <td>Comedy</td>\n",
       "      <td>4.655334</td>\n",
       "    </tr>\n",
       "    <tr>\n",
       "      <th>5017</th>\n",
       "      <td>7982</td>\n",
       "      <td>Tale of Two Sisters, A (Janghwa, Hongryeon) (2...</td>\n",
       "      <td>Drama|Horror|Mystery|Thriller</td>\n",
       "      <td>4.648322</td>\n",
       "    </tr>\n",
       "    <tr>\n",
       "      <th>7300</th>\n",
       "      <td>78836</td>\n",
       "      <td>Enter the Void (2009)</td>\n",
       "      <td>Drama</td>\n",
       "      <td>4.642601</td>\n",
       "    </tr>\n",
       "  </tbody>\n",
       "</table>\n",
       "</div>"
      ],
      "text/plain": [
       "      Movie ID                                        Movie Title  \\\n",
       "3268      4495                           Crossing Delancey (1988)   \n",
       "4337      6442                                Belle époque (1992)   \n",
       "2546      3473  Jonah Who Will Be 25 in the Year 2000 (Jonas q...   \n",
       "5017      7982  Tale of Two Sisters, A (Janghwa, Hongryeon) (2...   \n",
       "7300     78836                              Enter the Void (2009)   \n",
       "\n",
       "                             Genres  Predicted Rating  \n",
       "3268                 Comedy|Romance          4.779984  \n",
       "4337                 Comedy|Romance          4.725032  \n",
       "2546                         Comedy          4.655334  \n",
       "5017  Drama|Horror|Mystery|Thriller          4.648322  \n",
       "7300                          Drama          4.642601  "
      ]
     },
     "execution_count": 49,
     "metadata": {},
     "output_type": "execute_result"
    }
   ],
   "source": [
    "# Test number 2\n",
    "# user_recommended_movies()"
   ]
  },
  {
   "cell_type": "code",
   "execution_count": 50,
   "metadata": {
    "scrolled": true
   },
   "outputs": [
    {
     "data": {
      "text/html": [
       "<div>\n",
       "<style scoped>\n",
       "    .dataframe tbody tr th:only-of-type {\n",
       "        vertical-align: middle;\n",
       "    }\n",
       "\n",
       "    .dataframe tbody tr th {\n",
       "        vertical-align: top;\n",
       "    }\n",
       "\n",
       "    .dataframe thead th {\n",
       "        text-align: right;\n",
       "    }\n",
       "</style>\n",
       "<table border=\"1\" class=\"dataframe\">\n",
       "  <thead>\n",
       "    <tr style=\"text-align: right;\">\n",
       "      <th></th>\n",
       "      <th>movieId</th>\n",
       "      <th>title</th>\n",
       "      <th>genres</th>\n",
       "      <th>userId</th>\n",
       "      <th>rating</th>\n",
       "      <th>timestamp</th>\n",
       "    </tr>\n",
       "  </thead>\n",
       "  <tbody>\n",
       "    <tr>\n",
       "      <th>216</th>\n",
       "      <td>2</td>\n",
       "      <td>Jumanji (1995)</td>\n",
       "      <td>Adventure|Children|Fantasy</td>\n",
       "      <td>8</td>\n",
       "      <td>4.0</td>\n",
       "      <td>839463806</td>\n",
       "    </tr>\n",
       "    <tr>\n",
       "      <th>614</th>\n",
       "      <td>10</td>\n",
       "      <td>GoldenEye (1995)</td>\n",
       "      <td>Action|Adventure|Thriller</td>\n",
       "      <td>8</td>\n",
       "      <td>2.0</td>\n",
       "      <td>839463509</td>\n",
       "    </tr>\n",
       "    <tr>\n",
       "      <th>746</th>\n",
       "      <td>11</td>\n",
       "      <td>American President, The (1995)</td>\n",
       "      <td>Comedy|Drama|Romance</td>\n",
       "      <td>8</td>\n",
       "      <td>4.0</td>\n",
       "      <td>839463806</td>\n",
       "    </tr>\n",
       "    <tr>\n",
       "      <th>1148</th>\n",
       "      <td>21</td>\n",
       "      <td>Get Shorty (1995)</td>\n",
       "      <td>Comedy|Crime|Thriller</td>\n",
       "      <td>8</td>\n",
       "      <td>4.0</td>\n",
       "      <td>839463564</td>\n",
       "    </tr>\n",
       "    <tr>\n",
       "      <th>1504</th>\n",
       "      <td>32</td>\n",
       "      <td>Twelve Monkeys (a.k.a. 12 Monkeys) (1995)</td>\n",
       "      <td>Mystery|Sci-Fi|Thriller</td>\n",
       "      <td>8</td>\n",
       "      <td>3.0</td>\n",
       "      <td>839463624</td>\n",
       "    </tr>\n",
       "    <tr>\n",
       "      <th>1681</th>\n",
       "      <td>34</td>\n",
       "      <td>Babe (1995)</td>\n",
       "      <td>Children|Drama</td>\n",
       "      <td>8</td>\n",
       "      <td>5.0</td>\n",
       "      <td>839463546</td>\n",
       "    </tr>\n",
       "    <tr>\n",
       "      <th>1879</th>\n",
       "      <td>39</td>\n",
       "      <td>Clueless (1995)</td>\n",
       "      <td>Comedy|Romance</td>\n",
       "      <td>8</td>\n",
       "      <td>3.0</td>\n",
       "      <td>839463644</td>\n",
       "    </tr>\n",
       "    <tr>\n",
       "      <th>2110</th>\n",
       "      <td>47</td>\n",
       "      <td>Seven (a.k.a. Se7en) (1995)</td>\n",
       "      <td>Mystery|Thriller</td>\n",
       "      <td>8</td>\n",
       "      <td>4.0</td>\n",
       "      <td>839463546</td>\n",
       "    </tr>\n",
       "    <tr>\n",
       "      <th>2383</th>\n",
       "      <td>50</td>\n",
       "      <td>Usual Suspects, The (1995)</td>\n",
       "      <td>Crime|Mystery|Thriller</td>\n",
       "      <td>8</td>\n",
       "      <td>5.0</td>\n",
       "      <td>839463644</td>\n",
       "    </tr>\n",
       "    <tr>\n",
       "      <th>3390</th>\n",
       "      <td>110</td>\n",
       "      <td>Braveheart (1995)</td>\n",
       "      <td>Action|Drama|War</td>\n",
       "      <td>8</td>\n",
       "      <td>3.0</td>\n",
       "      <td>839463527</td>\n",
       "    </tr>\n",
       "    <tr>\n",
       "      <th>3885</th>\n",
       "      <td>141</td>\n",
       "      <td>Birdcage, The (1996)</td>\n",
       "      <td>Comedy</td>\n",
       "      <td>8</td>\n",
       "      <td>3.0</td>\n",
       "      <td>839464076</td>\n",
       "    </tr>\n",
       "    <tr>\n",
       "      <th>4056</th>\n",
       "      <td>150</td>\n",
       "      <td>Apollo 13 (1995)</td>\n",
       "      <td>Adventure|Drama|IMAX</td>\n",
       "      <td>8</td>\n",
       "      <td>4.0</td>\n",
       "      <td>839463422</td>\n",
       "    </tr>\n",
       "    <tr>\n",
       "      <th>4302</th>\n",
       "      <td>153</td>\n",
       "      <td>Batman Forever (1995)</td>\n",
       "      <td>Action|Adventure|Comedy|Crime</td>\n",
       "      <td>8</td>\n",
       "      <td>2.0</td>\n",
       "      <td>839463451</td>\n",
       "    </tr>\n",
       "    <tr>\n",
       "      <th>5281</th>\n",
       "      <td>185</td>\n",
       "      <td>Net, The (1995)</td>\n",
       "      <td>Action|Crime|Thriller</td>\n",
       "      <td>8</td>\n",
       "      <td>5.0</td>\n",
       "      <td>839463509</td>\n",
       "    </tr>\n",
       "    <tr>\n",
       "      <th>5393</th>\n",
       "      <td>186</td>\n",
       "      <td>Nine Months (1995)</td>\n",
       "      <td>Comedy|Romance</td>\n",
       "      <td>8</td>\n",
       "      <td>4.0</td>\n",
       "      <td>839463856</td>\n",
       "    </tr>\n",
       "    <tr>\n",
       "      <th>5695</th>\n",
       "      <td>208</td>\n",
       "      <td>Waterworld (1995)</td>\n",
       "      <td>Action|Adventure|Sci-Fi</td>\n",
       "      <td>8</td>\n",
       "      <td>3.0</td>\n",
       "      <td>839463509</td>\n",
       "    </tr>\n",
       "    <tr>\n",
       "      <th>6194</th>\n",
       "      <td>231</td>\n",
       "      <td>Dumb &amp; Dumber (Dumb and Dumber) (1994)</td>\n",
       "      <td>Adventure|Comedy</td>\n",
       "      <td>8</td>\n",
       "      <td>4.0</td>\n",
       "      <td>839463470</td>\n",
       "    </tr>\n",
       "    <tr>\n",
       "      <th>6370</th>\n",
       "      <td>235</td>\n",
       "      <td>Ed Wood (1994)</td>\n",
       "      <td>Comedy|Drama</td>\n",
       "      <td>8</td>\n",
       "      <td>3.0</td>\n",
       "      <td>839464076</td>\n",
       "    </tr>\n",
       "    <tr>\n",
       "      <th>6439</th>\n",
       "      <td>236</td>\n",
       "      <td>French Kiss (1995)</td>\n",
       "      <td>Action|Comedy|Romance</td>\n",
       "      <td>8</td>\n",
       "      <td>3.0</td>\n",
       "      <td>839463767</td>\n",
       "    </tr>\n",
       "    <tr>\n",
       "      <th>6630</th>\n",
       "      <td>252</td>\n",
       "      <td>I.Q. (1994)</td>\n",
       "      <td>Comedy|Romance</td>\n",
       "      <td>8</td>\n",
       "      <td>3.0</td>\n",
       "      <td>839463856</td>\n",
       "    </tr>\n",
       "    <tr>\n",
       "      <th>6674</th>\n",
       "      <td>253</td>\n",
       "      <td>Interview with the Vampire: The Vampire Chroni...</td>\n",
       "      <td>Drama|Horror</td>\n",
       "      <td>8</td>\n",
       "      <td>5.0</td>\n",
       "      <td>839463509</td>\n",
       "    </tr>\n",
       "    <tr>\n",
       "      <th>7461</th>\n",
       "      <td>282</td>\n",
       "      <td>Nell (1994)</td>\n",
       "      <td>Drama</td>\n",
       "      <td>8</td>\n",
       "      <td>3.0</td>\n",
       "      <td>839463767</td>\n",
       "    </tr>\n",
       "    <tr>\n",
       "      <th>7624</th>\n",
       "      <td>292</td>\n",
       "      <td>Outbreak (1995)</td>\n",
       "      <td>Action|Drama|Sci-Fi|Thriller</td>\n",
       "      <td>8</td>\n",
       "      <td>3.0</td>\n",
       "      <td>839463489</td>\n",
       "    </tr>\n",
       "    <tr>\n",
       "      <th>7864</th>\n",
       "      <td>296</td>\n",
       "      <td>Pulp Fiction (1994)</td>\n",
       "      <td>Comedy|Crime|Drama|Thriller</td>\n",
       "      <td>8</td>\n",
       "      <td>4.0</td>\n",
       "      <td>839463422</td>\n",
       "    </tr>\n",
       "    <tr>\n",
       "      <th>8572</th>\n",
       "      <td>317</td>\n",
       "      <td>Santa Clause, The (1994)</td>\n",
       "      <td>Comedy|Drama|Fantasy</td>\n",
       "      <td>8</td>\n",
       "      <td>3.0</td>\n",
       "      <td>839463644</td>\n",
       "    </tr>\n",
       "    <tr>\n",
       "      <th>8655</th>\n",
       "      <td>318</td>\n",
       "      <td>Shawshank Redemption, The (1994)</td>\n",
       "      <td>Crime|Drama</td>\n",
       "      <td>8</td>\n",
       "      <td>5.0</td>\n",
       "      <td>839463489</td>\n",
       "    </tr>\n",
       "    <tr>\n",
       "      <th>9340</th>\n",
       "      <td>339</td>\n",
       "      <td>While You Were Sleeping (1995)</td>\n",
       "      <td>Comedy|Romance</td>\n",
       "      <td>8</td>\n",
       "      <td>3.0</td>\n",
       "      <td>839463509</td>\n",
       "    </tr>\n",
       "    <tr>\n",
       "      <th>10022</th>\n",
       "      <td>356</td>\n",
       "      <td>Forrest Gump (1994)</td>\n",
       "      <td>Comedy|Drama|Romance|War</td>\n",
       "      <td>8</td>\n",
       "      <td>3.0</td>\n",
       "      <td>839463527</td>\n",
       "    </tr>\n",
       "    <tr>\n",
       "      <th>10351</th>\n",
       "      <td>357</td>\n",
       "      <td>Four Weddings and a Funeral (1994)</td>\n",
       "      <td>Comedy|Romance</td>\n",
       "      <td>8</td>\n",
       "      <td>5.0</td>\n",
       "      <td>839463767</td>\n",
       "    </tr>\n",
       "    <tr>\n",
       "      <th>10524</th>\n",
       "      <td>364</td>\n",
       "      <td>Lion King, The (1994)</td>\n",
       "      <td>Adventure|Animation|Children|Drama|Musical|IMAX</td>\n",
       "      <td>8</td>\n",
       "      <td>5.0</td>\n",
       "      <td>839463546</td>\n",
       "    </tr>\n",
       "    <tr>\n",
       "      <th>10713</th>\n",
       "      <td>367</td>\n",
       "      <td>Mask, The (1994)</td>\n",
       "      <td>Action|Comedy|Crime|Fantasy</td>\n",
       "      <td>8</td>\n",
       "      <td>3.0</td>\n",
       "      <td>839463564</td>\n",
       "    </tr>\n",
       "    <tr>\n",
       "      <th>11120</th>\n",
       "      <td>377</td>\n",
       "      <td>Speed (1994)</td>\n",
       "      <td>Action|Romance|Thriller</td>\n",
       "      <td>8</td>\n",
       "      <td>4.0</td>\n",
       "      <td>839463644</td>\n",
       "    </tr>\n",
       "    <tr>\n",
       "      <th>11321</th>\n",
       "      <td>380</td>\n",
       "      <td>True Lies (1994)</td>\n",
       "      <td>Action|Adventure|Comedy|Romance|Thriller</td>\n",
       "      <td>8</td>\n",
       "      <td>5.0</td>\n",
       "      <td>839463422</td>\n",
       "    </tr>\n",
       "    <tr>\n",
       "      <th>11965</th>\n",
       "      <td>432</td>\n",
       "      <td>City Slickers II: The Legend of Curly's Gold (...</td>\n",
       "      <td>Adventure|Comedy|Western</td>\n",
       "      <td>8</td>\n",
       "      <td>1.0</td>\n",
       "      <td>839463702</td>\n",
       "    </tr>\n",
       "    <tr>\n",
       "      <th>12215</th>\n",
       "      <td>440</td>\n",
       "      <td>Dave (1993)</td>\n",
       "      <td>Comedy|Romance</td>\n",
       "      <td>8</td>\n",
       "      <td>3.0</td>\n",
       "      <td>839463728</td>\n",
       "    </tr>\n",
       "    <tr>\n",
       "      <th>12466</th>\n",
       "      <td>454</td>\n",
       "      <td>Firm, The (1993)</td>\n",
       "      <td>Drama|Thriller</td>\n",
       "      <td>8</td>\n",
       "      <td>4.0</td>\n",
       "      <td>839463546</td>\n",
       "    </tr>\n",
       "    <tr>\n",
       "      <th>12611</th>\n",
       "      <td>457</td>\n",
       "      <td>Fugitive, The (1993)</td>\n",
       "      <td>Thriller</td>\n",
       "      <td>8</td>\n",
       "      <td>3.0</td>\n",
       "      <td>839463489</td>\n",
       "    </tr>\n",
       "    <tr>\n",
       "      <th>13088</th>\n",
       "      <td>480</td>\n",
       "      <td>Jurassic Park (1993)</td>\n",
       "      <td>Action|Adventure|Sci-Fi|Thriller</td>\n",
       "      <td>8</td>\n",
       "      <td>4.0</td>\n",
       "      <td>839463527</td>\n",
       "    </tr>\n",
       "    <tr>\n",
       "      <th>13569</th>\n",
       "      <td>500</td>\n",
       "      <td>Mrs. Doubtfire (1993)</td>\n",
       "      <td>Comedy|Drama</td>\n",
       "      <td>8</td>\n",
       "      <td>2.0</td>\n",
       "      <td>839463624</td>\n",
       "    </tr>\n",
       "    <tr>\n",
       "      <th>14110</th>\n",
       "      <td>527</td>\n",
       "      <td>Schindler's List (1993)</td>\n",
       "      <td>Drama|War</td>\n",
       "      <td>8</td>\n",
       "      <td>5.0</td>\n",
       "      <td>839463728</td>\n",
       "    </tr>\n",
       "    <tr>\n",
       "      <th>14485</th>\n",
       "      <td>539</td>\n",
       "      <td>Sleepless in Seattle (1993)</td>\n",
       "      <td>Comedy|Drama|Romance</td>\n",
       "      <td>8</td>\n",
       "      <td>3.0</td>\n",
       "      <td>839463728</td>\n",
       "    </tr>\n",
       "    <tr>\n",
       "      <th>15237</th>\n",
       "      <td>586</td>\n",
       "      <td>Home Alone (1990)</td>\n",
       "      <td>Children|Comedy</td>\n",
       "      <td>8</td>\n",
       "      <td>3.0</td>\n",
       "      <td>839463702</td>\n",
       "    </tr>\n",
       "    <tr>\n",
       "      <th>15355</th>\n",
       "      <td>587</td>\n",
       "      <td>Ghost (1990)</td>\n",
       "      <td>Comedy|Drama|Fantasy|Romance|Thriller</td>\n",
       "      <td>8</td>\n",
       "      <td>3.0</td>\n",
       "      <td>839463702</td>\n",
       "    </tr>\n",
       "    <tr>\n",
       "      <th>15878</th>\n",
       "      <td>590</td>\n",
       "      <td>Dances with Wolves (1990)</td>\n",
       "      <td>Adventure|Drama|Western</td>\n",
       "      <td>8</td>\n",
       "      <td>5.0</td>\n",
       "      <td>839463422</td>\n",
       "    </tr>\n",
       "    <tr>\n",
       "      <th>16043</th>\n",
       "      <td>592</td>\n",
       "      <td>Batman (1989)</td>\n",
       "      <td>Action|Crime|Thriller</td>\n",
       "      <td>8</td>\n",
       "      <td>3.0</td>\n",
       "      <td>839463422</td>\n",
       "    </tr>\n",
       "    <tr>\n",
       "      <th>16232</th>\n",
       "      <td>593</td>\n",
       "      <td>Silence of the Lambs, The (1991)</td>\n",
       "      <td>Crime|Horror|Thriller</td>\n",
       "      <td>8</td>\n",
       "      <td>4.0</td>\n",
       "      <td>839463470</td>\n",
       "    </tr>\n",
       "    <tr>\n",
       "      <th>16792</th>\n",
       "      <td>597</td>\n",
       "      <td>Pretty Woman (1990)</td>\n",
       "      <td>Comedy|Romance</td>\n",
       "      <td>8</td>\n",
       "      <td>3.0</td>\n",
       "      <td>839463728</td>\n",
       "    </tr>\n",
       "  </tbody>\n",
       "</table>\n",
       "</div>"
      ],
      "text/plain": [
       "       movieId                                              title  \\\n",
       "216          2                                     Jumanji (1995)   \n",
       "614         10                                   GoldenEye (1995)   \n",
       "746         11                     American President, The (1995)   \n",
       "1148        21                                  Get Shorty (1995)   \n",
       "1504        32          Twelve Monkeys (a.k.a. 12 Monkeys) (1995)   \n",
       "1681        34                                        Babe (1995)   \n",
       "1879        39                                    Clueless (1995)   \n",
       "2110        47                        Seven (a.k.a. Se7en) (1995)   \n",
       "2383        50                         Usual Suspects, The (1995)   \n",
       "3390       110                                  Braveheart (1995)   \n",
       "3885       141                               Birdcage, The (1996)   \n",
       "4056       150                                   Apollo 13 (1995)   \n",
       "4302       153                              Batman Forever (1995)   \n",
       "5281       185                                    Net, The (1995)   \n",
       "5393       186                                 Nine Months (1995)   \n",
       "5695       208                                  Waterworld (1995)   \n",
       "6194       231             Dumb & Dumber (Dumb and Dumber) (1994)   \n",
       "6370       235                                     Ed Wood (1994)   \n",
       "6439       236                                 French Kiss (1995)   \n",
       "6630       252                                        I.Q. (1994)   \n",
       "6674       253  Interview with the Vampire: The Vampire Chroni...   \n",
       "7461       282                                        Nell (1994)   \n",
       "7624       292                                    Outbreak (1995)   \n",
       "7864       296                                Pulp Fiction (1994)   \n",
       "8572       317                           Santa Clause, The (1994)   \n",
       "8655       318                   Shawshank Redemption, The (1994)   \n",
       "9340       339                     While You Were Sleeping (1995)   \n",
       "10022      356                                Forrest Gump (1994)   \n",
       "10351      357                 Four Weddings and a Funeral (1994)   \n",
       "10524      364                              Lion King, The (1994)   \n",
       "10713      367                                   Mask, The (1994)   \n",
       "11120      377                                       Speed (1994)   \n",
       "11321      380                                   True Lies (1994)   \n",
       "11965      432  City Slickers II: The Legend of Curly's Gold (...   \n",
       "12215      440                                        Dave (1993)   \n",
       "12466      454                                   Firm, The (1993)   \n",
       "12611      457                               Fugitive, The (1993)   \n",
       "13088      480                               Jurassic Park (1993)   \n",
       "13569      500                              Mrs. Doubtfire (1993)   \n",
       "14110      527                            Schindler's List (1993)   \n",
       "14485      539                        Sleepless in Seattle (1993)   \n",
       "15237      586                                  Home Alone (1990)   \n",
       "15355      587                                       Ghost (1990)   \n",
       "15878      590                          Dances with Wolves (1990)   \n",
       "16043      592                                      Batman (1989)   \n",
       "16232      593                   Silence of the Lambs, The (1991)   \n",
       "16792      597                                Pretty Woman (1990)   \n",
       "\n",
       "                                                genres  userId  rating  \\\n",
       "216                         Adventure|Children|Fantasy       8     4.0   \n",
       "614                          Action|Adventure|Thriller       8     2.0   \n",
       "746                               Comedy|Drama|Romance       8     4.0   \n",
       "1148                             Comedy|Crime|Thriller       8     4.0   \n",
       "1504                           Mystery|Sci-Fi|Thriller       8     3.0   \n",
       "1681                                    Children|Drama       8     5.0   \n",
       "1879                                    Comedy|Romance       8     3.0   \n",
       "2110                                  Mystery|Thriller       8     4.0   \n",
       "2383                            Crime|Mystery|Thriller       8     5.0   \n",
       "3390                                  Action|Drama|War       8     3.0   \n",
       "3885                                            Comedy       8     3.0   \n",
       "4056                              Adventure|Drama|IMAX       8     4.0   \n",
       "4302                     Action|Adventure|Comedy|Crime       8     2.0   \n",
       "5281                             Action|Crime|Thriller       8     5.0   \n",
       "5393                                    Comedy|Romance       8     4.0   \n",
       "5695                           Action|Adventure|Sci-Fi       8     3.0   \n",
       "6194                                  Adventure|Comedy       8     4.0   \n",
       "6370                                      Comedy|Drama       8     3.0   \n",
       "6439                             Action|Comedy|Romance       8     3.0   \n",
       "6630                                    Comedy|Romance       8     3.0   \n",
       "6674                                      Drama|Horror       8     5.0   \n",
       "7461                                             Drama       8     3.0   \n",
       "7624                      Action|Drama|Sci-Fi|Thriller       8     3.0   \n",
       "7864                       Comedy|Crime|Drama|Thriller       8     4.0   \n",
       "8572                              Comedy|Drama|Fantasy       8     3.0   \n",
       "8655                                       Crime|Drama       8     5.0   \n",
       "9340                                    Comedy|Romance       8     3.0   \n",
       "10022                         Comedy|Drama|Romance|War       8     3.0   \n",
       "10351                                   Comedy|Romance       8     5.0   \n",
       "10524  Adventure|Animation|Children|Drama|Musical|IMAX       8     5.0   \n",
       "10713                      Action|Comedy|Crime|Fantasy       8     3.0   \n",
       "11120                          Action|Romance|Thriller       8     4.0   \n",
       "11321         Action|Adventure|Comedy|Romance|Thriller       8     5.0   \n",
       "11965                         Adventure|Comedy|Western       8     1.0   \n",
       "12215                                   Comedy|Romance       8     3.0   \n",
       "12466                                   Drama|Thriller       8     4.0   \n",
       "12611                                         Thriller       8     3.0   \n",
       "13088                 Action|Adventure|Sci-Fi|Thriller       8     4.0   \n",
       "13569                                     Comedy|Drama       8     2.0   \n",
       "14110                                        Drama|War       8     5.0   \n",
       "14485                             Comedy|Drama|Romance       8     3.0   \n",
       "15237                                  Children|Comedy       8     3.0   \n",
       "15355            Comedy|Drama|Fantasy|Romance|Thriller       8     3.0   \n",
       "15878                          Adventure|Drama|Western       8     5.0   \n",
       "16043                            Action|Crime|Thriller       8     3.0   \n",
       "16232                            Crime|Horror|Thriller       8     4.0   \n",
       "16792                                   Comedy|Romance       8     3.0   \n",
       "\n",
       "       timestamp  \n",
       "216    839463806  \n",
       "614    839463509  \n",
       "746    839463806  \n",
       "1148   839463564  \n",
       "1504   839463624  \n",
       "1681   839463546  \n",
       "1879   839463644  \n",
       "2110   839463546  \n",
       "2383   839463644  \n",
       "3390   839463527  \n",
       "3885   839464076  \n",
       "4056   839463422  \n",
       "4302   839463451  \n",
       "5281   839463509  \n",
       "5393   839463856  \n",
       "5695   839463509  \n",
       "6194   839463470  \n",
       "6370   839464076  \n",
       "6439   839463767  \n",
       "6630   839463856  \n",
       "6674   839463509  \n",
       "7461   839463767  \n",
       "7624   839463489  \n",
       "7864   839463422  \n",
       "8572   839463644  \n",
       "8655   839463489  \n",
       "9340   839463509  \n",
       "10022  839463527  \n",
       "10351  839463767  \n",
       "10524  839463546  \n",
       "10713  839463564  \n",
       "11120  839463644  \n",
       "11321  839463422  \n",
       "11965  839463702  \n",
       "12215  839463728  \n",
       "12466  839463546  \n",
       "12611  839463489  \n",
       "13088  839463527  \n",
       "13569  839463624  \n",
       "14110  839463728  \n",
       "14485  839463728  \n",
       "15237  839463702  \n",
       "15355  839463702  \n",
       "15878  839463422  \n",
       "16043  839463422  \n",
       "16232  839463470  \n",
       "16792  839463728  "
      ]
     },
     "execution_count": 50,
     "metadata": {},
     "output_type": "execute_result"
    }
   ],
   "source": [
    "df.loc[df['userId'] == 8]"
   ]
  },
  {
   "cell_type": "code",
   "execution_count": 51,
   "metadata": {},
   "outputs": [
    {
     "data": {
      "text/plain": [
       "3.574468085106383"
      ]
     },
     "execution_count": 51,
     "metadata": {},
     "output_type": "execute_result"
    }
   ],
   "source": [
    "df_8 = df.loc[df['userId'] == 8]\n",
    "df_8['rating'].mean()"
   ]
  },
  {
   "cell_type": "code",
   "execution_count": 52,
   "metadata": {},
   "outputs": [
    {
     "data": {
      "text/plain": [
       "47"
      ]
     },
     "execution_count": 52,
     "metadata": {},
     "output_type": "execute_result"
    }
   ],
   "source": [
    "len(df_8)"
   ]
  },
  {
   "cell_type": "markdown",
   "metadata": {},
   "source": [
    "This user had a smaller number of reviews (47) compared to user 610, but their average (3.57) again comes very close to the average user rating for the whole dataset.  "
   ]
  },
  {
   "cell_type": "markdown",
   "metadata": {},
   "source": [
    "### Finding a random user for demo in slide presentation"
   ]
  },
  {
   "cell_type": "code",
   "execution_count": 248,
   "metadata": {},
   "outputs": [
    {
     "data": {
      "text/plain": [
       "358"
      ]
     },
     "execution_count": 248,
     "metadata": {},
     "output_type": "execute_result"
    }
   ],
   "source": [
    "# will pick the number randomly from 1 to 610\n",
    "# num1 = random.randint(1, 610)\n",
    "# num1"
   ]
  },
  {
   "cell_type": "code",
   "execution_count": 250,
   "metadata": {},
   "outputs": [
    {
     "name": "stdout",
     "output_type": "stream",
     "text": [
      "Please enter a User Id (from 1 to 610): 358\n",
      "\n",
      "Here are the top 5 recommendations for user #358\n",
      "\n"
     ]
    },
    {
     "data": {
      "text/html": [
       "<div>\n",
       "<style scoped>\n",
       "    .dataframe tbody tr th:only-of-type {\n",
       "        vertical-align: middle;\n",
       "    }\n",
       "\n",
       "    .dataframe tbody tr th {\n",
       "        vertical-align: top;\n",
       "    }\n",
       "\n",
       "    .dataframe thead th {\n",
       "        text-align: right;\n",
       "    }\n",
       "</style>\n",
       "<table border=\"1\" class=\"dataframe\">\n",
       "  <thead>\n",
       "    <tr style=\"text-align: right;\">\n",
       "      <th></th>\n",
       "      <th>Movie ID</th>\n",
       "      <th>Movie Title</th>\n",
       "      <th>Genres</th>\n",
       "      <th>Predicted Rating</th>\n",
       "    </tr>\n",
       "  </thead>\n",
       "  <tbody>\n",
       "    <tr>\n",
       "      <th>2570</th>\n",
       "      <td>3451</td>\n",
       "      <td>Guess Who's Coming to Dinner (1967)</td>\n",
       "      <td>Drama</td>\n",
       "      <td>4.693780</td>\n",
       "    </tr>\n",
       "    <tr>\n",
       "      <th>8780</th>\n",
       "      <td>132333</td>\n",
       "      <td>Seve (2014)</td>\n",
       "      <td>Documentary|Drama</td>\n",
       "      <td>4.664560</td>\n",
       "    </tr>\n",
       "    <tr>\n",
       "      <th>5400</th>\n",
       "      <td>25906</td>\n",
       "      <td>Mr. Skeffington (1944)</td>\n",
       "      <td>Drama|Romance</td>\n",
       "      <td>4.651805</td>\n",
       "    </tr>\n",
       "    <tr>\n",
       "      <th>3835</th>\n",
       "      <td>5416</td>\n",
       "      <td>Cherish (2002)</td>\n",
       "      <td>Comedy|Drama|Thriller</td>\n",
       "      <td>4.578488</td>\n",
       "    </tr>\n",
       "    <tr>\n",
       "      <th>7311</th>\n",
       "      <td>78836</td>\n",
       "      <td>Enter the Void (2009)</td>\n",
       "      <td>Drama</td>\n",
       "      <td>4.570450</td>\n",
       "    </tr>\n",
       "  </tbody>\n",
       "</table>\n",
       "</div>"
      ],
      "text/plain": [
       "      Movie ID                          Movie Title                 Genres  \\\n",
       "2570      3451  Guess Who's Coming to Dinner (1967)                  Drama   \n",
       "8780    132333                          Seve (2014)      Documentary|Drama   \n",
       "5400     25906               Mr. Skeffington (1944)          Drama|Romance   \n",
       "3835      5416                       Cherish (2002)  Comedy|Drama|Thriller   \n",
       "7311     78836                Enter the Void (2009)                  Drama   \n",
       "\n",
       "      Predicted Rating  \n",
       "2570          4.693780  \n",
       "8780          4.664560  \n",
       "5400          4.651805  \n",
       "3835          4.578488  \n",
       "7311          4.570450  "
      ]
     },
     "execution_count": 250,
     "metadata": {},
     "output_type": "execute_result"
    }
   ],
   "source": [
    "# user_recommended_movies()"
   ]
  },
  {
   "cell_type": "code",
   "execution_count": 254,
   "metadata": {},
   "outputs": [
    {
     "data": {
      "text/plain": [
       "41"
      ]
     },
     "execution_count": 254,
     "metadata": {},
     "output_type": "execute_result"
    }
   ],
   "source": [
    "df_358 = df.loc[df['userId'] == 358]\n",
    "len(df_358)\n",
    "\n",
    "# 41 total ratings"
   ]
  },
  {
   "cell_type": "code",
   "execution_count": 252,
   "metadata": {},
   "outputs": [
    {
     "data": {
      "text/html": [
       "<div>\n",
       "<style scoped>\n",
       "    .dataframe tbody tr th:only-of-type {\n",
       "        vertical-align: middle;\n",
       "    }\n",
       "\n",
       "    .dataframe tbody tr th {\n",
       "        vertical-align: top;\n",
       "    }\n",
       "\n",
       "    .dataframe thead th {\n",
       "        text-align: right;\n",
       "    }\n",
       "</style>\n",
       "<table border=\"1\" class=\"dataframe\">\n",
       "  <thead>\n",
       "    <tr style=\"text-align: right;\">\n",
       "      <th></th>\n",
       "      <th>movieId</th>\n",
       "      <th>title</th>\n",
       "      <th>genres</th>\n",
       "      <th>userId</th>\n",
       "      <th>rating</th>\n",
       "      <th>timestamp</th>\n",
       "    </tr>\n",
       "  </thead>\n",
       "  <tbody>\n",
       "    <tr>\n",
       "      <th>81716</th>\n",
       "      <td>42728</td>\n",
       "      <td>Tristan &amp; Isolde (2006)</td>\n",
       "      <td>Drama|Romance</td>\n",
       "      <td>358</td>\n",
       "      <td>5.0</td>\n",
       "      <td>1339546228</td>\n",
       "    </tr>\n",
       "    <tr>\n",
       "      <th>35071</th>\n",
       "      <td>1721</td>\n",
       "      <td>Titanic (1997)</td>\n",
       "      <td>Drama|Romance</td>\n",
       "      <td>358</td>\n",
       "      <td>5.0</td>\n",
       "      <td>1339546519</td>\n",
       "    </tr>\n",
       "    <tr>\n",
       "      <th>85776</th>\n",
       "      <td>55052</td>\n",
       "      <td>Atonement (2007)</td>\n",
       "      <td>Drama|Romance|War</td>\n",
       "      <td>358</td>\n",
       "      <td>5.0</td>\n",
       "      <td>1339546102</td>\n",
       "    </tr>\n",
       "    <tr>\n",
       "      <th>65635</th>\n",
       "      <td>5066</td>\n",
       "      <td>Walk to Remember, A (2002)</td>\n",
       "      <td>Drama|Romance</td>\n",
       "      <td>358</td>\n",
       "      <td>5.0</td>\n",
       "      <td>1339546521</td>\n",
       "    </tr>\n",
       "    <tr>\n",
       "      <th>89940</th>\n",
       "      <td>70599</td>\n",
       "      <td>Time Traveler's Wife, The (2009)</td>\n",
       "      <td>Drama|Romance|Sci-Fi</td>\n",
       "      <td>358</td>\n",
       "      <td>4.5</td>\n",
       "      <td>1339546465</td>\n",
       "    </tr>\n",
       "    <tr>\n",
       "      <th>83188</th>\n",
       "      <td>47610</td>\n",
       "      <td>Illusionist, The (2006)</td>\n",
       "      <td>Drama|Fantasy|Mystery|Romance</td>\n",
       "      <td>358</td>\n",
       "      <td>4.5</td>\n",
       "      <td>1339546220</td>\n",
       "    </tr>\n",
       "    <tr>\n",
       "      <th>89706</th>\n",
       "      <td>69757</td>\n",
       "      <td>(500) Days of Summer (2009)</td>\n",
       "      <td>Comedy|Drama|Romance</td>\n",
       "      <td>358</td>\n",
       "      <td>4.5</td>\n",
       "      <td>1339546356</td>\n",
       "    </tr>\n",
       "    <tr>\n",
       "      <th>76360</th>\n",
       "      <td>8533</td>\n",
       "      <td>Notebook, The (2004)</td>\n",
       "      <td>Drama|Romance</td>\n",
       "      <td>358</td>\n",
       "      <td>4.5</td>\n",
       "      <td>1339546364</td>\n",
       "    </tr>\n",
       "    <tr>\n",
       "      <th>74704</th>\n",
       "      <td>7361</td>\n",
       "      <td>Eternal Sunshine of the Spotless Mind (2004)</td>\n",
       "      <td>Drama|Romance|Sci-Fi</td>\n",
       "      <td>358</td>\n",
       "      <td>4.0</td>\n",
       "      <td>1339546298</td>\n",
       "    </tr>\n",
       "    <tr>\n",
       "      <th>84761</th>\n",
       "      <td>52328</td>\n",
       "      <td>Sunshine (2007)</td>\n",
       "      <td>Adventure|Drama|Sci-Fi|Thriller</td>\n",
       "      <td>358</td>\n",
       "      <td>4.0</td>\n",
       "      <td>1339546154</td>\n",
       "    </tr>\n",
       "  </tbody>\n",
       "</table>\n",
       "</div>"
      ],
      "text/plain": [
       "       movieId                                         title  \\\n",
       "81716    42728                       Tristan & Isolde (2006)   \n",
       "35071     1721                                Titanic (1997)   \n",
       "85776    55052                              Atonement (2007)   \n",
       "65635     5066                    Walk to Remember, A (2002)   \n",
       "89940    70599              Time Traveler's Wife, The (2009)   \n",
       "83188    47610                       Illusionist, The (2006)   \n",
       "89706    69757                   (500) Days of Summer (2009)   \n",
       "76360     8533                          Notebook, The (2004)   \n",
       "74704     7361  Eternal Sunshine of the Spotless Mind (2004)   \n",
       "84761    52328                               Sunshine (2007)   \n",
       "\n",
       "                                genres  userId  rating   timestamp  \n",
       "81716                    Drama|Romance     358     5.0  1339546228  \n",
       "35071                    Drama|Romance     358     5.0  1339546519  \n",
       "85776                Drama|Romance|War     358     5.0  1339546102  \n",
       "65635                    Drama|Romance     358     5.0  1339546521  \n",
       "89940             Drama|Romance|Sci-Fi     358     4.5  1339546465  \n",
       "83188    Drama|Fantasy|Mystery|Romance     358     4.5  1339546220  \n",
       "89706             Comedy|Drama|Romance     358     4.5  1339546356  \n",
       "76360                    Drama|Romance     358     4.5  1339546364  \n",
       "74704             Drama|Romance|Sci-Fi     358     4.0  1339546298  \n",
       "84761  Adventure|Drama|Sci-Fi|Thriller     358     4.0  1339546154  "
      ]
     },
     "execution_count": 252,
     "metadata": {},
     "output_type": "execute_result"
    }
   ],
   "source": [
    "# top 10 rated movies\n",
    "df_358.sort_values(by = ['rating'], ascending=False)[:10]"
   ]
  },
  {
   "cell_type": "code",
   "execution_count": 253,
   "metadata": {},
   "outputs": [
    {
     "data": {
      "text/plain": [
       "3.2560975609756095"
      ]
     },
     "execution_count": 253,
     "metadata": {},
     "output_type": "execute_result"
    }
   ],
   "source": [
    "# their average rating\n",
    "df_358['rating'].mean()"
   ]
  },
  {
   "cell_type": "markdown",
   "metadata": {},
   "source": [
    "## Limitations and Recommendations"
   ]
  },
  {
   "cell_type": "markdown",
   "metadata": {},
   "source": [
    "One potential issue with any recommendation system based solely on user ratings is the quality of the user input.  For example, if a user rates all the movies they see very highly (e.g. 4.5 to 5.0), then the recommendation system will tend to recommend almost all the titles available, as the user would be expected to rate them all highly.  Conversely, if a user rates all the movies they see very lowly (e.g. 0.5 to 1.0) then the recommendation system may struggle to return meangingful recommendations as it has minimal information to differentiate a title the user may truly enjoy.  We would recommend more granularity to the user input in the dataset, perhaps encouraging a broader scale for user ratings (e.g. 0 to 10).  \n",
    "\n",
    "Another potential issue to consider is the fact that a model-based collaborative filtering system depends on explicit user input to provide recommendations.  How does it handle new users?  There is no prior rating information to draw on.  Many of these systems deal with this so-called \"cold start\" issue by asking the user to input some favorite movie titles or movie genres right from the start.  That way, the system can at least return movies that are rated similar to that title or fall in the same genre.  \n",
    "\n",
    "To address the cold start problem, we will create a content-based filter below."
   ]
  },
  {
   "cell_type": "markdown",
   "metadata": {},
   "source": [
    "<a id='content'></a>"
   ]
  },
  {
   "cell_type": "markdown",
   "metadata": {},
   "source": [
    "## Content-based filtering"
   ]
  },
  {
   "cell_type": "code",
   "execution_count": 53,
   "metadata": {},
   "outputs": [
    {
     "data": {
      "text/plain": [
       "'Adventure|Animation|Children|Comedy|Fantasy'"
      ]
     },
     "execution_count": 53,
     "metadata": {},
     "output_type": "execute_result"
    }
   ],
   "source": [
    "# a review of how data is stored in 'genres' column: pipe-separated strings\n",
    "df['genres'][3]"
   ]
  },
  {
   "cell_type": "markdown",
   "metadata": {},
   "source": [
    "We will need the dataframe with unique movie IDs again for this process.  Let's review what that dataframe looks like"
   ]
  },
  {
   "cell_type": "code",
   "execution_count": 54,
   "metadata": {},
   "outputs": [
    {
     "data": {
      "text/html": [
       "<div>\n",
       "<style scoped>\n",
       "    .dataframe tbody tr th:only-of-type {\n",
       "        vertical-align: middle;\n",
       "    }\n",
       "\n",
       "    .dataframe tbody tr th {\n",
       "        vertical-align: top;\n",
       "    }\n",
       "\n",
       "    .dataframe thead th {\n",
       "        text-align: right;\n",
       "    }\n",
       "</style>\n",
       "<table border=\"1\" class=\"dataframe\">\n",
       "  <thead>\n",
       "    <tr style=\"text-align: right;\">\n",
       "      <th></th>\n",
       "      <th>title</th>\n",
       "      <th>genres</th>\n",
       "      <th>userId</th>\n",
       "      <th>rating</th>\n",
       "      <th>timestamp</th>\n",
       "    </tr>\n",
       "    <tr>\n",
       "      <th>movieId</th>\n",
       "      <th></th>\n",
       "      <th></th>\n",
       "      <th></th>\n",
       "      <th></th>\n",
       "      <th></th>\n",
       "    </tr>\n",
       "  </thead>\n",
       "  <tbody>\n",
       "    <tr>\n",
       "      <th>1</th>\n",
       "      <td>Toy Story (1995)</td>\n",
       "      <td>Adventure|Animation|Children|Comedy|Fantasy</td>\n",
       "      <td>1</td>\n",
       "      <td>4.0</td>\n",
       "      <td>964982703</td>\n",
       "    </tr>\n",
       "    <tr>\n",
       "      <th>2</th>\n",
       "      <td>Jumanji (1995)</td>\n",
       "      <td>Adventure|Children|Fantasy</td>\n",
       "      <td>6</td>\n",
       "      <td>4.0</td>\n",
       "      <td>845553522</td>\n",
       "    </tr>\n",
       "    <tr>\n",
       "      <th>3</th>\n",
       "      <td>Grumpier Old Men (1995)</td>\n",
       "      <td>Comedy|Romance</td>\n",
       "      <td>1</td>\n",
       "      <td>4.0</td>\n",
       "      <td>964981247</td>\n",
       "    </tr>\n",
       "    <tr>\n",
       "      <th>4</th>\n",
       "      <td>Waiting to Exhale (1995)</td>\n",
       "      <td>Comedy|Drama|Romance</td>\n",
       "      <td>6</td>\n",
       "      <td>3.0</td>\n",
       "      <td>845554349</td>\n",
       "    </tr>\n",
       "    <tr>\n",
       "      <th>5</th>\n",
       "      <td>Father of the Bride Part II (1995)</td>\n",
       "      <td>Comedy</td>\n",
       "      <td>6</td>\n",
       "      <td>5.0</td>\n",
       "      <td>845553938</td>\n",
       "    </tr>\n",
       "  </tbody>\n",
       "</table>\n",
       "</div>"
      ],
      "text/plain": [
       "                                      title  \\\n",
       "movieId                                       \n",
       "1                          Toy Story (1995)   \n",
       "2                            Jumanji (1995)   \n",
       "3                   Grumpier Old Men (1995)   \n",
       "4                  Waiting to Exhale (1995)   \n",
       "5        Father of the Bride Part II (1995)   \n",
       "\n",
       "                                              genres  userId  rating  \\\n",
       "movieId                                                                \n",
       "1        Adventure|Animation|Children|Comedy|Fantasy       1     4.0   \n",
       "2                         Adventure|Children|Fantasy       6     4.0   \n",
       "3                                     Comedy|Romance       1     4.0   \n",
       "4                               Comedy|Drama|Romance       6     3.0   \n",
       "5                                             Comedy       6     5.0   \n",
       "\n",
       "         timestamp  \n",
       "movieId             \n",
       "1        964982703  \n",
       "2        845553522  \n",
       "3        964981247  \n",
       "4        845554349  \n",
       "5        845553938  "
      ]
     },
     "execution_count": 54,
     "metadata": {},
     "output_type": "execute_result"
    }
   ],
   "source": [
    "# unique movies dataframe\n",
    "\n",
    "df_reset.head()"
   ]
  },
  {
   "cell_type": "code",
   "execution_count": 55,
   "metadata": {},
   "outputs": [
    {
     "data": {
      "text/plain": [
       "(9724, 5)"
      ]
     },
     "execution_count": 55,
     "metadata": {},
     "output_type": "execute_result"
    }
   ],
   "source": [
    "df_reset.shape"
   ]
  },
  {
   "cell_type": "code",
   "execution_count": 56,
   "metadata": {},
   "outputs": [],
   "source": [
    "# we'll make a copy of df_reset for the next step\n",
    "\n",
    "df_prep = df_reset.copy()"
   ]
  },
  {
   "cell_type": "markdown",
   "metadata": {},
   "source": [
    "### Cleaning strings in 'genres'"
   ]
  },
  {
   "cell_type": "code",
   "execution_count": 57,
   "metadata": {},
   "outputs": [],
   "source": [
    "# function to remove pipes and split strings in the 'genres' colum, \n",
    "# creating new column of separated strings in \n",
    "\n",
    "def single_genres(series):\n",
    "    df_prep['single_genres'] = series.str.replace('|', ' ')\n",
    "    return df_prep.head()"
   ]
  },
  {
   "cell_type": "code",
   "execution_count": 58,
   "metadata": {},
   "outputs": [
    {
     "data": {
      "text/html": [
       "<div>\n",
       "<style scoped>\n",
       "    .dataframe tbody tr th:only-of-type {\n",
       "        vertical-align: middle;\n",
       "    }\n",
       "\n",
       "    .dataframe tbody tr th {\n",
       "        vertical-align: top;\n",
       "    }\n",
       "\n",
       "    .dataframe thead th {\n",
       "        text-align: right;\n",
       "    }\n",
       "</style>\n",
       "<table border=\"1\" class=\"dataframe\">\n",
       "  <thead>\n",
       "    <tr style=\"text-align: right;\">\n",
       "      <th></th>\n",
       "      <th>title</th>\n",
       "      <th>genres</th>\n",
       "      <th>userId</th>\n",
       "      <th>rating</th>\n",
       "      <th>timestamp</th>\n",
       "      <th>single_genres</th>\n",
       "    </tr>\n",
       "    <tr>\n",
       "      <th>movieId</th>\n",
       "      <th></th>\n",
       "      <th></th>\n",
       "      <th></th>\n",
       "      <th></th>\n",
       "      <th></th>\n",
       "      <th></th>\n",
       "    </tr>\n",
       "  </thead>\n",
       "  <tbody>\n",
       "    <tr>\n",
       "      <th>1</th>\n",
       "      <td>Toy Story (1995)</td>\n",
       "      <td>Adventure|Animation|Children|Comedy|Fantasy</td>\n",
       "      <td>1</td>\n",
       "      <td>4.0</td>\n",
       "      <td>964982703</td>\n",
       "      <td>Adventure Animation Children Comedy Fantasy</td>\n",
       "    </tr>\n",
       "    <tr>\n",
       "      <th>2</th>\n",
       "      <td>Jumanji (1995)</td>\n",
       "      <td>Adventure|Children|Fantasy</td>\n",
       "      <td>6</td>\n",
       "      <td>4.0</td>\n",
       "      <td>845553522</td>\n",
       "      <td>Adventure Children Fantasy</td>\n",
       "    </tr>\n",
       "    <tr>\n",
       "      <th>3</th>\n",
       "      <td>Grumpier Old Men (1995)</td>\n",
       "      <td>Comedy|Romance</td>\n",
       "      <td>1</td>\n",
       "      <td>4.0</td>\n",
       "      <td>964981247</td>\n",
       "      <td>Comedy Romance</td>\n",
       "    </tr>\n",
       "    <tr>\n",
       "      <th>4</th>\n",
       "      <td>Waiting to Exhale (1995)</td>\n",
       "      <td>Comedy|Drama|Romance</td>\n",
       "      <td>6</td>\n",
       "      <td>3.0</td>\n",
       "      <td>845554349</td>\n",
       "      <td>Comedy Drama Romance</td>\n",
       "    </tr>\n",
       "    <tr>\n",
       "      <th>5</th>\n",
       "      <td>Father of the Bride Part II (1995)</td>\n",
       "      <td>Comedy</td>\n",
       "      <td>6</td>\n",
       "      <td>5.0</td>\n",
       "      <td>845553938</td>\n",
       "      <td>Comedy</td>\n",
       "    </tr>\n",
       "  </tbody>\n",
       "</table>\n",
       "</div>"
      ],
      "text/plain": [
       "                                      title  \\\n",
       "movieId                                       \n",
       "1                          Toy Story (1995)   \n",
       "2                            Jumanji (1995)   \n",
       "3                   Grumpier Old Men (1995)   \n",
       "4                  Waiting to Exhale (1995)   \n",
       "5        Father of the Bride Part II (1995)   \n",
       "\n",
       "                                              genres  userId  rating  \\\n",
       "movieId                                                                \n",
       "1        Adventure|Animation|Children|Comedy|Fantasy       1     4.0   \n",
       "2                         Adventure|Children|Fantasy       6     4.0   \n",
       "3                                     Comedy|Romance       1     4.0   \n",
       "4                               Comedy|Drama|Romance       6     3.0   \n",
       "5                                             Comedy       6     5.0   \n",
       "\n",
       "         timestamp                                single_genres  \n",
       "movieId                                                          \n",
       "1        964982703  Adventure Animation Children Comedy Fantasy  \n",
       "2        845553522                   Adventure Children Fantasy  \n",
       "3        964981247                               Comedy Romance  \n",
       "4        845554349                         Comedy Drama Romance  \n",
       "5        845553938                                       Comedy  "
      ]
     },
     "execution_count": 58,
     "metadata": {},
     "output_type": "execute_result"
    }
   ],
   "source": [
    "# running function on 'genres' \n",
    "single_genres(df_prep['genres'])"
   ]
  },
  {
   "cell_type": "code",
   "execution_count": 59,
   "metadata": {},
   "outputs": [
    {
     "data": {
      "text/plain": [
       "(9724, 6)"
      ]
     },
     "execution_count": 59,
     "metadata": {},
     "output_type": "execute_result"
    }
   ],
   "source": [
    "# now with added column, same length as unique movie dataframe\n",
    "df_prep.shape"
   ]
  },
  {
   "cell_type": "markdown",
   "metadata": {},
   "source": [
    "### Creating dataframe for cosine similarity"
   ]
  },
  {
   "cell_type": "code",
   "execution_count": 118,
   "metadata": {},
   "outputs": [
    {
     "data": {
      "text/html": [
       "<div>\n",
       "<style scoped>\n",
       "    .dataframe tbody tr th:only-of-type {\n",
       "        vertical-align: middle;\n",
       "    }\n",
       "\n",
       "    .dataframe tbody tr th {\n",
       "        vertical-align: top;\n",
       "    }\n",
       "\n",
       "    .dataframe thead th {\n",
       "        text-align: right;\n",
       "    }\n",
       "</style>\n",
       "<table border=\"1\" class=\"dataframe\">\n",
       "  <thead>\n",
       "    <tr style=\"text-align: right;\">\n",
       "      <th></th>\n",
       "      <th>title</th>\n",
       "      <th>single_genres</th>\n",
       "    </tr>\n",
       "    <tr>\n",
       "      <th>movieId</th>\n",
       "      <th></th>\n",
       "      <th></th>\n",
       "    </tr>\n",
       "  </thead>\n",
       "  <tbody>\n",
       "    <tr>\n",
       "      <th>1</th>\n",
       "      <td>Toy Story (1995)</td>\n",
       "      <td>Adventure Animation Children Comedy Fantasy</td>\n",
       "    </tr>\n",
       "    <tr>\n",
       "      <th>2</th>\n",
       "      <td>Jumanji (1995)</td>\n",
       "      <td>Adventure Children Fantasy</td>\n",
       "    </tr>\n",
       "    <tr>\n",
       "      <th>3</th>\n",
       "      <td>Grumpier Old Men (1995)</td>\n",
       "      <td>Comedy Romance</td>\n",
       "    </tr>\n",
       "    <tr>\n",
       "      <th>4</th>\n",
       "      <td>Waiting to Exhale (1995)</td>\n",
       "      <td>Comedy Drama Romance</td>\n",
       "    </tr>\n",
       "    <tr>\n",
       "      <th>5</th>\n",
       "      <td>Father of the Bride Part II (1995)</td>\n",
       "      <td>Comedy</td>\n",
       "    </tr>\n",
       "  </tbody>\n",
       "</table>\n",
       "</div>"
      ],
      "text/plain": [
       "                                      title  \\\n",
       "movieId                                       \n",
       "1                          Toy Story (1995)   \n",
       "2                            Jumanji (1995)   \n",
       "3                   Grumpier Old Men (1995)   \n",
       "4                  Waiting to Exhale (1995)   \n",
       "5        Father of the Bride Part II (1995)   \n",
       "\n",
       "                                       single_genres  \n",
       "movieId                                               \n",
       "1        Adventure Animation Children Comedy Fantasy  \n",
       "2                         Adventure Children Fantasy  \n",
       "3                                     Comedy Romance  \n",
       "4                               Comedy Drama Romance  \n",
       "5                                             Comedy  "
      ]
     },
     "execution_count": 118,
     "metadata": {},
     "output_type": "execute_result"
    }
   ],
   "source": [
    "# dropping redundant genres column, and columns not needed for cosine similarity\n",
    "\n",
    "df_subset = df_prep.drop(columns=['genres', 'userId', 'rating', 'timestamp'])\n",
    "df_subset.head()"
   ]
  },
  {
   "cell_type": "code",
   "execution_count": 120,
   "metadata": {},
   "outputs": [
    {
     "data": {
      "text/plain": [
       "(9724, 2)"
      ]
     },
     "execution_count": 120,
     "metadata": {},
     "output_type": "execute_result"
    }
   ],
   "source": [
    "df_subset.shape"
   ]
  },
  {
   "cell_type": "markdown",
   "metadata": {},
   "source": [
    "### Performing TF-IDF Vectorizer"
   ]
  },
  {
   "cell_type": "code",
   "execution_count": 122,
   "metadata": {},
   "outputs": [
    {
     "data": {
      "text/plain": [
       "movieId\n",
       "1    Adventure Animation Children Comedy Fantasy\n",
       "2                     Adventure Children Fantasy\n",
       "3                                 Comedy Romance\n",
       "4                           Comedy Drama Romance\n",
       "5                                         Comedy\n",
       "Name: single_genres, dtype: object"
      ]
     },
     "execution_count": 122,
     "metadata": {},
     "output_type": "execute_result"
    }
   ],
   "source": [
    "# dataframe of only single genres with movieId for index\n",
    "\n",
    "df_tfidf = df_subset['single_genres']\n",
    "df_tfidf.head()"
   ]
  },
  {
   "cell_type": "code",
   "execution_count": 63,
   "metadata": {},
   "outputs": [],
   "source": [
    "# instantiate TF-IDF vectorizer\n",
    "tf = TfidfVectorizer()"
   ]
  },
  {
   "cell_type": "code",
   "execution_count": 123,
   "metadata": {},
   "outputs": [],
   "source": [
    "# fit and transform on 'single_genres' column\n",
    "tfidf_matrix = tf.fit_transform(df_tfidf)"
   ]
  },
  {
   "cell_type": "code",
   "execution_count": 65,
   "metadata": {},
   "outputs": [],
   "source": [
    "# dtm = pd.DataFrame(dtm.todense(), columns=tf.get_feature_names_out(), index=df_b_r.index)"
   ]
  },
  {
   "cell_type": "code",
   "execution_count": 124,
   "metadata": {},
   "outputs": [
    {
     "data": {
      "text/plain": [
       "Index(['action', 'adventure', 'animation', 'children', 'comedy', 'crime',\n",
       "       'documentary', 'drama', 'fantasy', 'fi', 'film', 'genres', 'horror',\n",
       "       'imax', 'listed', 'musical', 'mystery', 'no', 'noir', 'romance', 'sci',\n",
       "       'thriller', 'war', 'western'],\n",
       "      dtype='object')"
      ]
     },
     "execution_count": 124,
     "metadata": {},
     "output_type": "execute_result"
    }
   ],
   "source": [
    "# create dataframe of dense matrix, prior to cosine similarity \n",
    "dense_df = pd.DataFrame(tfidf_matrix.todense(), columns=tf.get_feature_names())\n",
    "dense_df.columns"
   ]
  },
  {
   "cell_type": "code",
   "execution_count": 67,
   "metadata": {},
   "outputs": [
    {
     "data": {
      "text/html": [
       "<div>\n",
       "<style scoped>\n",
       "    .dataframe tbody tr th:only-of-type {\n",
       "        vertical-align: middle;\n",
       "    }\n",
       "\n",
       "    .dataframe tbody tr th {\n",
       "        vertical-align: top;\n",
       "    }\n",
       "\n",
       "    .dataframe thead th {\n",
       "        text-align: right;\n",
       "    }\n",
       "</style>\n",
       "<table border=\"1\" class=\"dataframe\">\n",
       "  <thead>\n",
       "    <tr style=\"text-align: right;\">\n",
       "      <th></th>\n",
       "      <th>action</th>\n",
       "      <th>adventure</th>\n",
       "      <th>animation</th>\n",
       "      <th>children</th>\n",
       "      <th>comedy</th>\n",
       "      <th>crime</th>\n",
       "      <th>documentary</th>\n",
       "      <th>drama</th>\n",
       "      <th>fantasy</th>\n",
       "      <th>fi</th>\n",
       "      <th>...</th>\n",
       "      <th>listed</th>\n",
       "      <th>musical</th>\n",
       "      <th>mystery</th>\n",
       "      <th>no</th>\n",
       "      <th>noir</th>\n",
       "      <th>romance</th>\n",
       "      <th>sci</th>\n",
       "      <th>thriller</th>\n",
       "      <th>war</th>\n",
       "      <th>western</th>\n",
       "    </tr>\n",
       "  </thead>\n",
       "  <tbody>\n",
       "    <tr>\n",
       "      <th>0</th>\n",
       "      <td>0.0</td>\n",
       "      <td>0.416817</td>\n",
       "      <td>0.51634</td>\n",
       "      <td>0.504733</td>\n",
       "      <td>0.267517</td>\n",
       "      <td>0.0</td>\n",
       "      <td>0.0</td>\n",
       "      <td>0.000000</td>\n",
       "      <td>0.483048</td>\n",
       "      <td>0.0</td>\n",
       "      <td>...</td>\n",
       "      <td>0.0</td>\n",
       "      <td>0.0</td>\n",
       "      <td>0.0</td>\n",
       "      <td>0.0</td>\n",
       "      <td>0.0</td>\n",
       "      <td>0.000000</td>\n",
       "      <td>0.0</td>\n",
       "      <td>0.0</td>\n",
       "      <td>0.0</td>\n",
       "      <td>0.0</td>\n",
       "    </tr>\n",
       "    <tr>\n",
       "      <th>1</th>\n",
       "      <td>0.0</td>\n",
       "      <td>0.512358</td>\n",
       "      <td>0.00000</td>\n",
       "      <td>0.620425</td>\n",
       "      <td>0.000000</td>\n",
       "      <td>0.0</td>\n",
       "      <td>0.0</td>\n",
       "      <td>0.000000</td>\n",
       "      <td>0.593769</td>\n",
       "      <td>0.0</td>\n",
       "      <td>...</td>\n",
       "      <td>0.0</td>\n",
       "      <td>0.0</td>\n",
       "      <td>0.0</td>\n",
       "      <td>0.0</td>\n",
       "      <td>0.0</td>\n",
       "      <td>0.000000</td>\n",
       "      <td>0.0</td>\n",
       "      <td>0.0</td>\n",
       "      <td>0.0</td>\n",
       "      <td>0.0</td>\n",
       "    </tr>\n",
       "    <tr>\n",
       "      <th>2</th>\n",
       "      <td>0.0</td>\n",
       "      <td>0.000000</td>\n",
       "      <td>0.00000</td>\n",
       "      <td>0.000000</td>\n",
       "      <td>0.570532</td>\n",
       "      <td>0.0</td>\n",
       "      <td>0.0</td>\n",
       "      <td>0.000000</td>\n",
       "      <td>0.000000</td>\n",
       "      <td>0.0</td>\n",
       "      <td>...</td>\n",
       "      <td>0.0</td>\n",
       "      <td>0.0</td>\n",
       "      <td>0.0</td>\n",
       "      <td>0.0</td>\n",
       "      <td>0.0</td>\n",
       "      <td>0.821275</td>\n",
       "      <td>0.0</td>\n",
       "      <td>0.0</td>\n",
       "      <td>0.0</td>\n",
       "      <td>0.0</td>\n",
       "    </tr>\n",
       "    <tr>\n",
       "      <th>3</th>\n",
       "      <td>0.0</td>\n",
       "      <td>0.000000</td>\n",
       "      <td>0.00000</td>\n",
       "      <td>0.000000</td>\n",
       "      <td>0.504636</td>\n",
       "      <td>0.0</td>\n",
       "      <td>0.0</td>\n",
       "      <td>0.466539</td>\n",
       "      <td>0.000000</td>\n",
       "      <td>0.0</td>\n",
       "      <td>...</td>\n",
       "      <td>0.0</td>\n",
       "      <td>0.0</td>\n",
       "      <td>0.0</td>\n",
       "      <td>0.0</td>\n",
       "      <td>0.0</td>\n",
       "      <td>0.726418</td>\n",
       "      <td>0.0</td>\n",
       "      <td>0.0</td>\n",
       "      <td>0.0</td>\n",
       "      <td>0.0</td>\n",
       "    </tr>\n",
       "    <tr>\n",
       "      <th>4</th>\n",
       "      <td>0.0</td>\n",
       "      <td>0.000000</td>\n",
       "      <td>0.00000</td>\n",
       "      <td>0.000000</td>\n",
       "      <td>1.000000</td>\n",
       "      <td>0.0</td>\n",
       "      <td>0.0</td>\n",
       "      <td>0.000000</td>\n",
       "      <td>0.000000</td>\n",
       "      <td>0.0</td>\n",
       "      <td>...</td>\n",
       "      <td>0.0</td>\n",
       "      <td>0.0</td>\n",
       "      <td>0.0</td>\n",
       "      <td>0.0</td>\n",
       "      <td>0.0</td>\n",
       "      <td>0.000000</td>\n",
       "      <td>0.0</td>\n",
       "      <td>0.0</td>\n",
       "      <td>0.0</td>\n",
       "      <td>0.0</td>\n",
       "    </tr>\n",
       "  </tbody>\n",
       "</table>\n",
       "<p>5 rows × 24 columns</p>\n",
       "</div>"
      ],
      "text/plain": [
       "   action  adventure  animation  children    comedy  crime  documentary  \\\n",
       "0     0.0   0.416817    0.51634  0.504733  0.267517    0.0          0.0   \n",
       "1     0.0   0.512358    0.00000  0.620425  0.000000    0.0          0.0   \n",
       "2     0.0   0.000000    0.00000  0.000000  0.570532    0.0          0.0   \n",
       "3     0.0   0.000000    0.00000  0.000000  0.504636    0.0          0.0   \n",
       "4     0.0   0.000000    0.00000  0.000000  1.000000    0.0          0.0   \n",
       "\n",
       "      drama   fantasy   fi  ...  listed  musical  mystery   no  noir  \\\n",
       "0  0.000000  0.483048  0.0  ...     0.0      0.0      0.0  0.0   0.0   \n",
       "1  0.000000  0.593769  0.0  ...     0.0      0.0      0.0  0.0   0.0   \n",
       "2  0.000000  0.000000  0.0  ...     0.0      0.0      0.0  0.0   0.0   \n",
       "3  0.466539  0.000000  0.0  ...     0.0      0.0      0.0  0.0   0.0   \n",
       "4  0.000000  0.000000  0.0  ...     0.0      0.0      0.0  0.0   0.0   \n",
       "\n",
       "    romance  sci  thriller  war  western  \n",
       "0  0.000000  0.0       0.0  0.0      0.0  \n",
       "1  0.000000  0.0       0.0  0.0      0.0  \n",
       "2  0.821275  0.0       0.0  0.0      0.0  \n",
       "3  0.726418  0.0       0.0  0.0      0.0  \n",
       "4  0.000000  0.0       0.0  0.0      0.0  \n",
       "\n",
       "[5 rows x 24 columns]"
      ]
     },
     "execution_count": 67,
     "metadata": {},
     "output_type": "execute_result"
    }
   ],
   "source": [
    "dense_df.head()"
   ]
  },
  {
   "cell_type": "code",
   "execution_count": 131,
   "metadata": {},
   "outputs": [],
   "source": [
    "# remove columns with no genre listed ('no', 'genres') as well as 'fi' since that duplicates 'sci'\n",
    "dense_df.drop(columns=['no', 'genres', 'fi'], inplace=True)"
   ]
  },
  {
   "cell_type": "code",
   "execution_count": 132,
   "metadata": {},
   "outputs": [
    {
     "name": "stdout",
     "output_type": "stream",
     "text": [
      "<class 'pandas.core.frame.DataFrame'>\n",
      "RangeIndex: 9724 entries, 0 to 9723\n",
      "Data columns (total 21 columns):\n",
      " #   Column       Non-Null Count  Dtype  \n",
      "---  ------       --------------  -----  \n",
      " 0   action       9724 non-null   float64\n",
      " 1   adventure    9724 non-null   float64\n",
      " 2   animation    9724 non-null   float64\n",
      " 3   children     9724 non-null   float64\n",
      " 4   comedy       9724 non-null   float64\n",
      " 5   crime        9724 non-null   float64\n",
      " 6   documentary  9724 non-null   float64\n",
      " 7   drama        9724 non-null   float64\n",
      " 8   fantasy      9724 non-null   float64\n",
      " 9   film         9724 non-null   float64\n",
      " 10  horror       9724 non-null   float64\n",
      " 11  imax         9724 non-null   float64\n",
      " 12  listed       9724 non-null   float64\n",
      " 13  musical      9724 non-null   float64\n",
      " 14  mystery      9724 non-null   float64\n",
      " 15  noir         9724 non-null   float64\n",
      " 16  romance      9724 non-null   float64\n",
      " 17  sci          9724 non-null   float64\n",
      " 18  thriller     9724 non-null   float64\n",
      " 19  war          9724 non-null   float64\n",
      " 20  western      9724 non-null   float64\n",
      "dtypes: float64(21)\n",
      "memory usage: 1.6 MB\n"
     ]
    }
   ],
   "source": [
    "dense_df.info()"
   ]
  },
  {
   "cell_type": "markdown",
   "metadata": {},
   "source": [
    "### Cosine similarity"
   ]
  },
  {
   "cell_type": "code",
   "execution_count": 125,
   "metadata": {},
   "outputs": [],
   "source": [
    "# instantiating Cosine Similarity on our dense dataframe: dense_df\n",
    "cosine_sim = cosine_similarity(dense_df)"
   ]
  },
  {
   "cell_type": "code",
   "execution_count": 128,
   "metadata": {},
   "outputs": [
    {
     "data": {
      "text/plain": [
       "array([1.        , 0.81352752, 0.15262722, ..., 0.        , 0.42122062,\n",
       "       0.26751731])"
      ]
     },
     "execution_count": 128,
     "metadata": {},
     "output_type": "execute_result"
    }
   ],
   "source": [
    "# sample row, illustrating similarity (0-1) of the 1st movie entry relative to all other movies\n",
    "cosine_sim[0]"
   ]
  },
  {
   "cell_type": "code",
   "execution_count": 199,
   "metadata": {},
   "outputs": [
    {
     "data": {
      "text/html": [
       "<div>\n",
       "<style scoped>\n",
       "    .dataframe tbody tr th:only-of-type {\n",
       "        vertical-align: middle;\n",
       "    }\n",
       "\n",
       "    .dataframe tbody tr th {\n",
       "        vertical-align: top;\n",
       "    }\n",
       "\n",
       "    .dataframe thead th {\n",
       "        text-align: right;\n",
       "    }\n",
       "</style>\n",
       "<table border=\"1\" class=\"dataframe\">\n",
       "  <thead>\n",
       "    <tr style=\"text-align: right;\">\n",
       "      <th></th>\n",
       "      <th>0</th>\n",
       "      <th>1</th>\n",
       "      <th>2</th>\n",
       "      <th>3</th>\n",
       "      <th>4</th>\n",
       "      <th>5</th>\n",
       "      <th>6</th>\n",
       "      <th>7</th>\n",
       "      <th>8</th>\n",
       "      <th>9</th>\n",
       "      <th>...</th>\n",
       "      <th>9714</th>\n",
       "      <th>9715</th>\n",
       "      <th>9716</th>\n",
       "      <th>9717</th>\n",
       "      <th>9718</th>\n",
       "      <th>9719</th>\n",
       "      <th>9720</th>\n",
       "      <th>9721</th>\n",
       "      <th>9722</th>\n",
       "      <th>9723</th>\n",
       "    </tr>\n",
       "  </thead>\n",
       "  <tbody>\n",
       "    <tr>\n",
       "      <th>0</th>\n",
       "      <td>1.000000</td>\n",
       "      <td>0.813528</td>\n",
       "      <td>0.152627</td>\n",
       "      <td>0.134999</td>\n",
       "      <td>0.267517</td>\n",
       "      <td>0.000000</td>\n",
       "      <td>0.152627</td>\n",
       "      <td>0.654593</td>\n",
       "      <td>0.000000</td>\n",
       "      <td>0.262372</td>\n",
       "      <td>...</td>\n",
       "      <td>0.360537</td>\n",
       "      <td>0.465676</td>\n",
       "      <td>0.196433</td>\n",
       "      <td>0.516340</td>\n",
       "      <td>0.0</td>\n",
       "      <td>0.680408</td>\n",
       "      <td>0.755981</td>\n",
       "      <td>0.000000</td>\n",
       "      <td>0.421221</td>\n",
       "      <td>0.267517</td>\n",
       "    </tr>\n",
       "    <tr>\n",
       "      <th>1</th>\n",
       "      <td>0.813528</td>\n",
       "      <td>1.000000</td>\n",
       "      <td>0.000000</td>\n",
       "      <td>0.000000</td>\n",
       "      <td>0.000000</td>\n",
       "      <td>0.000000</td>\n",
       "      <td>0.000000</td>\n",
       "      <td>0.804635</td>\n",
       "      <td>0.000000</td>\n",
       "      <td>0.322512</td>\n",
       "      <td>...</td>\n",
       "      <td>0.000000</td>\n",
       "      <td>0.000000</td>\n",
       "      <td>0.000000</td>\n",
       "      <td>0.000000</td>\n",
       "      <td>0.0</td>\n",
       "      <td>0.341472</td>\n",
       "      <td>0.379399</td>\n",
       "      <td>0.000000</td>\n",
       "      <td>0.000000</td>\n",
       "      <td>0.000000</td>\n",
       "    </tr>\n",
       "    <tr>\n",
       "      <th>2</th>\n",
       "      <td>0.152627</td>\n",
       "      <td>0.000000</td>\n",
       "      <td>1.000000</td>\n",
       "      <td>0.884500</td>\n",
       "      <td>0.570532</td>\n",
       "      <td>0.000000</td>\n",
       "      <td>1.000000</td>\n",
       "      <td>0.000000</td>\n",
       "      <td>0.000000</td>\n",
       "      <td>0.000000</td>\n",
       "      <td>...</td>\n",
       "      <td>0.162721</td>\n",
       "      <td>0.000000</td>\n",
       "      <td>0.418930</td>\n",
       "      <td>0.000000</td>\n",
       "      <td>0.0</td>\n",
       "      <td>0.181710</td>\n",
       "      <td>0.201893</td>\n",
       "      <td>0.000000</td>\n",
       "      <td>0.000000</td>\n",
       "      <td>0.570532</td>\n",
       "    </tr>\n",
       "    <tr>\n",
       "      <th>3</th>\n",
       "      <td>0.134999</td>\n",
       "      <td>0.000000</td>\n",
       "      <td>0.884500</td>\n",
       "      <td>1.000000</td>\n",
       "      <td>0.504636</td>\n",
       "      <td>0.000000</td>\n",
       "      <td>0.884500</td>\n",
       "      <td>0.000000</td>\n",
       "      <td>0.000000</td>\n",
       "      <td>0.000000</td>\n",
       "      <td>...</td>\n",
       "      <td>0.143927</td>\n",
       "      <td>0.201540</td>\n",
       "      <td>0.687253</td>\n",
       "      <td>0.000000</td>\n",
       "      <td>0.0</td>\n",
       "      <td>0.160723</td>\n",
       "      <td>0.178574</td>\n",
       "      <td>0.466539</td>\n",
       "      <td>0.000000</td>\n",
       "      <td>0.504636</td>\n",
       "    </tr>\n",
       "    <tr>\n",
       "      <th>4</th>\n",
       "      <td>0.267517</td>\n",
       "      <td>0.000000</td>\n",
       "      <td>0.570532</td>\n",
       "      <td>0.504636</td>\n",
       "      <td>1.000000</td>\n",
       "      <td>0.000000</td>\n",
       "      <td>0.570532</td>\n",
       "      <td>0.000000</td>\n",
       "      <td>0.000000</td>\n",
       "      <td>0.000000</td>\n",
       "      <td>...</td>\n",
       "      <td>0.285209</td>\n",
       "      <td>0.000000</td>\n",
       "      <td>0.734280</td>\n",
       "      <td>0.000000</td>\n",
       "      <td>0.0</td>\n",
       "      <td>0.318492</td>\n",
       "      <td>0.353868</td>\n",
       "      <td>0.000000</td>\n",
       "      <td>0.000000</td>\n",
       "      <td>1.000000</td>\n",
       "    </tr>\n",
       "    <tr>\n",
       "      <th>...</th>\n",
       "      <td>...</td>\n",
       "      <td>...</td>\n",
       "      <td>...</td>\n",
       "      <td>...</td>\n",
       "      <td>...</td>\n",
       "      <td>...</td>\n",
       "      <td>...</td>\n",
       "      <td>...</td>\n",
       "      <td>...</td>\n",
       "      <td>...</td>\n",
       "      <td>...</td>\n",
       "      <td>...</td>\n",
       "      <td>...</td>\n",
       "      <td>...</td>\n",
       "      <td>...</td>\n",
       "      <td>...</td>\n",
       "      <td>...</td>\n",
       "      <td>...</td>\n",
       "      <td>...</td>\n",
       "      <td>...</td>\n",
       "      <td>...</td>\n",
       "    </tr>\n",
       "    <tr>\n",
       "      <th>9719</th>\n",
       "      <td>0.680408</td>\n",
       "      <td>0.341472</td>\n",
       "      <td>0.181710</td>\n",
       "      <td>0.160723</td>\n",
       "      <td>0.318492</td>\n",
       "      <td>0.239252</td>\n",
       "      <td>0.181710</td>\n",
       "      <td>0.000000</td>\n",
       "      <td>0.435822</td>\n",
       "      <td>0.240934</td>\n",
       "      <td>...</td>\n",
       "      <td>0.599328</td>\n",
       "      <td>0.554410</td>\n",
       "      <td>0.233863</td>\n",
       "      <td>0.614729</td>\n",
       "      <td>0.0</td>\n",
       "      <td>1.000000</td>\n",
       "      <td>0.900033</td>\n",
       "      <td>0.000000</td>\n",
       "      <td>0.753546</td>\n",
       "      <td>0.318492</td>\n",
       "    </tr>\n",
       "    <tr>\n",
       "      <th>9720</th>\n",
       "      <td>0.755981</td>\n",
       "      <td>0.379399</td>\n",
       "      <td>0.201893</td>\n",
       "      <td>0.178574</td>\n",
       "      <td>0.353868</td>\n",
       "      <td>0.000000</td>\n",
       "      <td>0.201893</td>\n",
       "      <td>0.000000</td>\n",
       "      <td>0.000000</td>\n",
       "      <td>0.000000</td>\n",
       "      <td>...</td>\n",
       "      <td>0.476912</td>\n",
       "      <td>0.615989</td>\n",
       "      <td>0.259838</td>\n",
       "      <td>0.683007</td>\n",
       "      <td>0.0</td>\n",
       "      <td>0.900033</td>\n",
       "      <td>1.000000</td>\n",
       "      <td>0.000000</td>\n",
       "      <td>0.557184</td>\n",
       "      <td>0.353868</td>\n",
       "    </tr>\n",
       "    <tr>\n",
       "      <th>9721</th>\n",
       "      <td>0.000000</td>\n",
       "      <td>0.000000</td>\n",
       "      <td>0.000000</td>\n",
       "      <td>0.466539</td>\n",
       "      <td>0.000000</td>\n",
       "      <td>0.000000</td>\n",
       "      <td>0.000000</td>\n",
       "      <td>0.000000</td>\n",
       "      <td>0.000000</td>\n",
       "      <td>0.000000</td>\n",
       "      <td>...</td>\n",
       "      <td>0.000000</td>\n",
       "      <td>0.431990</td>\n",
       "      <td>0.678847</td>\n",
       "      <td>0.000000</td>\n",
       "      <td>0.0</td>\n",
       "      <td>0.000000</td>\n",
       "      <td>0.000000</td>\n",
       "      <td>1.000000</td>\n",
       "      <td>0.000000</td>\n",
       "      <td>0.000000</td>\n",
       "    </tr>\n",
       "    <tr>\n",
       "      <th>9722</th>\n",
       "      <td>0.421221</td>\n",
       "      <td>0.000000</td>\n",
       "      <td>0.000000</td>\n",
       "      <td>0.000000</td>\n",
       "      <td>0.000000</td>\n",
       "      <td>0.317501</td>\n",
       "      <td>0.000000</td>\n",
       "      <td>0.000000</td>\n",
       "      <td>0.578361</td>\n",
       "      <td>0.319733</td>\n",
       "      <td>...</td>\n",
       "      <td>0.674798</td>\n",
       "      <td>0.735735</td>\n",
       "      <td>0.000000</td>\n",
       "      <td>0.815781</td>\n",
       "      <td>0.0</td>\n",
       "      <td>0.753546</td>\n",
       "      <td>0.557184</td>\n",
       "      <td>0.000000</td>\n",
       "      <td>1.000000</td>\n",
       "      <td>0.000000</td>\n",
       "    </tr>\n",
       "    <tr>\n",
       "      <th>9723</th>\n",
       "      <td>0.267517</td>\n",
       "      <td>0.000000</td>\n",
       "      <td>0.570532</td>\n",
       "      <td>0.504636</td>\n",
       "      <td>1.000000</td>\n",
       "      <td>0.000000</td>\n",
       "      <td>0.570532</td>\n",
       "      <td>0.000000</td>\n",
       "      <td>0.000000</td>\n",
       "      <td>0.000000</td>\n",
       "      <td>...</td>\n",
       "      <td>0.285209</td>\n",
       "      <td>0.000000</td>\n",
       "      <td>0.734280</td>\n",
       "      <td>0.000000</td>\n",
       "      <td>0.0</td>\n",
       "      <td>0.318492</td>\n",
       "      <td>0.353868</td>\n",
       "      <td>0.000000</td>\n",
       "      <td>0.000000</td>\n",
       "      <td>1.000000</td>\n",
       "    </tr>\n",
       "  </tbody>\n",
       "</table>\n",
       "<p>9724 rows × 9724 columns</p>\n",
       "</div>"
      ],
      "text/plain": [
       "          0         1         2         3         4         5         6     \\\n",
       "0     1.000000  0.813528  0.152627  0.134999  0.267517  0.000000  0.152627   \n",
       "1     0.813528  1.000000  0.000000  0.000000  0.000000  0.000000  0.000000   \n",
       "2     0.152627  0.000000  1.000000  0.884500  0.570532  0.000000  1.000000   \n",
       "3     0.134999  0.000000  0.884500  1.000000  0.504636  0.000000  0.884500   \n",
       "4     0.267517  0.000000  0.570532  0.504636  1.000000  0.000000  0.570532   \n",
       "...        ...       ...       ...       ...       ...       ...       ...   \n",
       "9719  0.680408  0.341472  0.181710  0.160723  0.318492  0.239252  0.181710   \n",
       "9720  0.755981  0.379399  0.201893  0.178574  0.353868  0.000000  0.201893   \n",
       "9721  0.000000  0.000000  0.000000  0.466539  0.000000  0.000000  0.000000   \n",
       "9722  0.421221  0.000000  0.000000  0.000000  0.000000  0.317501  0.000000   \n",
       "9723  0.267517  0.000000  0.570532  0.504636  1.000000  0.000000  0.570532   \n",
       "\n",
       "          7         8         9     ...      9714      9715      9716  \\\n",
       "0     0.654593  0.000000  0.262372  ...  0.360537  0.465676  0.196433   \n",
       "1     0.804635  0.000000  0.322512  ...  0.000000  0.000000  0.000000   \n",
       "2     0.000000  0.000000  0.000000  ...  0.162721  0.000000  0.418930   \n",
       "3     0.000000  0.000000  0.000000  ...  0.143927  0.201540  0.687253   \n",
       "4     0.000000  0.000000  0.000000  ...  0.285209  0.000000  0.734280   \n",
       "...        ...       ...       ...  ...       ...       ...       ...   \n",
       "9719  0.000000  0.435822  0.240934  ...  0.599328  0.554410  0.233863   \n",
       "9720  0.000000  0.000000  0.000000  ...  0.476912  0.615989  0.259838   \n",
       "9721  0.000000  0.000000  0.000000  ...  0.000000  0.431990  0.678847   \n",
       "9722  0.000000  0.578361  0.319733  ...  0.674798  0.735735  0.000000   \n",
       "9723  0.000000  0.000000  0.000000  ...  0.285209  0.000000  0.734280   \n",
       "\n",
       "          9717  9718      9719      9720      9721      9722      9723  \n",
       "0     0.516340   0.0  0.680408  0.755981  0.000000  0.421221  0.267517  \n",
       "1     0.000000   0.0  0.341472  0.379399  0.000000  0.000000  0.000000  \n",
       "2     0.000000   0.0  0.181710  0.201893  0.000000  0.000000  0.570532  \n",
       "3     0.000000   0.0  0.160723  0.178574  0.466539  0.000000  0.504636  \n",
       "4     0.000000   0.0  0.318492  0.353868  0.000000  0.000000  1.000000  \n",
       "...        ...   ...       ...       ...       ...       ...       ...  \n",
       "9719  0.614729   0.0  1.000000  0.900033  0.000000  0.753546  0.318492  \n",
       "9720  0.683007   0.0  0.900033  1.000000  0.000000  0.557184  0.353868  \n",
       "9721  0.000000   0.0  0.000000  0.000000  1.000000  0.000000  0.000000  \n",
       "9722  0.815781   0.0  0.753546  0.557184  0.000000  1.000000  0.000000  \n",
       "9723  0.000000   0.0  0.318492  0.353868  0.000000  0.000000  1.000000  \n",
       "\n",
       "[9724 rows x 9724 columns]"
      ]
     },
     "execution_count": 199,
     "metadata": {},
     "output_type": "execute_result"
    }
   ],
   "source": [
    "# creating dataframe from cosine similarity matrix, indexed on dense_df\n",
    "df_cos = pd.DataFrame(data=cosine_sim)\n",
    "df_cos\n",
    "\n",
    "# note 9724 x 9724 matrix for all remaining unique movies"
   ]
  },
  {
   "cell_type": "markdown",
   "metadata": {},
   "source": [
    "### Creating parts for function"
   ]
  },
  {
   "cell_type": "code",
   "execution_count": 230,
   "metadata": {},
   "outputs": [
    {
     "name": "stdout",
     "output_type": "stream",
     "text": [
      "Provide your favorite movie title from the dataset: Jumanji (1995)\n"
     ]
    }
   ],
   "source": [
    "movie_title = input('Provide your favorite movie title from the dataset: ')"
   ]
  },
  {
   "cell_type": "code",
   "execution_count": 233,
   "metadata": {},
   "outputs": [
    {
     "data": {
      "text/plain": [
       "[2]"
      ]
     },
     "execution_count": 233,
     "metadata": {},
     "output_type": "execute_result"
    }
   ],
   "source": [
    "movie_idx_1 = df_subset.index[df_subset['title'] == movie_title].tolist()\n",
    "movie_idx_1"
   ]
  },
  {
   "cell_type": "code",
   "execution_count": 236,
   "metadata": {},
   "outputs": [
    {
     "data": {
      "text/plain": [
       "1"
      ]
     },
     "execution_count": 236,
     "metadata": {},
     "output_type": "execute_result"
    }
   ],
   "source": [
    "# the above index value is off by 1, and it's in a list, so...\n",
    "movie_idx_2 = movie_idx_1[0] - 1\n",
    "movie_idx_2"
   ]
  },
  {
   "cell_type": "markdown",
   "metadata": {},
   "source": [
    "### Creating dataframe for recommendations"
   ]
  },
  {
   "cell_type": "code",
   "execution_count": 237,
   "metadata": {},
   "outputs": [
    {
     "data": {
      "text/html": [
       "<div>\n",
       "<style scoped>\n",
       "    .dataframe tbody tr th:only-of-type {\n",
       "        vertical-align: middle;\n",
       "    }\n",
       "\n",
       "    .dataframe tbody tr th {\n",
       "        vertical-align: top;\n",
       "    }\n",
       "\n",
       "    .dataframe thead th {\n",
       "        text-align: right;\n",
       "    }\n",
       "</style>\n",
       "<table border=\"1\" class=\"dataframe\">\n",
       "  <thead>\n",
       "    <tr style=\"text-align: right;\">\n",
       "      <th></th>\n",
       "      <th>0</th>\n",
       "      <th>1</th>\n",
       "      <th>2</th>\n",
       "      <th>3</th>\n",
       "      <th>4</th>\n",
       "      <th>5</th>\n",
       "      <th>6</th>\n",
       "      <th>7</th>\n",
       "      <th>8</th>\n",
       "      <th>9</th>\n",
       "      <th>...</th>\n",
       "      <th>9714</th>\n",
       "      <th>9715</th>\n",
       "      <th>9716</th>\n",
       "      <th>9717</th>\n",
       "      <th>9718</th>\n",
       "      <th>9719</th>\n",
       "      <th>9720</th>\n",
       "      <th>9721</th>\n",
       "      <th>9722</th>\n",
       "      <th>9723</th>\n",
       "    </tr>\n",
       "  </thead>\n",
       "  <tbody>\n",
       "    <tr>\n",
       "      <th>1617</th>\n",
       "      <td>0.813528</td>\n",
       "      <td>1.0</td>\n",
       "      <td>0.0</td>\n",
       "      <td>0.0</td>\n",
       "      <td>0.0</td>\n",
       "      <td>0.0</td>\n",
       "      <td>0.0</td>\n",
       "      <td>0.804635</td>\n",
       "      <td>0.0</td>\n",
       "      <td>0.322512</td>\n",
       "      <td>...</td>\n",
       "      <td>0.0</td>\n",
       "      <td>0.0</td>\n",
       "      <td>0.0</td>\n",
       "      <td>0.0</td>\n",
       "      <td>0.0</td>\n",
       "      <td>0.341472</td>\n",
       "      <td>0.379399</td>\n",
       "      <td>0.0</td>\n",
       "      <td>0.0</td>\n",
       "      <td>0.0</td>\n",
       "    </tr>\n",
       "    <tr>\n",
       "      <th>53</th>\n",
       "      <td>0.813528</td>\n",
       "      <td>1.0</td>\n",
       "      <td>0.0</td>\n",
       "      <td>0.0</td>\n",
       "      <td>0.0</td>\n",
       "      <td>0.0</td>\n",
       "      <td>0.0</td>\n",
       "      <td>0.804635</td>\n",
       "      <td>0.0</td>\n",
       "      <td>0.322512</td>\n",
       "      <td>...</td>\n",
       "      <td>0.0</td>\n",
       "      <td>0.0</td>\n",
       "      <td>0.0</td>\n",
       "      <td>0.0</td>\n",
       "      <td>0.0</td>\n",
       "      <td>0.341472</td>\n",
       "      <td>0.379399</td>\n",
       "      <td>0.0</td>\n",
       "      <td>0.0</td>\n",
       "      <td>0.0</td>\n",
       "    </tr>\n",
       "    <tr>\n",
       "      <th>1616</th>\n",
       "      <td>0.813528</td>\n",
       "      <td>1.0</td>\n",
       "      <td>0.0</td>\n",
       "      <td>0.0</td>\n",
       "      <td>0.0</td>\n",
       "      <td>0.0</td>\n",
       "      <td>0.0</td>\n",
       "      <td>0.804635</td>\n",
       "      <td>0.0</td>\n",
       "      <td>0.322512</td>\n",
       "      <td>...</td>\n",
       "      <td>0.0</td>\n",
       "      <td>0.0</td>\n",
       "      <td>0.0</td>\n",
       "      <td>0.0</td>\n",
       "      <td>0.0</td>\n",
       "      <td>0.341472</td>\n",
       "      <td>0.379399</td>\n",
       "      <td>0.0</td>\n",
       "      <td>0.0</td>\n",
       "      <td>0.0</td>\n",
       "    </tr>\n",
       "    <tr>\n",
       "      <th>109</th>\n",
       "      <td>0.813528</td>\n",
       "      <td>1.0</td>\n",
       "      <td>0.0</td>\n",
       "      <td>0.0</td>\n",
       "      <td>0.0</td>\n",
       "      <td>0.0</td>\n",
       "      <td>0.0</td>\n",
       "      <td>0.804635</td>\n",
       "      <td>0.0</td>\n",
       "      <td>0.322512</td>\n",
       "      <td>...</td>\n",
       "      <td>0.0</td>\n",
       "      <td>0.0</td>\n",
       "      <td>0.0</td>\n",
       "      <td>0.0</td>\n",
       "      <td>0.0</td>\n",
       "      <td>0.341472</td>\n",
       "      <td>0.379399</td>\n",
       "      <td>0.0</td>\n",
       "      <td>0.0</td>\n",
       "      <td>0.0</td>\n",
       "    </tr>\n",
       "    <tr>\n",
       "      <th>1798</th>\n",
       "      <td>0.813528</td>\n",
       "      <td>1.0</td>\n",
       "      <td>0.0</td>\n",
       "      <td>0.0</td>\n",
       "      <td>0.0</td>\n",
       "      <td>0.0</td>\n",
       "      <td>0.0</td>\n",
       "      <td>0.804635</td>\n",
       "      <td>0.0</td>\n",
       "      <td>0.322512</td>\n",
       "      <td>...</td>\n",
       "      <td>0.0</td>\n",
       "      <td>0.0</td>\n",
       "      <td>0.0</td>\n",
       "      <td>0.0</td>\n",
       "      <td>0.0</td>\n",
       "      <td>0.341472</td>\n",
       "      <td>0.379399</td>\n",
       "      <td>0.0</td>\n",
       "      <td>0.0</td>\n",
       "      <td>0.0</td>\n",
       "    </tr>\n",
       "  </tbody>\n",
       "</table>\n",
       "<p>5 rows × 9724 columns</p>\n",
       "</div>"
      ],
      "text/plain": [
       "          0     1     2     3     4     5     6         7     8         9     \\\n",
       "1617  0.813528   1.0   0.0   0.0   0.0   0.0   0.0  0.804635   0.0  0.322512   \n",
       "53    0.813528   1.0   0.0   0.0   0.0   0.0   0.0  0.804635   0.0  0.322512   \n",
       "1616  0.813528   1.0   0.0   0.0   0.0   0.0   0.0  0.804635   0.0  0.322512   \n",
       "109   0.813528   1.0   0.0   0.0   0.0   0.0   0.0  0.804635   0.0  0.322512   \n",
       "1798  0.813528   1.0   0.0   0.0   0.0   0.0   0.0  0.804635   0.0  0.322512   \n",
       "\n",
       "      ...  9714  9715  9716  9717  9718      9719      9720  9721  9722  9723  \n",
       "1617  ...   0.0   0.0   0.0   0.0   0.0  0.341472  0.379399   0.0   0.0   0.0  \n",
       "53    ...   0.0   0.0   0.0   0.0   0.0  0.341472  0.379399   0.0   0.0   0.0  \n",
       "1616  ...   0.0   0.0   0.0   0.0   0.0  0.341472  0.379399   0.0   0.0   0.0  \n",
       "109   ...   0.0   0.0   0.0   0.0   0.0  0.341472  0.379399   0.0   0.0   0.0  \n",
       "1798  ...   0.0   0.0   0.0   0.0   0.0  0.341472  0.379399   0.0   0.0   0.0  \n",
       "\n",
       "[5 rows x 9724 columns]"
      ]
     },
     "execution_count": 237,
     "metadata": {},
     "output_type": "execute_result"
    }
   ],
   "source": [
    "recs_df = df_cos.sort_values(by=[1], ascending=False)[0:5]\n",
    "recs_df\n",
    "\n",
    "# note all the '1.0' in the '1' column, indicating exact genre matches"
   ]
  },
  {
   "cell_type": "code",
   "execution_count": 238,
   "metadata": {},
   "outputs": [
    {
     "data": {
      "text/plain": [
       "1617"
      ]
     },
     "execution_count": 238,
     "metadata": {},
     "output_type": "execute_result"
    }
   ],
   "source": [
    "# pulling out individual index numbers from total recs_list\n",
    "recs_list = recs_df.index.tolist()\n",
    "recs_list[0]"
   ]
  },
  {
   "cell_type": "code",
   "execution_count": 239,
   "metadata": {},
   "outputs": [],
   "source": [
    "# Compiling the above code into a working function that takes \n",
    "# an exact movie title as input and returns 5 recommendations\n",
    "\n",
    "def content_based():\n",
    "    \n",
    "    movie_title = input('Provide your favorite movie title from the dataset: ')\n",
    "    movie_idx_1 = df_subset.index[df_subset['title'] == movie_title].tolist()\n",
    "    movie_idx_2 = movie_idx_1[0] - 1\n",
    "    \n",
    "    recs_df = df_cos.sort_values(by=movie_idx_2, ascending=False)[0:5]\n",
    "    recs_list = recs_df.index.tolist()\n",
    "    \n",
    "    movie_1 = df_subset['title'].loc[df_subset.index[recs_list[0]]]\n",
    "    movie_2 = df_subset['title'].loc[df_subset.index[recs_list[1]]]\n",
    "    movie_3 = df_subset['title'].loc[df_subset.index[recs_list[2]]]\n",
    "    movie_4 = df_subset['title'].loc[df_subset.index[recs_list[3]]]\n",
    "    movie_5 = df_subset['title'].loc[df_subset.index[recs_list[4]]]\n",
    "    \n",
    "    recs_message_1 = f\"Your top movie recommendation is {movie_1}.\"\n",
    "    \n",
    "    recs_message_2 = f\"You may also enjoy: {movie_2}, {movie_3}, {movie_4}, and {movie_5}\"\n",
    "\n",
    "    \n",
    "    return recs_message_1, recs_message_2"
   ]
  },
  {
   "cell_type": "code",
   "execution_count": 240,
   "metadata": {},
   "outputs": [
    {
     "name": "stdout",
     "output_type": "stream",
     "text": [
      "Provide your favorite movie title from the dataset: Jumanji (1995)\n"
     ]
    },
    {
     "data": {
      "text/plain": [
       "('Your top movie recommendation is NeverEnding Story II: The Next Chapter, The (1990).',\n",
       " 'You may also enjoy: Indian in the Cupboard, The (1995), NeverEnding Story, The (1984), NeverEnding Story III, The (1994), and Santa Claus: The Movie (1985)')"
      ]
     },
     "execution_count": 240,
     "metadata": {},
     "output_type": "execute_result"
    }
   ],
   "source": [
    "# content_based()"
   ]
  },
  {
   "cell_type": "markdown",
   "metadata": {},
   "source": [
    "The content-based filter appears to be pretty accurate based on the return above.  We didn't test this at length"
   ]
  },
  {
   "cell_type": "markdown",
   "metadata": {},
   "source": [
    "<a id='summary'></a>"
   ]
  },
  {
   "cell_type": "markdown",
   "metadata": {},
   "source": [
    "# Summary"
   ]
  },
  {
   "cell_type": "markdown",
   "metadata": {},
   "source": [
    "In summary, we were tasked with creating a top 5 movie recommendation system to demonstrate for the JustWatch streaming guide app.  Using the \"small\" dataset from MovieLens, we were able to produce a model-based collaborative filtering recommendation system that allows for user input and returns the top 5 recommendations of movies from the dataset that the user has not yet rated. We primarily used the Surprise Python scikit library to process data and iterate through multiple recommender algorithms (including SVD and SVD++), using GridSearch, cross-validation and RMSE to decide on our best-performing model. Our final model used a tuned SVD algorithm with an RMSE of 0.8457. We also created a content-based filtering model, using TF-IDF Vectorizer and cosine similarity, to address the \"cold start\" problem inherent in collaborative filtering models. With this model, a user who is not already in the dataset can input a known movie from the dataset and be returned 5 movie recommendations to choose from, based on similar genre."
   ]
  },
  {
   "cell_type": "markdown",
   "metadata": {},
   "source": [
    "## Additional Citations\n",
    "\n",
    "- __[Daniel Burdeno Kindle e-book Recommendations](https://github.com/danielburdeno/Kindle-eBook-Recommendations)__\n",
    "- __[Amol Mavuduru using Surprise for Recommender System](https://github.com/AmolMavuduru/SurprisePythonExamples)__\n",
    "- __[Amol Mavduru blogpost about Surprise](https://towardsdatascience.com/how-you-can-build-simple-recommender-systems-with-surprise-b0d32a8e4802)__\n",
    "- __[Susan Li building recommender systems](https://towardsdatascience.com/building-and-testing-recommender-systems-with-surprise-step-by-step-d4ba702ef80b#:~:text=NormalPredictor%20algorithm%20predicts%20a%20random%20rating%20based%20on,algorithms%20that%20do%20not%20do%20much%20work.%20BaselineOnly)__\n",
    "-__[James Le blog on recommender systems etc](https://le-james94.medium.com/the-4-recommendation-engines-that-can-predict-your-movie-tastes-bbec857b8223)__\n",
    "- __[Surprise documentation on algorithms](https://surprise.readthedocs.io/en/stable/matrix_factorization.html#surprise.prediction_algorithms.matrix_factorization.SVD)__"
   ]
  },
  {
   "cell_type": "code",
   "execution_count": null,
   "metadata": {},
   "outputs": [],
   "source": []
  }
 ],
 "metadata": {
  "kernelspec": {
   "display_name": "Python (learn-env)",
   "language": "python",
   "name": "learn-env"
  },
  "language_info": {
   "codemirror_mode": {
    "name": "ipython",
    "version": 3
   },
   "file_extension": ".py",
   "mimetype": "text/x-python",
   "name": "python",
   "nbconvert_exporter": "python",
   "pygments_lexer": "ipython3",
   "version": "3.8.5"
  }
 },
 "nbformat": 4,
 "nbformat_minor": 4
}
